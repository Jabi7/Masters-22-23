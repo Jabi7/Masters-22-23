{
 "cells": [
  {
   "cell_type": "markdown",
   "id": "47b75b1d-63a1-4fa6-872a-760cbf5f1007",
   "metadata": {},
   "source": [
    "# Quantum agent normal form advice (proposal)"
   ]
  },
  {
   "cell_type": "markdown",
   "id": "fad6fac4-04bd-487e-b7ee-8d179e96ccf6",
   "metadata": {},
   "source": []
  },
  {
   "cell_type": "markdown",
   "id": "e134dca2-e975-45d7-b8c1-d3f6e2ac16fa",
   "metadata": {},
   "source": []
  },
  {
   "cell_type": "markdown",
   "id": "ce9a53e8-32f6-4949-8ad5-5036ecb9fe0c",
   "metadata": {},
   "source": [
    "## Examples\n",
    "\n",
    "### CHSH\n",
    "\n",
    "#### Classical\n",
    "<img src=\"diagrams/CANF chsh example.png\" width=\"800\" height=\"400\">\n",
    "\n",
    "#### Quantum\n",
    "<img src=\"diagrams/QANF chsh example.png\" width=\"800\" height=\"400\">"
   ]
  },
  {
   "cell_type": "code",
   "execution_count": null,
   "id": "3f9be2bf-f053-42b7-af7e-8561efab4873",
   "metadata": {},
   "outputs": [],
   "source": []
  }
 ],
 "metadata": {
  "kernelspec": {
   "display_name": "Python 3",
   "language": "python",
   "name": "python3"
  },
  "language_info": {
   "codemirror_mode": {
    "name": "ipython",
    "version": 3
   },
   "file_extension": ".py",
   "mimetype": "text/x-python",
   "name": "python",
   "nbconvert_exporter": "python",
   "pygments_lexer": "ipython3",
   "version": "3.9.5"
  }
 },
 "nbformat": 4,
 "nbformat_minor": 5
}
