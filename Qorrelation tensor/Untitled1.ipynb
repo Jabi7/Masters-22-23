{
 "cells": [
  {
   "cell_type": "code",
   "execution_count": null,
   "id": "56e23b99-8000-432c-aa5a-5616f17ca95a",
   "metadata": {},
   "outputs": [],
   "source": []
  }
 ],
 "metadata": {
  "kernelspec": {
   "display_name": "Python 3",
   "language": "python",
   "name": "python3"
  },
  "language_info": {
   "codemirror_mode": {
    "name": "ipython",
    "version": 3
   },
   "file_extension": ".py",
   "mimetype": "text/x-python",
   "name": "python",
   "nbconvert_exporter": "python",
   "pygments_lexer": "ipython3",
   "version": "3.9.5"
  }
 },
 "nbformat": 4,
 "nbformat_minor": 5
}
