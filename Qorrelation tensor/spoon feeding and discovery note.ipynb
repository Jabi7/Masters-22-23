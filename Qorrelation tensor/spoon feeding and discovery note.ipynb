{
 "cells": [
  {
   "cell_type": "markdown",
   "id": "568ebac1-0689-4932-81f8-82c7152dc5a8",
   "metadata": {},
   "source": [
    "Intuition spoon feeder note series"
   ]
  },
  {
   "cell_type": "markdown",
   "id": "4ef41b1b-ed04-4f71-8615-ccacdbfb0c47",
   "metadata": {},
   "source": [
    "# Function repressentation of correlation tensors"
   ]
  },
  {
   "cell_type": "markdown",
   "id": "9ce0befa-edcd-4495-ba4f-c877f37a2b38",
   "metadata": {},
   "source": [
    "### Example\n",
    "\n",
    "$X = \\{j,k,l\\}, \\,\\, Y = \\{1, 2\\}$, and $f(j) = 1, f(k) = 2, f(l) = 1$. Then the correlation tensor representaion of the function $f$ is $$F^x_y = \\begin{array}{l|ccc}\n",
    " y\\setminus x & j & k & l \\\\\n",
    "\\hline 1 &1 & 0 & 1\\\\\n",
    "2 & 0 & 1 & 0\n",
    "\\end{array}$$\n",
    "\n",
    "## random function\n",
    "\n",
    "### Example \n",
    "Take a coin as random varaible $c \\in \\{h, t\\}$, with $\\operatorname{Pr}\\{c = h\\} = \\operatorname{Pr}\\{c = t\\} = 0.5$. Lets have the random function $f(x, c)$ such that:\n",
    "\n",
    "$f(j, h) = 1, f(k, h) = 2, f(l, h) = 1$ and $f(j, t) = 2, f(k, t) = 1, f(l, t) = 1$,\n",
    "\n",
    "then $$F^x_y = \\begin{array}{l|ccc}\n",
    " y\\setminus x & j & k & l \\\\\n",
    "\\hline 1 &0.5 & 0.5 & 1\\\\\n",
    "2 & 0.5 & 0.5 & 0\n",
    "\\end{array}$$\n",
    "\n",
    "This is convex combination of correlation tensors $F^x_y = F^{x c}_y \\operatorname{Pr}_c$. That is, $$F^x_y = F^{x h}_y \\operatorname{Pr}_h + F^{x t}_y \\operatorname{Pr}_t = \\begin{bmatrix}\n",
    "1 & 0 & 1\\\\\n",
    "0 & 1 & 0\n",
    "\\end{bmatrix} \\times 0.5 + \\begin{bmatrix}\n",
    "0 & 1 & 1\\\\\n",
    "1 & 0 & 0\n",
    "\\end{bmatrix} \\times 0.5$$\n",
    "\n",
    "## General mixed map (noisy channel)\n",
    "\n",
    "### Example\n",
    "$$F^x_y = \\begin{array}{l|ccc}\n",
    " y\\setminus x & j & k & l \\\\\n",
    "\\hline1 & p &q  & r\\\\\n",
    "2 & 1-p & 1-q & 1-r\n",
    "\\end{array}$$\n",
    "\n",
    "This can or cannot be decombosed to a convex combination of pure functions. If not, this is outside the realm of random functions.  \n"
   ]
  },
  {
   "cell_type": "markdown",
   "id": "ad950d6d-3c64-4e9a-93ce-f0385a32df1c",
   "metadata": {},
   "source": [
    "# function product:\n",
    "\n",
    "suppose we have 2 funcitons $f: X \\longrightarrow Y$ and $g: A \\longrightarrow B$, I define their function product as: $$f \\times g : X \\times A \\longrightarrow Y \\times B$$\n",
    "\n",
    "The cooresponding correlation tensor representan is $F^x_y$ and $G^a_b$, then the representain of function product is: $$F^x_y \\otimes G^a_b$$ \n",
    "Its ok to omitt the tensor product symbol and write it as $F^x_y G^a_b$ since $F^x_y$ and $G^a_b$ are elements of tensor and represents the tensor at the same time, $F^x_y G^a_b$ is the \"product of tensor\" so the paraphrase \"tensor product\". \n",
    "\n"
   ]
  },
  {
   "cell_type": "markdown",
   "id": "59bc3dd8-11a7-4ca0-8c6c-a5e692c3bed5",
   "metadata": {},
   "source": [
    "#### Example\n",
    "\n",
    "$X = \\{j,k,l\\}, \\,\\, Y = \\{1, 2\\}$ and $F^x_y = \\begin{array}{l|cc}\n",
    " y\\setminus x & j & k & l \\\\\n",
    "\\hline 1 &1 & 0 & 1\\\\\n",
    "2 & 0 & 1 & 0\n",
    "\\end{array}$\n",
    "\n",
    "$A = \\{0, 1\\}, \\,\\, B = \\{d, o\\}$ and let $g(0) = o, g(1) = d$. Then we have, $G^x_y = \\begin{array}{l|cc}\n",
    " y\\setminus a & 0 & 1 \\\\\n",
    "\\hline d & 0 & 1\\\\\n",
    "o & 1 & 0\n",
    "\\end{array}$\n",
    "\n",
    "\n",
    "\n",
    "$$ \\operatorname{FG}^{xa}_{yb} = F^x_y G^a_b = \\begin{bmatrix}\n",
    "1 & 0 & 1\\\\\n",
    "0 & 1 & 0\n",
    "\\end{bmatrix} \\otimes \\begin{bmatrix}\n",
    " 0 & 1\\\\\n",
    "1 & 0\n",
    "\\end{bmatrix} = \\begin{array}{l|cc}\n",
    " (y,b)\\setminus (x,a)  & j,0 & j,1 & k,0 & k,1 & l,0 & l,1 \\\\\n",
    "\\hline 0,d &0 & 1 & 0 & 0 &0 & 1\\\\\n",
    "1,o & 1 & 0 &0 &0 &1 & 0 \\\\\n",
    "0,d &0 & 0 & 0 & 1 &0 & 0\\\\\n",
    "1,o & 0 & 0 &1 & 0 &0 & 0\n",
    "\\end{array}$$\n"
   ]
  },
  {
   "cell_type": "markdown",
   "id": "a5ab73ac-ce13-4862-8411-e3decf716eee",
   "metadata": {},
   "source": [
    "### Properties:\n",
    "\n",
    "1. $\\big \\{ f\\times g \\mid \\forall f \\in Y^X \\,\\, \\& \\,\\, \\forall g \\in B^A \\big \\} = (Y \\times B)^{(X \\times A)}$ \n",
    "\n",
    "    - Same property in correlation tensor notation: If $F\\big( Y^X \\big)$ denotes set of all correlation tensors representing each functions in $Y^X$, and $G\\big(B^A \\big)$ has the same notion, then $\\big \\{ F^x_y G^a_b \\mid \\forall F^x_y \\in F\\big( Y^X \\big) \\,\\, \\& \\,\\, \\forall  G^a_b \\in G\\big(B^A \\big) \\big \\} = \\operatorname{FG}\\big( (Y \\times B)^{(X \\times A)} \\big)$ \n",
    "\n",
    "\n",
    ".\n",
    "\n",
    "2. If $F\\big( \\Delta(Y^X) \\big)$ denotes set of all correlation tensors representing every random functions mapping from $X$ to $Y$ (or set of all convex combinations of pure $F^x_y$), and $G\\big( \\Delta(B^Y) \\big)$ has the same notion, then  $\\big \\{ F^x_y G^a_b \\mid \\forall F^x_y \\in F\\big( \\Delta(Y^X)\\big) \\,\\, \\& \\,\\, \\forall  G^a_b \\in G\\big(\\Delta(B^Y) \\big) \\big \\} \\subset \\operatorname{FG}\\Big( \\Delta \\big((Y \\times B)^{(X \\times A)}\\big) \\Big)$.  \n",
    "\n",
    "*proof:* Take any arbitary $F^x_y \\in F\\big( \\Delta(Y^X) \\big)$. Decompose it to the convex combination of pure functions, $F^{x p}_y P_p$, where $F^{x [p]}_y \\in F\\big( Y^X \\big)$. And an arbitary $G^a_b \\in G\\big(\\Delta(B^Y) \\big)$ and then decompose it to $G^{a \\gamma}_b \\Gamma_{\\gamma}$, where $G^{a [\\gamma]}_b \\in G\\big(B^A \\big)$. So we have $$\\operatorname{FG}^{xa}_{yb} = F^x_y G^a_b = F^{x p}_y P_p G^{a \\gamma}_b \\Gamma_{\\gamma} = \\operatorname{FG}^{xa p\\gamma}_{yb} \\operatorname{P\\Gamma}_{p \\gamma}$$\n",
    "where $\\operatorname{FG}^{xa [p\\gamma]}_{yb} \\in \\operatorname{FG}\\big( (Y \\times B)^{(X \\times A)} \\big)$. \n",
    "\n",
    "But $\\operatorname{P\\Gamma}_{p \\gamma} = P_p \\Gamma_{\\gamma}$ is a product distribution. If we have a non-seperable joint distribution $\\operatorname{P\\Gamma}_{p \\gamma} \\neq P_p \\Gamma_{\\gamma}$, then $\\operatorname{FG}^{xa p\\gamma}_{yb} \\operatorname{P\\Gamma}_{p \\gamma} \\in \\operatorname{FG}\\Big( \\Delta \\big((Y \\times B)^{(X \\times A)}\\big) \\Big)$, but $\\operatorname{FG}^{xa p\\gamma}_{yb} \\operatorname{P\\Gamma}_{p \\gamma} \\notin \\big \\{ F^x_y G^a_b \\mid \\forall F^x_y \\in F\\big( \\Delta(Y^X)\\big) \\,\\, \\& \\,\\, \\forall  G^a_b \\in G\\big(\\Delta(B^Y) \\big) \\big \\}$.\n",
    "\n",
    "This completes the proof.\n",
    "\n",
    "\n",
    "3. If $F\\big( \\Delta(Y)^X \\big)$ denotes set of all correlation tensors representing every general mixed mapping from $X$ to $Y$ (or noisy channels), and $G\\big( \\Delta(B)^Y \\big)$ has the same notion, then  $\\big \\{ F^x_y G^a_b \\mid \\forall F^x_y \\in F\\big( \\Delta(Y)^X\\big) \\,\\, \\& \\,\\, \\forall  G^a_b \\in G\\big(\\Delta(B\\big)^Y  \\big \\} \\supset \\text( or ) = \\text( or ) \\subset \\operatorname{FG}\\Big( \\Delta \\big((Y \\times B)^{(X \\times A)}\\big) \\Big)$**?** \n",
    "\n",
    "4.  $\\big \\{ F^x_y G^a_b \\mid \\forall F^x_y \\in F\\big( \\Delta(Y)^X\\big) \\,\\, \\& \\,\\, \\forall  G^a_b \\in G\\big(\\Delta(B\\big)^Y  \\big \\} \\subset \\operatorname{FG}\\Big( \\Delta \\big((Y \\times B)\\big)^{(X \\times A)} \\Big)$"
   ]
  },
  {
   "cell_type": "code",
   "execution_count": null,
   "id": "76482332-fecb-459b-b5b2-c1afd6c673cc",
   "metadata": {},
   "outputs": [],
   "source": []
  },
  {
   "cell_type": "markdown",
   "id": "16c52f21-a732-470b-ad41-0556e493acce",
   "metadata": {},
   "source": [
    "## Continous function or maps on non finite sets\n",
    "\n",
    "If $f$ is continous, then the correlation tensor $F^x_y$ is non-finite. But we have: $$F^x_y = \\int_y \\delta(y - f(x)) dy$$\n",
    "\n",
    "If $f$ is random, then we have a probability density function: $$F^x_y = \\rho(y,x) dy$$"
   ]
  },
  {
   "cell_type": "code",
   "execution_count": null,
   "id": "d489feb4-f8df-49c5-a386-aa9131aff993",
   "metadata": {},
   "outputs": [],
   "source": []
  },
  {
   "cell_type": "code",
   "execution_count": null,
   "id": "42999bfa-791f-41a8-953a-da08aff4b3d0",
   "metadata": {},
   "outputs": [],
   "source": []
  },
  {
   "cell_type": "code",
   "execution_count": null,
   "id": "f9291624-9d5b-4c9e-8f1c-916d4ba801f2",
   "metadata": {},
   "outputs": [],
   "source": []
  },
  {
   "cell_type": "code",
   "execution_count": null,
   "id": "557f3bc6-c407-45c0-8173-556b5c0a15bc",
   "metadata": {},
   "outputs": [],
   "source": []
  },
  {
   "cell_type": "code",
   "execution_count": null,
   "id": "d08933ce-6b47-4bcd-8e09-aaeea60111c7",
   "metadata": {},
   "outputs": [],
   "source": []
  },
  {
   "cell_type": "code",
   "execution_count": null,
   "id": "2a0c79b4-e279-4fd5-bdfb-47e1d4c1cde6",
   "metadata": {},
   "outputs": [],
   "source": []
  },
  {
   "cell_type": "markdown",
   "id": "ced70d17-1387-4d7d-861c-03f621e4f280",
   "metadata": {},
   "source": [
    "$$ \n",
    "\\usepackage{tikz}\n",
    "\\usetikzlibrary{calc,trees,positioning,arrows,fit,shapes,calc}\n",
    "\n",
    "\n",
    "\\begin{figure}\n",
    " \\centering\n",
    " \\begin{tikzpicture}[ele/.style={fill=black,circle,minimum width=.8pt,inner sep=1pt},every fit/.style={ellipse,draw,inner sep=-2pt}]\n",
    "  \\node[ele,label=left:$a$] (a1) at (0,4) {};    \n",
    "  \\node[ele,label=left:$b$] (a2) at (0,3) {};    \n",
    "  \\node[ele,label=left:$c$] (a3) at (0,2) {};\n",
    "  \\node[ele,label=left:$d$] (a4) at (0,1) {};\n",
    "\n",
    "  \\node[ele,,label=right:$1$] (b1) at (4,4) {};\n",
    "  \\node[ele,,label=right:$2$] (b2) at (4,3) {};\n",
    "  \\node[ele,,label=right:$3$] (b3) at (4,2) {};\n",
    "  \\node[ele,,label=right:$4$] (b4) at (4,1) {};\n",
    "\n",
    "  \\node[draw,fit= (a1) (a2) (a3) (a4),minimum width=2cm] {} ;\n",
    "  \\node[draw,fit= (b1) (b2) (b3) (b4),minimum width=2cm] {} ;  \n",
    "  \\draw[->,thick,shorten <=2pt,shorten >=2pt] (a1) -- (b4);\n",
    "  \\draw[->,thick,shorten <=2pt,shorten >=2] (a2) -- (b2);\n",
    "  \\draw[->,thick,shorten <=2pt,shorten >=2] (a3) -- (b1);\n",
    "  \\draw[->,thick,shorten <=2pt,shorten >=2] (a4) -- (b3);\n",
    " \\end{tikzpicture}\n",
    "\\end{figure}\n",
    " $$"
   ]
  },
  {
   "cell_type": "code",
   "execution_count": 5,
   "id": "b8bfb715-414d-48c5-b0b3-581d40bc374d",
   "metadata": {},
   "outputs": [
    {
     "data": {
      "text/latex": [
       "\n",
       "# \\usepackage{tikz}\n",
       "# \\usetikzlibrary{calc,trees,positioning,arrows,fit,shapes,calc}\n",
       "\n",
       "\n",
       "\\begin{figure}\n",
       " \\centering\n",
       " \\begin{tikzpicture}[ele/.style={fill=black,circle,minimum width=.8pt,inner sep=1pt},every fit/.style={ellipse,draw,inner sep=-2pt}]\n",
       "  \\node[ele,label=left:$a$] (a1) at (0,4) {};    \n",
       "  \\node[ele,label=left:$b$] (a2) at (0,3) {};    \n",
       "  \\node[ele,label=left:$c$] (a3) at (0,2) {};\n",
       "  \\node[ele,label=left:$d$] (a4) at (0,1) {};\n",
       "\n",
       "  \\node[ele,,label=right:$1$] (b1) at (4,4) {};\n",
       "  \\node[ele,,label=right:$2$] (b2) at (4,3) {};\n",
       "  \\node[ele,,label=right:$3$] (b3) at (4,2) {};\n",
       "  \\node[ele,,label=right:$4$] (b4) at (4,1) {};\n",
       "\n",
       "  \\node[draw,fit= (a1) (a2) (a3) (a4),minimum width=2cm] {} ;\n",
       "  \\node[draw,fit= (b1) (b2) (b3) (b4),minimum width=2cm] {} ;  \n",
       "  \\draw[->,thick,shorten <=2pt,shorten >=2pt] (a1) -- (b4);\n",
       "  \\draw[->,thick,shorten <=2pt,shorten >=2] (a2) -- (b2);\n",
       "  \\draw[->,thick,shorten <=2pt,shorten >=2] (a3) -- (b1);\n",
       "  \\draw[->,thick,shorten <=2pt,shorten >=2] (a4) -- (b3);\n",
       " \\end{tikzpicture}\n",
       "\\end{figure}\n",
       " \n"
      ],
      "text/plain": [
       "<IPython.core.display.Latex object>"
      ]
     },
     "metadata": {},
     "output_type": "display_data"
    }
   ],
   "source": [
    "%%latex\n",
    "\n",
    "\\usepackage{tikz}\n",
    "\\usetikzlibrary{calc,trees,positioning,arrows,fit,shapes,calc}\n",
    "\n",
    "\n",
    "\\begin{figure}\n",
    " \\centering\n",
    " \\begin{tikzpicture}[ele/.style={fill=black,circle,minimum width=.8pt,inner sep=1pt},every fit/.style={ellipse,draw,inner sep=-2pt}]\n",
    "  \\node[ele,label=left:$a$] (a1) at (0,4) {};    \n",
    "  \\node[ele,label=left:$b$] (a2) at (0,3) {};    \n",
    "  \\node[ele,label=left:$c$] (a3) at (0,2) {};\n",
    "  \\node[ele,label=left:$d$] (a4) at (0,1) {};\n",
    "\n",
    "  \\node[ele,,label=right:$1$] (b1) at (4,4) {};\n",
    "  \\node[ele,,label=right:$2$] (b2) at (4,3) {};\n",
    "  \\node[ele,,label=right:$3$] (b3) at (4,2) {};\n",
    "  \\node[ele,,label=right:$4$] (b4) at (4,1) {};\n",
    "\n",
    "  \\node[draw,fit= (a1) (a2) (a3) (a4),minimum width=2cm] {} ;\n",
    "  \\node[draw,fit= (b1) (b2) (b3) (b4),minimum width=2cm] {} ;  \n",
    "  \\draw[->,thick,shorten <=2pt,shorten >=2pt] (a1) -- (b4);\n",
    "  \\draw[->,thick,shorten <=2pt,shorten >=2] (a2) -- (b2);\n",
    "  \\draw[->,thick,shorten <=2pt,shorten >=2] (a3) -- (b1);\n",
    "  \\draw[->,thick,shorten <=2pt,shorten >=2] (a4) -- (b3);\n",
    " \\end{tikzpicture}\n",
    "\\end{figure}\n",
    " "
   ]
  },
  {
   "cell_type": "code",
   "execution_count": null,
   "id": "2b66df67-3dcd-4566-b741-cefd2b36b7cf",
   "metadata": {},
   "outputs": [],
   "source": []
  },
  {
   "cell_type": "markdown",
   "id": "7ccfb759-8a7a-43f7-ac59-c742898d2b5a",
   "metadata": {},
   "source": [
    "\n",
    "$\\begin{array}{|l|cc}\n",
    "\\hline & \\text { Treatment A } \\vline & \\text { Treatment B } \\\\\n",
    "\\hline \\text { John Smith } & 1 & 2 \\\\\n",
    "\\text { Jane Doe } & - & 3 \\\\\n",
    "\\text { Mary Johnson } & 4 & 5 \\\\\n",
    "\\hline\n",
    "\\end{array}$\n",
    "\n",
    "$\\begin{tabular}{|l|l|} \n",
    "\\hline\n",
    " &   \\\\ \n",
    "\\hline\n",
    " &   \\\\\n",
    "\\hline\n",
    "\\end{tabular}$\n"
   ]
  },
  {
   "cell_type": "markdown",
   "id": "5ef46175-55ba-45fd-a9ae-497bfcbdde37",
   "metadata": {},
   "source": [
    "$Q^{t}_{a}  = \\begin{bmatrix}\n",
    "1 & 1 \\\\\n",
    "0 & 0\n",
    "\\end{bmatrix}$\n",
    "\n",
    "$Q^{t}_{a}  = \\begin{array}{l|cc}\n",
    " a\\setminus t & t_1 & t_2 \\\\\n",
    "\\hline a_1 &1 & 1 \\\\\n",
    "a_2 & 0 & 0\n",
    "\\end{array}$"
   ]
  },
  {
   "cell_type": "code",
   "execution_count": null,
   "id": "dae2ee69-9561-4567-beba-76bc47ad8234",
   "metadata": {},
   "outputs": [],
   "source": []
  }
 ],
 "metadata": {
  "kernelspec": {
   "display_name": "Python 3",
   "language": "python",
   "name": "python3"
  },
  "language_info": {
   "codemirror_mode": {
    "name": "ipython",
    "version": 3
   },
   "file_extension": ".py",
   "mimetype": "text/x-python",
   "name": "python",
   "nbconvert_exporter": "python",
   "pygments_lexer": "ipython3",
   "version": "3.9.5"
  }
 },
 "nbformat": 4,
 "nbformat_minor": 5
}
