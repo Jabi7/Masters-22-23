{
 "cells": [
  {
   "cell_type": "code",
   "execution_count": 10,
   "id": "f700800b-388c-4ca4-82e7-fd6d49d35c2d",
   "metadata": {},
   "outputs": [],
   "source": [
    "from itertools import product as pr\n",
    "from sympy import Matrix as m, Symbol, latex, sqrt, sin, cos, simplify, Trace, Sum, expand, solve, lambdify\n",
    "from sympy.simplify.fu import fu, TR3\n",
    "from sympy.matrices import eye, zeros, ones, diag\n",
    "from sympy.physics.quantum import TensorProduct as tp, Dagger as dg\n",
    "from numpy import pi, around\n",
    "## trace\n",
    "def tr(m): \n",
    "    return Trace(m).simplify()"
   ]
  },
  {
   "cell_type": "code",
   "execution_count": 16,
   "id": "92ee6332-b0d3-4d4a-8a01-9f4364caec8d",
   "metadata": {},
   "outputs": [],
   "source": [
    "v = [[1,1,1,0], [0,0,0,1], [0,0,0,1],[1,1,1,0]]\n",
    "v = lambda t1, t2, a1, a2: 1 if t1*t2 == a1^a2 else 0 \n",
    "g = [lambda x: 0, lambda x: x, lambda x: x^1, lambda x: 1]"
   ]
  },
  {
   "cell_type": "code",
   "execution_count": 19,
   "id": "2eb47fe6-77f1-4525-ad35-ebd2c2f6beac",
   "metadata": {},
   "outputs": [],
   "source": [
    "V = m([[v(t1,t2, g[gm1](t1), g[gm2](t2)) for t1,t2 in list(pr([0,1],[0,1])) ] for gm1, gm2 in list(pr([0,1,2,3],[0,1,2,3]))]) "
   ]
  },
  {
   "cell_type": "code",
   "execution_count": 20,
   "id": "c313c698-23ac-4487-83cd-4c39c58a0714",
   "metadata": {},
   "outputs": [
    {
     "data": {
      "text/latex": [
       "$\\displaystyle \\left[\\begin{matrix}1 & 1 & 1 & 0\\\\1 & 0 & 1 & 1\\\\0 & 1 & 0 & 0\\\\0 & 0 & 0 & 1\\\\1 & 1 & 0 & 1\\\\1 & 0 & 0 & 0\\\\0 & 1 & 1 & 1\\\\0 & 0 & 1 & 0\\\\0 & 0 & 1 & 0\\\\0 & 1 & 1 & 1\\\\1 & 0 & 0 & 0\\\\1 & 1 & 0 & 1\\\\0 & 0 & 0 & 1\\\\0 & 1 & 0 & 0\\\\1 & 0 & 1 & 1\\\\1 & 1 & 1 & 0\\end{matrix}\\right]$"
      ],
      "text/plain": [
       "Matrix([\n",
       "[1, 1, 1, 0],\n",
       "[1, 0, 1, 1],\n",
       "[0, 1, 0, 0],\n",
       "[0, 0, 0, 1],\n",
       "[1, 1, 0, 1],\n",
       "[1, 0, 0, 0],\n",
       "[0, 1, 1, 1],\n",
       "[0, 0, 1, 0],\n",
       "[0, 0, 1, 0],\n",
       "[0, 1, 1, 1],\n",
       "[1, 0, 0, 0],\n",
       "[1, 1, 0, 1],\n",
       "[0, 0, 0, 1],\n",
       "[0, 1, 0, 0],\n",
       "[1, 0, 1, 1],\n",
       "[1, 1, 1, 0]])"
      ]
     },
     "execution_count": 20,
     "metadata": {},
     "output_type": "execute_result"
    }
   ],
   "source": [
    "V"
   ]
  },
  {
   "cell_type": "code",
   "execution_count": 13,
   "id": "37736106-af0d-4dd4-92d0-c1c8a8c0e2d0",
   "metadata": {},
   "outputs": [
    {
     "data": {
      "text/latex": [
       "$\\displaystyle \\left[\\begin{matrix}0 & 8\\\\9 & 7\\end{matrix}\\right]$"
      ],
      "text/plain": [
       "Matrix([\n",
       "[0, 8],\n",
       "[9, 7]])"
      ]
     },
     "execution_count": 13,
     "metadata": {},
     "output_type": "execute_result"
    }
   ],
   "source": [
    "m([[0,8],[9,7]])"
   ]
  },
  {
   "cell_type": "code",
   "execution_count": 18,
   "id": "a75a1571-4e0a-43d2-9ae3-713bc79a4163",
   "metadata": {},
   "outputs": [
    {
     "ename": "SyntaxError",
     "evalue": "unexpected EOF while parsing (<ipython-input-18-ad4a4eea1f5b>, line 1)",
     "output_type": "error",
     "traceback": [
      "\u001b[0;36m  Input \u001b[0;32mIn [18]\u001b[0;36m\u001b[0m\n\u001b[0;31m    list(pr([0,1],[0,1])\u001b[0m\n\u001b[0m                        ^\u001b[0m\n\u001b[0;31mSyntaxError\u001b[0m\u001b[0;31m:\u001b[0m unexpected EOF while parsing\n"
     ]
    }
   ],
   "source": [
    "list(pr([0,1],[0,1])"
   ]
  },
  {
   "cell_type": "code",
   "execution_count": null,
   "id": "d3d8736d-e36b-4fc9-b59e-54b1980fade3",
   "metadata": {},
   "outputs": [],
   "source": []
  }
 ],
 "metadata": {
  "kernelspec": {
   "display_name": "Python 3",
   "language": "python",
   "name": "python3"
  },
  "language_info": {
   "codemirror_mode": {
    "name": "ipython",
    "version": 3
   },
   "file_extension": ".py",
   "mimetype": "text/x-python",
   "name": "python",
   "nbconvert_exporter": "python",
   "pygments_lexer": "ipython3",
   "version": "3.9.5"
  }
 },
 "nbformat": 4,
 "nbformat_minor": 5
}
