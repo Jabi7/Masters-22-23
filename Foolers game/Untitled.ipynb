{
 "cells": [
  {
   "cell_type": "code",
   "execution_count": null,
   "id": "2d365e2d-d17f-401c-8e16-bcfc9aaa0232",
   "metadata": {},
   "outputs": [],
   "source": []
  },
  {
   "cell_type": "code",
   "execution_count": 66,
   "id": "53fd1d30-ad1d-42f5-825f-1783807bbec6",
   "metadata": {},
   "outputs": [],
   "source": [
    "from itertools import product as pr\n",
    "from sympy import Matrix, Symbol, latex, sqrt, sin, cos, simplify, Trace, Sum, expand, solve, lambdify\n",
    "from sympy.simplify.fu import fu, TR3\n",
    "from sympy.matrices import eye, zeros, ones, diag\n",
    "from sympy.physics.quantum import TensorProduct as tp, Dagger as dg\n",
    "from numpy import pi, around\n",
    "## trace\n",
    "def tr(m): \n",
    "    return Trace(m).simplify()"
   ]
  },
  {
   "cell_type": "code",
   "execution_count": 57,
   "id": "6cc6bcd8-e4fa-48bd-9575-f6efcb874cda",
   "metadata": {},
   "outputs": [
    {
     "data": {
      "text/latex": [
       "$\\displaystyle \\pi$"
      ],
      "text/plain": [
       "pi"
      ]
     },
     "execution_count": 57,
     "metadata": {},
     "output_type": "execute_result"
    }
   ],
   "source": []
  },
  {
   "cell_type": "code",
   "execution_count": null,
   "id": "ce27b50e-9c95-46c0-bc81-38d3d3e58482",
   "metadata": {},
   "outputs": [],
   "source": []
  },
  {
   "cell_type": "code",
   "execution_count": 79,
   "id": "d109fe40-6d23-4e18-b43b-670168834e7d",
   "metadata": {},
   "outputs": [],
   "source": [
    "b1, b2, b3, b4 = 0.5**0.5*Matrix([1,0,0,0,0,1]), 0.5**0.5*Matrix([1,0,0,-1]), 0.5**0.5*Matrix([0,1,1,0]), 0.5**0.5*Matrix([0,1,-1,0])\n",
    "rho =  lambda b: tp(b,dg(b))\n",
    "rho1, rho2, rho3, rho4 = tp(b1,dg(b1)), tp(b2,dg(b2)), tp(b3,dg(b3)), tp(b4,dg(b4))\n",
    "rhos = 1/4*ones(4,4)\n",
    "rhod = 1/4*diag(1,1,1,1)"
   ]
  },
  {
   "cell_type": "code",
   "execution_count": 170,
   "id": "eb5f64be-0e50-415e-b3d7-2ee976446196",
   "metadata": {},
   "outputs": [],
   "source": [
    "# type and actions\n",
    "T1, T2, A1, A2 = [0], [0,1], [0,1,2], [0,1]\n",
    "# Measure basis\n",
    "phi1 = [lambda th, ph: Matrix([cos(ph)*cos(th), sin(ph)*cos(th), sin(th)]), lambda th, ph: Matrix([cos(ph)*sin(th), sin(ph)*sin(th), -cos(th)]),  lambda th, ph: Matrix([-sin(ph), cos(ph), 0])]\n",
    "phi1i = [lambda th, ph: Matrix([cos(ph)*cos(th), 1j*sin(ph)*cos(th), sin(th)]), lambda th, ph: Matrix([cos(ph)*sin(th), 1j*sin(ph)*sin(th), -cos(th)]),  lambda th, ph: Matrix([-sin(ph), 1j*cos(ph), 0])]\n",
    "\n",
    "phi2 = [lambda th: Matrix([cos(th), sin(th)]), lambda th: Matrix([sin(th), -cos(th)])]\n",
    "phi2i = [lambda th: Matrix([cos(th), 1j*sin(th)]), lambda th: Matrix([sin(th), -1j*cos(th)])]\n",
    "th = lambda player, typ: Symbol('theta'+'_'+str(typ)+'^'+str(player), real = True) \n",
    "ph = lambda player, typ: Symbol('phi'+'_'+str(typ)+'^'+str(player), real = True)\n",
    "\n",
    "# pvm\n",
    "# M = [lambda player, typ: phi[a](th(player, typ))*phi[a](th(player, typ)).T for a in list([0,1])]\n",
    "M1 = [lambda player, typ: phi1[0](th(player, typ), ph(player, typ))*phi1[0](th(player, typ), ph(player, typ)).T, lambda player, typ: phi1[1](th(player, typ), ph(player, typ))*phi1[1](th(player, typ), ph(player, typ)).T, lambda player, typ: phi1[2](th(player, typ), ph(player, typ))*phi1[2](th(player, typ), ph(player, typ)).T]\n",
    "M2 = [lambda player, typ: phi2[0](th(player, typ))*phi2[0](th(player, typ)).T, lambda player, typ: phi2[1](th(player, typ))*phi2[1](th(player, typ)).T]\n",
    "\n",
    "M1i = [lambda player, typ: phi1i[0](th(player, typ), ph(player, typ))*phi1i[0](th(player, typ), ph(player, typ)).T, lambda player, typ: phi1i[1](th(player, typ), ph(player, typ))*phi1i[1](th(player, typ), ph(player, typ)).T, lambda player, typ: phi1i[2](th(player, typ), ph(player, typ))*phi1i[2](th(player, typ), ph(player, typ)).T]\n",
    "\n",
    "Mi = [lambda player, typ: phi2i[0](th(player, typ))*phi2i[0](th(player, typ)).H, lambda player, typ: phi2i[1](th(player, typ))*phi2i[1](th(player, typ)).H]\n",
    "## pvm numerical"
   ]
  },
  {
   "cell_type": "code",
   "execution_count": 196,
   "id": "a230c292-7e79-42b2-b877-466c8de211f1",
   "metadata": {},
   "outputs": [],
   "source": [
    "def nQ(Q, x,y,z,a):\n",
    "    f = lambdify([th(1,0), th(2,0), th(2,1), ph(1,0)], Q)\n",
    "    return around(f(x, y, z, a), decimals=3)\n",
    "\n",
    "def nQ1(Q, x, a, y1, b1, y2, b2):\n",
    "    f = lambdify([th(1,0), ph(1,0), th(2,0), ph(2,0), th(2,1), ph(2,1)], Q)\n",
    "    return around(f(x, a, y1, b1, y2, b2), decimals=3)\n",
    "\n"
   ]
  },
  {
   "cell_type": "code",
   "execution_count": 167,
   "id": "1dfd0d8d-a4f4-49cb-ac07-f9afe4200329",
   "metadata": {},
   "outputs": [
    {
     "data": {
      "text/latex": [
       "$\\displaystyle \\left[\\begin{matrix}0.5 \\sin^{2}{\\left(\\theta^{1}_{0} \\right)} \\sin^{2}{\\left(\\theta^{2}_{0} \\right)} + 0.5 \\cos^{2}{\\left(\\phi^{1}_{0} \\right)} \\cos^{2}{\\left(\\theta^{1}_{0} \\right)} \\cos^{2}{\\left(\\theta^{2}_{0} \\right)} & 0.5 \\sin^{2}{\\left(\\theta^{1}_{0} \\right)} \\sin^{2}{\\left(\\theta^{2}_{1} \\right)} + 0.5 \\cos^{2}{\\left(\\phi^{1}_{0} \\right)} \\cos^{2}{\\left(\\theta^{1}_{0} \\right)} \\cos^{2}{\\left(\\theta^{2}_{1} \\right)}\\\\0.5 \\sin^{2}{\\left(\\theta^{1}_{0} \\right)} \\cos^{2}{\\left(\\theta^{2}_{0} \\right)} + 0.5 \\sin^{2}{\\left(\\theta^{2}_{0} \\right)} \\cos^{2}{\\left(\\phi^{1}_{0} \\right)} \\cos^{2}{\\left(\\theta^{1}_{0} \\right)} & 0.5 \\sin^{2}{\\left(\\theta^{1}_{0} \\right)} \\cos^{2}{\\left(\\theta^{2}_{1} \\right)} + 0.5 \\sin^{2}{\\left(\\theta^{2}_{1} \\right)} \\cos^{2}{\\left(\\phi^{1}_{0} \\right)} \\cos^{2}{\\left(\\theta^{1}_{0} \\right)}\\\\0.5 \\sin^{2}{\\left(\\theta^{1}_{0} \\right)} \\cos^{2}{\\left(\\phi^{1}_{0} \\right)} \\cos^{2}{\\left(\\theta^{2}_{0} \\right)} + 0.5 \\sin^{2}{\\left(\\theta^{2}_{0} \\right)} \\cos^{2}{\\left(\\theta^{1}_{0} \\right)} & 0.5 \\sin^{2}{\\left(\\theta^{1}_{0} \\right)} \\cos^{2}{\\left(\\phi^{1}_{0} \\right)} \\cos^{2}{\\left(\\theta^{2}_{1} \\right)} + 0.5 \\sin^{2}{\\left(\\theta^{2}_{1} \\right)} \\cos^{2}{\\left(\\theta^{1}_{0} \\right)}\\\\0.5 \\sin^{2}{\\left(\\theta^{1}_{0} \\right)} \\sin^{2}{\\left(\\theta^{2}_{0} \\right)} \\cos^{2}{\\left(\\phi^{1}_{0} \\right)} + 0.5 \\cos^{2}{\\left(\\theta^{1}_{0} \\right)} \\cos^{2}{\\left(\\theta^{2}_{0} \\right)} & 0.5 \\sin^{2}{\\left(\\theta^{1}_{0} \\right)} \\sin^{2}{\\left(\\theta^{2}_{1} \\right)} \\cos^{2}{\\left(\\phi^{1}_{0} \\right)} + 0.5 \\cos^{2}{\\left(\\theta^{1}_{0} \\right)} \\cos^{2}{\\left(\\theta^{2}_{1} \\right)}\\\\0.5 \\sin^{2}{\\left(\\phi^{1}_{0} \\right)} \\cos^{2}{\\left(\\theta^{2}_{0} \\right)} & 0.5 \\sin^{2}{\\left(\\phi^{1}_{0} \\right)} \\cos^{2}{\\left(\\theta^{2}_{1} \\right)}\\\\0.5 \\sin^{2}{\\left(\\phi^{1}_{0} \\right)} \\sin^{2}{\\left(\\theta^{2}_{0} \\right)} & 0.5 \\sin^{2}{\\left(\\phi^{1}_{0} \\right)} \\sin^{2}{\\left(\\theta^{2}_{1} \\right)}\\end{matrix}\\right]$"
      ],
      "text/plain": [
       "Matrix([\n",
       "[0.5*sin(theta_0^1)**2*sin(theta_0^2)**2 + 0.5*cos(phi_0^1)**2*cos(theta_0^1)**2*cos(theta_0^2)**2, 0.5*sin(theta_0^1)**2*sin(theta_1^2)**2 + 0.5*cos(phi_0^1)**2*cos(theta_0^1)**2*cos(theta_1^2)**2],\n",
       "[0.5*sin(theta_0^1)**2*cos(theta_0^2)**2 + 0.5*sin(theta_0^2)**2*cos(phi_0^1)**2*cos(theta_0^1)**2, 0.5*sin(theta_0^1)**2*cos(theta_1^2)**2 + 0.5*sin(theta_1^2)**2*cos(phi_0^1)**2*cos(theta_0^1)**2],\n",
       "[0.5*sin(theta_0^1)**2*cos(phi_0^1)**2*cos(theta_0^2)**2 + 0.5*sin(theta_0^2)**2*cos(theta_0^1)**2, 0.5*sin(theta_0^1)**2*cos(phi_0^1)**2*cos(theta_1^2)**2 + 0.5*sin(theta_1^2)**2*cos(theta_0^1)**2],\n",
       "[0.5*sin(theta_0^1)**2*sin(theta_0^2)**2*cos(phi_0^1)**2 + 0.5*cos(theta_0^1)**2*cos(theta_0^2)**2, 0.5*sin(theta_0^1)**2*sin(theta_1^2)**2*cos(phi_0^1)**2 + 0.5*cos(theta_0^1)**2*cos(theta_1^2)**2],\n",
       "[                                                            0.5*sin(phi_0^1)**2*cos(theta_0^2)**2,                                                             0.5*sin(phi_0^1)**2*cos(theta_1^2)**2],\n",
       "[                                                            0.5*sin(phi_0^1)**2*sin(theta_0^2)**2,                                                             0.5*sin(phi_0^1)**2*sin(theta_1^2)**2]])"
      ]
     },
     "execution_count": 167,
     "metadata": {},
     "output_type": "execute_result"
    }
   ],
   "source": [
    "Q = Matrix([[simplify(tr(rho1*tp(M1[a1](1,t1), Mi[a2](2,t2)))) for (t1,t2) in list(pr(T1,T2))] for (a1,a2) in list(pr(A1,A2))])\n",
    "Q"
   ]
  },
  {
   "cell_type": "code",
   "execution_count": 169,
   "id": "36a77772-f807-4c6d-90fb-35f3eed890b0",
   "metadata": {},
   "outputs": [
    {
     "data": {
      "text/plain": [
       "array([[0.5, 0. ],\n",
       "       [0. , 0.5],\n",
       "       [0. , 0. ],\n",
       "       [0. , 0. ],\n",
       "       [0. , 0.5],\n",
       "       [0.5, 0. ]])"
      ]
     },
     "execution_count": 169,
     "metadata": {},
     "output_type": "execute_result"
    }
   ],
   "source": [
    "nQ(Q, pi/2, pi/2, 0, pi/2)"
   ]
  },
  {
   "cell_type": "code",
   "execution_count": 172,
   "id": "973af53c-073f-4e30-84ad-83644ec2d5aa",
   "metadata": {},
   "outputs": [
    {
     "data": {
      "text/latex": [
       "$\\displaystyle \\left[\\begin{matrix}0.5 \\left(\\sin{\\left(\\theta^{1}_{0} \\right)} \\sin{\\left(\\theta^{2}_{0} \\right)} + \\cos{\\left(\\phi^{1}_{0} \\right)} \\cos{\\left(\\phi^{2}_{0} \\right)} \\cos{\\left(\\theta^{1}_{0} \\right)} \\cos{\\left(\\theta^{2}_{0} \\right)}\\right)^{2} & 0.5 \\left(\\sin{\\left(\\theta^{1}_{0} \\right)} \\sin{\\left(\\theta^{2}_{1} \\right)} + \\cos{\\left(\\phi^{1}_{0} \\right)} \\cos{\\left(\\phi^{2}_{1} \\right)} \\cos{\\left(\\theta^{1}_{0} \\right)} \\cos{\\left(\\theta^{2}_{1} \\right)}\\right)^{2}\\\\0.5 \\left(\\sin{\\left(\\theta^{1}_{0} \\right)} \\cos{\\left(\\theta^{2}_{0} \\right)} - \\sin{\\left(\\theta^{2}_{0} \\right)} \\cos{\\left(\\phi^{1}_{0} \\right)} \\cos{\\left(\\phi^{2}_{0} \\right)} \\cos{\\left(\\theta^{1}_{0} \\right)}\\right)^{2} & 0.5 \\left(\\sin{\\left(\\theta^{1}_{0} \\right)} \\cos{\\left(\\theta^{2}_{1} \\right)} - \\sin{\\left(\\theta^{2}_{1} \\right)} \\cos{\\left(\\phi^{1}_{0} \\right)} \\cos{\\left(\\phi^{2}_{1} \\right)} \\cos{\\left(\\theta^{1}_{0} \\right)}\\right)^{2}\\\\0.5 \\sin^{2}{\\left(\\phi^{2}_{0} \\right)} \\cos^{2}{\\left(\\phi^{1}_{0} \\right)} \\cos^{2}{\\left(\\theta^{1}_{0} \\right)} & 0.5 \\sin^{2}{\\left(\\phi^{2}_{1} \\right)} \\cos^{2}{\\left(\\phi^{1}_{0} \\right)} \\cos^{2}{\\left(\\theta^{1}_{0} \\right)}\\\\0.5 \\left(\\sin{\\left(\\theta^{1}_{0} \\right)} \\cos{\\left(\\phi^{1}_{0} \\right)} \\cos{\\left(\\phi^{2}_{0} \\right)} \\cos{\\left(\\theta^{2}_{0} \\right)} - \\sin{\\left(\\theta^{2}_{0} \\right)} \\cos{\\left(\\theta^{1}_{0} \\right)}\\right)^{2} & 0.5 \\left(\\sin{\\left(\\theta^{1}_{0} \\right)} \\cos{\\left(\\phi^{1}_{0} \\right)} \\cos{\\left(\\phi^{2}_{1} \\right)} \\cos{\\left(\\theta^{2}_{1} \\right)} - \\sin{\\left(\\theta^{2}_{1} \\right)} \\cos{\\left(\\theta^{1}_{0} \\right)}\\right)^{2}\\\\0.5 \\left(\\sin{\\left(\\theta^{1}_{0} \\right)} \\sin{\\left(\\theta^{2}_{0} \\right)} \\cos{\\left(\\phi^{1}_{0} \\right)} \\cos{\\left(\\phi^{2}_{0} \\right)} + \\cos{\\left(\\theta^{1}_{0} \\right)} \\cos{\\left(\\theta^{2}_{0} \\right)}\\right)^{2} & 0.5 \\left(\\sin{\\left(\\theta^{1}_{0} \\right)} \\sin{\\left(\\theta^{2}_{1} \\right)} \\cos{\\left(\\phi^{1}_{0} \\right)} \\cos{\\left(\\phi^{2}_{1} \\right)} + \\cos{\\left(\\theta^{1}_{0} \\right)} \\cos{\\left(\\theta^{2}_{1} \\right)}\\right)^{2}\\\\0.5 \\sin^{2}{\\left(\\phi^{2}_{0} \\right)} \\sin^{2}{\\left(\\theta^{1}_{0} \\right)} \\cos^{2}{\\left(\\phi^{1}_{0} \\right)} & 0.5 \\sin^{2}{\\left(\\phi^{2}_{1} \\right)} \\sin^{2}{\\left(\\theta^{1}_{0} \\right)} \\cos^{2}{\\left(\\phi^{1}_{0} \\right)}\\\\0.5 \\sin^{2}{\\left(\\phi^{1}_{0} \\right)} \\cos^{2}{\\left(\\phi^{2}_{0} \\right)} \\cos^{2}{\\left(\\theta^{2}_{0} \\right)} & 0.5 \\sin^{2}{\\left(\\phi^{1}_{0} \\right)} \\cos^{2}{\\left(\\phi^{2}_{1} \\right)} \\cos^{2}{\\left(\\theta^{2}_{1} \\right)}\\\\0.5 \\sin^{2}{\\left(\\phi^{1}_{0} \\right)} \\sin^{2}{\\left(\\theta^{2}_{0} \\right)} \\cos^{2}{\\left(\\phi^{2}_{0} \\right)} & 0.5 \\sin^{2}{\\left(\\phi^{1}_{0} \\right)} \\sin^{2}{\\left(\\theta^{2}_{1} \\right)} \\cos^{2}{\\left(\\phi^{2}_{1} \\right)}\\\\0.5 \\sin^{2}{\\left(\\phi^{1}_{0} \\right)} \\sin^{2}{\\left(\\phi^{2}_{0} \\right)} & 0.5 \\sin^{2}{\\left(\\phi^{1}_{0} \\right)} \\sin^{2}{\\left(\\phi^{2}_{1} \\right)}\\end{matrix}\\right]$"
      ],
      "text/plain": [
       "Matrix([\n",
       "[0.5*(sin(theta_0^1)*sin(theta_0^2) + cos(phi_0^1)*cos(phi_0^2)*cos(theta_0^1)*cos(theta_0^2))**2, 0.5*(sin(theta_0^1)*sin(theta_1^2) + cos(phi_0^1)*cos(phi_1^2)*cos(theta_0^1)*cos(theta_1^2))**2],\n",
       "[0.5*(sin(theta_0^1)*cos(theta_0^2) - sin(theta_0^2)*cos(phi_0^1)*cos(phi_0^2)*cos(theta_0^1))**2, 0.5*(sin(theta_0^1)*cos(theta_1^2) - sin(theta_1^2)*cos(phi_0^1)*cos(phi_1^2)*cos(theta_0^1))**2],\n",
       "[                                           0.5*sin(phi_0^2)**2*cos(phi_0^1)**2*cos(theta_0^1)**2,                                            0.5*sin(phi_1^2)**2*cos(phi_0^1)**2*cos(theta_0^1)**2],\n",
       "[0.5*(sin(theta_0^1)*cos(phi_0^1)*cos(phi_0^2)*cos(theta_0^2) - sin(theta_0^2)*cos(theta_0^1))**2, 0.5*(sin(theta_0^1)*cos(phi_0^1)*cos(phi_1^2)*cos(theta_1^2) - sin(theta_1^2)*cos(theta_0^1))**2],\n",
       "[0.5*(sin(theta_0^1)*sin(theta_0^2)*cos(phi_0^1)*cos(phi_0^2) + cos(theta_0^1)*cos(theta_0^2))**2, 0.5*(sin(theta_0^1)*sin(theta_1^2)*cos(phi_0^1)*cos(phi_1^2) + cos(theta_0^1)*cos(theta_1^2))**2],\n",
       "[                                           0.5*sin(phi_0^2)**2*sin(theta_0^1)**2*cos(phi_0^1)**2,                                            0.5*sin(phi_1^2)**2*sin(theta_0^1)**2*cos(phi_0^1)**2],\n",
       "[                                           0.5*sin(phi_0^1)**2*cos(phi_0^2)**2*cos(theta_0^2)**2,                                            0.5*sin(phi_0^1)**2*cos(phi_1^2)**2*cos(theta_1^2)**2],\n",
       "[                                           0.5*sin(phi_0^1)**2*sin(theta_0^2)**2*cos(phi_0^2)**2,                                            0.5*sin(phi_0^1)**2*sin(theta_1^2)**2*cos(phi_1^2)**2],\n",
       "[                                                             0.5*sin(phi_0^1)**2*sin(phi_0^2)**2,                                                              0.5*sin(phi_0^1)**2*sin(phi_1^2)**2]])"
      ]
     },
     "execution_count": 172,
     "metadata": {},
     "output_type": "execute_result"
    }
   ],
   "source": [
    "Q = Matrix([[simplify(tr(rho((1/2)**0.5*Matrix([1,0,0,0,0,0,0,0,1]))*tp(M1[a1](1,t1), M1i[a2](2,t2)))) for (t1,t2) in list(pr(T1,T2))] for (a1,a2) in list(pr(A1,A1))])\n",
    "Q"
   ]
  },
  {
   "cell_type": "code",
   "execution_count": 180,
   "id": "2a72c055-bb9a-4b71-ba36-1e494006cd1b",
   "metadata": {},
   "outputs": [
    {
     "data": {
      "text/plain": [
       "array([[0.5  , 0.073],\n",
       "       [0.   , 0.427],\n",
       "       [0.   , 0.   ],\n",
       "       [0.   , 0.   ],\n",
       "       [0.   , 0.   ],\n",
       "       [0.   , 0.   ],\n",
       "       [0.   , 0.364],\n",
       "       [0.   , 0.062],\n",
       "       [0.5  , 0.073]])"
      ]
     },
     "execution_count": 180,
     "metadata": {},
     "output_type": "execute_result"
    }
   ],
   "source": [
    "nQ1(Q, pi/2, pi/2, pi/2, pi/2, pi/8, pi/8)"
   ]
  },
  {
   "cell_type": "code",
   "execution_count": 185,
   "id": "8a7bc905-75fe-401e-9939-dc60b4c38e54",
   "metadata": {},
   "outputs": [
    {
     "data": {
      "text/latex": [
       "$\\displaystyle \\left[\\begin{matrix}0.333333333333333 \\left(\\sin{\\left(\\theta^{1}_{0} \\right)} \\sin{\\left(\\theta^{2}_{0} \\right)} + \\cos{\\left(\\theta^{1}_{0} \\right)} \\cos{\\left(\\theta^{2}_{0} \\right)} \\cos{\\left(\\phi^{1}_{0} - \\phi^{2}_{0} \\right)}\\right) \\left(\\sin{\\left(\\theta^{1}_{0} \\right)} \\sin{\\left(\\theta^{2}_{0} \\right)} + \\cos{\\left(\\theta^{1}_{0} \\right)} \\cos{\\left(\\theta^{2}_{0} \\right)} \\cos{\\left(\\phi^{1}_{0} + \\phi^{2}_{0} \\right)}\\right) & 0.333333333333333 \\left(\\sin{\\left(\\theta^{1}_{0} \\right)} \\sin{\\left(\\theta^{2}_{1} \\right)} + \\cos{\\left(\\theta^{1}_{0} \\right)} \\cos{\\left(\\theta^{2}_{1} \\right)} \\cos{\\left(\\phi^{1}_{0} - \\phi^{2}_{1} \\right)}\\right) \\left(\\sin{\\left(\\theta^{1}_{0} \\right)} \\sin{\\left(\\theta^{2}_{1} \\right)} + \\cos{\\left(\\theta^{1}_{0} \\right)} \\cos{\\left(\\theta^{2}_{1} \\right)} \\cos{\\left(\\phi^{1}_{0} + \\phi^{2}_{1} \\right)}\\right)\\\\0.333333333333333 \\left(\\sin{\\left(\\theta^{1}_{0} \\right)} \\cos{\\left(\\theta^{2}_{0} \\right)} - \\sin{\\left(\\theta^{2}_{0} \\right)} \\cos{\\left(\\theta^{1}_{0} \\right)} \\cos{\\left(\\phi^{1}_{0} - \\phi^{2}_{0} \\right)}\\right) \\left(\\sin{\\left(\\theta^{1}_{0} \\right)} \\cos{\\left(\\theta^{2}_{0} \\right)} - \\sin{\\left(\\theta^{2}_{0} \\right)} \\cos{\\left(\\theta^{1}_{0} \\right)} \\cos{\\left(\\phi^{1}_{0} + \\phi^{2}_{0} \\right)}\\right) & 0.333333333333333 \\left(\\sin{\\left(\\theta^{1}_{0} \\right)} \\cos{\\left(\\theta^{2}_{1} \\right)} - \\sin{\\left(\\theta^{2}_{1} \\right)} \\cos{\\left(\\theta^{1}_{0} \\right)} \\cos{\\left(\\phi^{1}_{0} - \\phi^{2}_{1} \\right)}\\right) \\left(\\sin{\\left(\\theta^{1}_{0} \\right)} \\cos{\\left(\\theta^{2}_{1} \\right)} - \\sin{\\left(\\theta^{2}_{1} \\right)} \\cos{\\left(\\theta^{1}_{0} \\right)} \\cos{\\left(\\phi^{1}_{0} + \\phi^{2}_{1} \\right)}\\right)\\\\- 0.333333333333333 \\sin{\\left(\\phi^{1}_{0} - \\phi^{2}_{0} \\right)} \\sin{\\left(\\phi^{1}_{0} + \\phi^{2}_{0} \\right)} \\cos^{2}{\\left(\\theta^{1}_{0} \\right)} & - 0.333333333333333 \\sin{\\left(\\phi^{1}_{0} - \\phi^{2}_{1} \\right)} \\sin{\\left(\\phi^{1}_{0} + \\phi^{2}_{1} \\right)} \\cos^{2}{\\left(\\theta^{1}_{0} \\right)}\\\\0.333333333333333 \\left(\\sin{\\left(\\theta^{1}_{0} \\right)} \\cos{\\left(\\theta^{2}_{0} \\right)} \\cos{\\left(\\phi^{1}_{0} - \\phi^{2}_{0} \\right)} - \\sin{\\left(\\theta^{2}_{0} \\right)} \\cos{\\left(\\theta^{1}_{0} \\right)}\\right) \\left(\\sin{\\left(\\theta^{1}_{0} \\right)} \\cos{\\left(\\theta^{2}_{0} \\right)} \\cos{\\left(\\phi^{1}_{0} + \\phi^{2}_{0} \\right)} - \\sin{\\left(\\theta^{2}_{0} \\right)} \\cos{\\left(\\theta^{1}_{0} \\right)}\\right) & 0.333333333333333 \\left(\\sin{\\left(\\theta^{1}_{0} \\right)} \\cos{\\left(\\theta^{2}_{1} \\right)} \\cos{\\left(\\phi^{1}_{0} - \\phi^{2}_{1} \\right)} - \\sin{\\left(\\theta^{2}_{1} \\right)} \\cos{\\left(\\theta^{1}_{0} \\right)}\\right) \\left(\\sin{\\left(\\theta^{1}_{0} \\right)} \\cos{\\left(\\theta^{2}_{1} \\right)} \\cos{\\left(\\phi^{1}_{0} + \\phi^{2}_{1} \\right)} - \\sin{\\left(\\theta^{2}_{1} \\right)} \\cos{\\left(\\theta^{1}_{0} \\right)}\\right)\\\\0.333333333333333 \\left(\\sin{\\left(\\theta^{1}_{0} \\right)} \\sin{\\left(\\theta^{2}_{0} \\right)} \\cos{\\left(\\phi^{1}_{0} - \\phi^{2}_{0} \\right)} + \\cos{\\left(\\theta^{1}_{0} \\right)} \\cos{\\left(\\theta^{2}_{0} \\right)}\\right) \\left(\\sin{\\left(\\theta^{1}_{0} \\right)} \\sin{\\left(\\theta^{2}_{0} \\right)} \\cos{\\left(\\phi^{1}_{0} + \\phi^{2}_{0} \\right)} + \\cos{\\left(\\theta^{1}_{0} \\right)} \\cos{\\left(\\theta^{2}_{0} \\right)}\\right) & 0.333333333333333 \\left(\\sin{\\left(\\theta^{1}_{0} \\right)} \\sin{\\left(\\theta^{2}_{1} \\right)} \\cos{\\left(\\phi^{1}_{0} - \\phi^{2}_{1} \\right)} + \\cos{\\left(\\theta^{1}_{0} \\right)} \\cos{\\left(\\theta^{2}_{1} \\right)}\\right) \\left(\\sin{\\left(\\theta^{1}_{0} \\right)} \\sin{\\left(\\theta^{2}_{1} \\right)} \\cos{\\left(\\phi^{1}_{0} + \\phi^{2}_{1} \\right)} + \\cos{\\left(\\theta^{1}_{0} \\right)} \\cos{\\left(\\theta^{2}_{1} \\right)}\\right)\\\\- 0.333333333333333 \\sin^{2}{\\left(\\theta^{1}_{0} \\right)} \\sin{\\left(\\phi^{1}_{0} - \\phi^{2}_{0} \\right)} \\sin{\\left(\\phi^{1}_{0} + \\phi^{2}_{0} \\right)} & - 0.333333333333333 \\sin^{2}{\\left(\\theta^{1}_{0} \\right)} \\sin{\\left(\\phi^{1}_{0} - \\phi^{2}_{1} \\right)} \\sin{\\left(\\phi^{1}_{0} + \\phi^{2}_{1} \\right)}\\\\0.333333333333333 \\sin{\\left(\\phi^{1}_{0} - \\phi^{2}_{0} \\right)} \\sin{\\left(\\phi^{1}_{0} + \\phi^{2}_{0} \\right)} \\cos^{2}{\\left(\\theta^{2}_{0} \\right)} & 0.333333333333333 \\sin{\\left(\\phi^{1}_{0} - \\phi^{2}_{1} \\right)} \\sin{\\left(\\phi^{1}_{0} + \\phi^{2}_{1} \\right)} \\cos^{2}{\\left(\\theta^{2}_{1} \\right)}\\\\0.333333333333333 \\sin^{2}{\\left(\\theta^{2}_{0} \\right)} \\sin{\\left(\\phi^{1}_{0} - \\phi^{2}_{0} \\right)} \\sin{\\left(\\phi^{1}_{0} + \\phi^{2}_{0} \\right)} & 0.333333333333333 \\sin^{2}{\\left(\\theta^{2}_{1} \\right)} \\sin{\\left(\\phi^{1}_{0} - \\phi^{2}_{1} \\right)} \\sin{\\left(\\phi^{1}_{0} + \\phi^{2}_{1} \\right)}\\\\- 0.333333333333333 \\cos{\\left(\\phi^{1}_{0} - \\phi^{2}_{0} \\right)} \\cos{\\left(\\phi^{1}_{0} + \\phi^{2}_{0} \\right)} & - 0.333333333333333 \\cos{\\left(\\phi^{1}_{0} - \\phi^{2}_{1} \\right)} \\cos{\\left(\\phi^{1}_{0} + \\phi^{2}_{1} \\right)}\\end{matrix}\\right]$"
      ],
      "text/plain": [
       "Matrix([\n",
       "[0.333333333333333*(sin(theta_0^1)*sin(theta_0^2) + cos(theta_0^1)*cos(theta_0^2)*cos(phi_0^1 - phi_0^2))*(sin(theta_0^1)*sin(theta_0^2) + cos(theta_0^1)*cos(theta_0^2)*cos(phi_0^1 + phi_0^2)), 0.333333333333333*(sin(theta_0^1)*sin(theta_1^2) + cos(theta_0^1)*cos(theta_1^2)*cos(phi_0^1 - phi_1^2))*(sin(theta_0^1)*sin(theta_1^2) + cos(theta_0^1)*cos(theta_1^2)*cos(phi_0^1 + phi_1^2))],\n",
       "[0.333333333333333*(sin(theta_0^1)*cos(theta_0^2) - sin(theta_0^2)*cos(theta_0^1)*cos(phi_0^1 - phi_0^2))*(sin(theta_0^1)*cos(theta_0^2) - sin(theta_0^2)*cos(theta_0^1)*cos(phi_0^1 + phi_0^2)), 0.333333333333333*(sin(theta_0^1)*cos(theta_1^2) - sin(theta_1^2)*cos(theta_0^1)*cos(phi_0^1 - phi_1^2))*(sin(theta_0^1)*cos(theta_1^2) - sin(theta_1^2)*cos(theta_0^1)*cos(phi_0^1 + phi_1^2))],\n",
       "[                                                                                                             -0.333333333333333*sin(phi_0^1 - phi_0^2)*sin(phi_0^1 + phi_0^2)*cos(theta_0^1)**2,                                                                                                              -0.333333333333333*sin(phi_0^1 - phi_1^2)*sin(phi_0^1 + phi_1^2)*cos(theta_0^1)**2],\n",
       "[0.333333333333333*(sin(theta_0^1)*cos(theta_0^2)*cos(phi_0^1 - phi_0^2) - sin(theta_0^2)*cos(theta_0^1))*(sin(theta_0^1)*cos(theta_0^2)*cos(phi_0^1 + phi_0^2) - sin(theta_0^2)*cos(theta_0^1)), 0.333333333333333*(sin(theta_0^1)*cos(theta_1^2)*cos(phi_0^1 - phi_1^2) - sin(theta_1^2)*cos(theta_0^1))*(sin(theta_0^1)*cos(theta_1^2)*cos(phi_0^1 + phi_1^2) - sin(theta_1^2)*cos(theta_0^1))],\n",
       "[0.333333333333333*(sin(theta_0^1)*sin(theta_0^2)*cos(phi_0^1 - phi_0^2) + cos(theta_0^1)*cos(theta_0^2))*(sin(theta_0^1)*sin(theta_0^2)*cos(phi_0^1 + phi_0^2) + cos(theta_0^1)*cos(theta_0^2)), 0.333333333333333*(sin(theta_0^1)*sin(theta_1^2)*cos(phi_0^1 - phi_1^2) + cos(theta_0^1)*cos(theta_1^2))*(sin(theta_0^1)*sin(theta_1^2)*cos(phi_0^1 + phi_1^2) + cos(theta_0^1)*cos(theta_1^2))],\n",
       "[                                                                                                             -0.333333333333333*sin(theta_0^1)**2*sin(phi_0^1 - phi_0^2)*sin(phi_0^1 + phi_0^2),                                                                                                              -0.333333333333333*sin(theta_0^1)**2*sin(phi_0^1 - phi_1^2)*sin(phi_0^1 + phi_1^2)],\n",
       "[                                                                                                              0.333333333333333*sin(phi_0^1 - phi_0^2)*sin(phi_0^1 + phi_0^2)*cos(theta_0^2)**2,                                                                                                               0.333333333333333*sin(phi_0^1 - phi_1^2)*sin(phi_0^1 + phi_1^2)*cos(theta_1^2)**2],\n",
       "[                                                                                                              0.333333333333333*sin(theta_0^2)**2*sin(phi_0^1 - phi_0^2)*sin(phi_0^1 + phi_0^2),                                                                                                               0.333333333333333*sin(theta_1^2)**2*sin(phi_0^1 - phi_1^2)*sin(phi_0^1 + phi_1^2)],\n",
       "[                                                                                                                               -0.333333333333333*cos(phi_0^1 - phi_0^2)*cos(phi_0^1 + phi_0^2),                                                                                                                                -0.333333333333333*cos(phi_0^1 - phi_1^2)*cos(phi_0^1 + phi_1^2)]])"
      ]
     },
     "execution_count": 185,
     "metadata": {},
     "output_type": "execute_result"
    }
   ],
   "source": [
    "Q0 = Matrix([[simplify(tr(rho((1/3)**0.5*Matrix([1,0,0,0,-1j,0,0,0,1]))*tp(M1[a1](1,t1), M1i[a2](2,t2)))) for (t1,t2) in list(pr(T1,T2))] for (a1,a2) in list(pr(A1,A1))])\n",
    "Q0"
   ]
  },
  {
   "cell_type": "code",
   "execution_count": 189,
   "id": "be6e24b1-cb64-4436-9a7d-a07f3913ce0b",
   "metadata": {},
   "outputs": [
    {
     "data": {
      "text/plain": [
       "array([[ 0.333,  0.   ],\n",
       "       [ 0.   ,  0.333],\n",
       "       [ 0.   , -0.   ],\n",
       "       [-0.   ,  0.   ],\n",
       "       [-0.333,  0.   ],\n",
       "       [ 0.   , -0.333],\n",
       "       [-0.   ,  0.333],\n",
       "       [-0.   ,  0.   ],\n",
       "       [ 0.333, -0.   ]])"
      ]
     },
     "execution_count": 189,
     "metadata": {},
     "output_type": "execute_result"
    }
   ],
   "source": [
    "nQ1(Q0, pi/2, pi/2, pi/2, pi/2, 0, 0)"
   ]
  },
  {
   "cell_type": "code",
   "execution_count": 192,
   "id": "5193dfe6-dc4e-4421-931b-4fa7694b4b08",
   "metadata": {},
   "outputs": [
    {
     "data": {
      "text/latex": [
       "$\\displaystyle \\left[\\begin{matrix}0.666666666666667 i \\sin{\\left(\\phi^{1}_{0} \\right)} \\sin{\\left(\\phi^{2}_{0} \\right)} \\sin{\\left(\\theta^{1}_{0} \\right)} \\sin{\\left(\\theta^{2}_{0} \\right)} \\cos{\\left(\\theta^{1}_{0} \\right)} \\cos{\\left(\\theta^{2}_{0} \\right)} + 0.666666666666667 i \\sin{\\left(\\phi^{1}_{0} \\right)} \\sin{\\left(\\phi^{2}_{0} \\right)} \\cos{\\left(\\phi^{1}_{0} \\right)} \\cos{\\left(\\phi^{2}_{0} \\right)} \\cos^{2}{\\left(\\theta^{1}_{0} \\right)} \\cos^{2}{\\left(\\theta^{2}_{0} \\right)} + 0.666666666666667 \\sin{\\left(\\theta^{1}_{0} \\right)} \\sin{\\left(\\theta^{2}_{0} \\right)} \\cos{\\left(\\phi^{1}_{0} \\right)} \\cos{\\left(\\phi^{2}_{0} \\right)} \\cos{\\left(\\theta^{1}_{0} \\right)} \\cos{\\left(\\theta^{2}_{0} \\right)} + 0.333333333333333 \\cos^{2}{\\left(\\phi^{1}_{0} \\right)} \\cos^{2}{\\left(\\theta^{1}_{0} \\right)} \\cos^{2}{\\left(\\theta^{2}_{0} \\right)} + 0.333333333333333 \\cos^{2}{\\left(\\phi^{2}_{0} \\right)} \\cos^{2}{\\left(\\theta^{1}_{0} \\right)} \\cos^{2}{\\left(\\theta^{2}_{0} \\right)} - 0.333333333333333 \\cos^{2}{\\left(\\theta^{1}_{0} \\right)} - 0.333333333333333 \\cos^{2}{\\left(\\theta^{2}_{0} \\right)} + 0.333333333333333 & 0.666666666666667 i \\sin{\\left(\\phi^{1}_{0} \\right)} \\sin{\\left(\\phi^{2}_{1} \\right)} \\sin{\\left(\\theta^{1}_{0} \\right)} \\sin{\\left(\\theta^{2}_{1} \\right)} \\cos{\\left(\\theta^{1}_{0} \\right)} \\cos{\\left(\\theta^{2}_{1} \\right)} + 0.666666666666667 i \\sin{\\left(\\phi^{1}_{0} \\right)} \\sin{\\left(\\phi^{2}_{1} \\right)} \\cos{\\left(\\phi^{1}_{0} \\right)} \\cos{\\left(\\phi^{2}_{1} \\right)} \\cos^{2}{\\left(\\theta^{1}_{0} \\right)} \\cos^{2}{\\left(\\theta^{2}_{1} \\right)} + 0.666666666666667 \\sin{\\left(\\theta^{1}_{0} \\right)} \\sin{\\left(\\theta^{2}_{1} \\right)} \\cos{\\left(\\phi^{1}_{0} \\right)} \\cos{\\left(\\phi^{2}_{1} \\right)} \\cos{\\left(\\theta^{1}_{0} \\right)} \\cos{\\left(\\theta^{2}_{1} \\right)} + 0.333333333333333 \\cos^{2}{\\left(\\phi^{1}_{0} \\right)} \\cos^{2}{\\left(\\theta^{1}_{0} \\right)} \\cos^{2}{\\left(\\theta^{2}_{1} \\right)} + 0.333333333333333 \\cos^{2}{\\left(\\phi^{2}_{1} \\right)} \\cos^{2}{\\left(\\theta^{1}_{0} \\right)} \\cos^{2}{\\left(\\theta^{2}_{1} \\right)} - 0.333333333333333 \\cos^{2}{\\left(\\theta^{1}_{0} \\right)} - 0.333333333333333 \\cos^{2}{\\left(\\theta^{2}_{1} \\right)} + 0.333333333333333\\\\- 0.333333333333333 \\sin^{2}{\\left(\\phi^{1}_{0} \\right)} \\sin^{2}{\\left(\\phi^{2}_{0} \\right)} \\sin^{2}{\\left(\\theta^{2}_{0} \\right)} \\cos^{2}{\\left(\\theta^{1}_{0} \\right)} - 0.666666666666667 i \\sin{\\left(\\phi^{1}_{0} \\right)} \\sin{\\left(\\phi^{2}_{0} \\right)} \\sin{\\left(\\theta^{1}_{0} \\right)} \\sin{\\left(\\theta^{2}_{0} \\right)} \\cos{\\left(\\theta^{1}_{0} \\right)} \\cos{\\left(\\theta^{2}_{0} \\right)} + 0.666666666666667 i \\sin{\\left(\\phi^{1}_{0} \\right)} \\sin{\\left(\\phi^{2}_{0} \\right)} \\sin^{2}{\\left(\\theta^{2}_{0} \\right)} \\cos{\\left(\\phi^{1}_{0} \\right)} \\cos{\\left(\\phi^{2}_{0} \\right)} \\cos^{2}{\\left(\\theta^{1}_{0} \\right)} + 0.333333333333333 \\sin^{2}{\\left(\\theta^{1}_{0} \\right)} \\cos^{2}{\\left(\\theta^{2}_{0} \\right)} - 0.666666666666667 \\sin{\\left(\\theta^{1}_{0} \\right)} \\sin{\\left(\\theta^{2}_{0} \\right)} \\cos{\\left(\\phi^{1}_{0} \\right)} \\cos{\\left(\\phi^{2}_{0} \\right)} \\cos{\\left(\\theta^{1}_{0} \\right)} \\cos{\\left(\\theta^{2}_{0} \\right)} + 0.333333333333333 \\sin^{2}{\\left(\\theta^{2}_{0} \\right)} \\cos^{2}{\\left(\\phi^{1}_{0} \\right)} \\cos^{2}{\\left(\\phi^{2}_{0} \\right)} \\cos^{2}{\\left(\\theta^{1}_{0} \\right)} & - 0.333333333333333 \\sin^{2}{\\left(\\phi^{1}_{0} \\right)} \\sin^{2}{\\left(\\phi^{2}_{1} \\right)} \\sin^{2}{\\left(\\theta^{2}_{1} \\right)} \\cos^{2}{\\left(\\theta^{1}_{0} \\right)} - 0.666666666666667 i \\sin{\\left(\\phi^{1}_{0} \\right)} \\sin{\\left(\\phi^{2}_{1} \\right)} \\sin{\\left(\\theta^{1}_{0} \\right)} \\sin{\\left(\\theta^{2}_{1} \\right)} \\cos{\\left(\\theta^{1}_{0} \\right)} \\cos{\\left(\\theta^{2}_{1} \\right)} + 0.666666666666667 i \\sin{\\left(\\phi^{1}_{0} \\right)} \\sin{\\left(\\phi^{2}_{1} \\right)} \\sin^{2}{\\left(\\theta^{2}_{1} \\right)} \\cos{\\left(\\phi^{1}_{0} \\right)} \\cos{\\left(\\phi^{2}_{1} \\right)} \\cos^{2}{\\left(\\theta^{1}_{0} \\right)} + 0.333333333333333 \\sin^{2}{\\left(\\theta^{1}_{0} \\right)} \\cos^{2}{\\left(\\theta^{2}_{1} \\right)} - 0.666666666666667 \\sin{\\left(\\theta^{1}_{0} \\right)} \\sin{\\left(\\theta^{2}_{1} \\right)} \\cos{\\left(\\phi^{1}_{0} \\right)} \\cos{\\left(\\phi^{2}_{1} \\right)} \\cos{\\left(\\theta^{1}_{0} \\right)} \\cos{\\left(\\theta^{2}_{1} \\right)} + 0.333333333333333 \\sin^{2}{\\left(\\theta^{2}_{1} \\right)} \\cos^{2}{\\left(\\phi^{1}_{0} \\right)} \\cos^{2}{\\left(\\phi^{2}_{1} \\right)} \\cos^{2}{\\left(\\theta^{1}_{0} \\right)}\\\\\\left(0.166666666666667 \\cos{\\left(2 \\phi^{1}_{0} \\right)} - 0.166666666666667 \\cos{\\left(2 \\phi^{2}_{0} \\right)} - 0.0833333333333333 i \\cos{\\left(2 \\phi^{1}_{0} - 2 \\phi^{2}_{0} \\right)} + 0.0833333333333333 i \\cos{\\left(2 \\phi^{1}_{0} + 2 \\phi^{2}_{0} \\right)}\\right) \\cos^{2}{\\left(\\theta^{1}_{0} \\right)} & \\left(0.166666666666667 \\cos{\\left(2 \\phi^{1}_{0} \\right)} - 0.166666666666667 \\cos{\\left(2 \\phi^{2}_{1} \\right)} - 0.0833333333333333 i \\cos{\\left(2 \\phi^{1}_{0} - 2 \\phi^{2}_{1} \\right)} + 0.0833333333333333 i \\cos{\\left(2 \\phi^{1}_{0} + 2 \\phi^{2}_{1} \\right)}\\right) \\cos^{2}{\\left(\\theta^{1}_{0} \\right)}\\\\- 0.333333333333333 \\sin^{2}{\\left(\\phi^{1}_{0} \\right)} \\sin^{2}{\\left(\\phi^{2}_{0} \\right)} \\sin^{2}{\\left(\\theta^{1}_{0} \\right)} \\cos^{2}{\\left(\\theta^{2}_{0} \\right)} + 0.666666666666667 i \\sin{\\left(\\phi^{1}_{0} \\right)} \\sin{\\left(\\phi^{2}_{0} \\right)} \\sin^{2}{\\left(\\theta^{1}_{0} \\right)} \\cos{\\left(\\phi^{1}_{0} \\right)} \\cos{\\left(\\phi^{2}_{0} \\right)} \\cos^{2}{\\left(\\theta^{2}_{0} \\right)} - 0.666666666666667 i \\sin{\\left(\\phi^{1}_{0} \\right)} \\sin{\\left(\\phi^{2}_{0} \\right)} \\sin{\\left(\\theta^{1}_{0} \\right)} \\sin{\\left(\\theta^{2}_{0} \\right)} \\cos{\\left(\\theta^{1}_{0} \\right)} \\cos{\\left(\\theta^{2}_{0} \\right)} + 0.333333333333333 \\sin^{2}{\\left(\\theta^{1}_{0} \\right)} \\cos^{2}{\\left(\\phi^{1}_{0} \\right)} \\cos^{2}{\\left(\\phi^{2}_{0} \\right)} \\cos^{2}{\\left(\\theta^{2}_{0} \\right)} - 0.666666666666667 \\sin{\\left(\\theta^{1}_{0} \\right)} \\sin{\\left(\\theta^{2}_{0} \\right)} \\cos{\\left(\\phi^{1}_{0} \\right)} \\cos{\\left(\\phi^{2}_{0} \\right)} \\cos{\\left(\\theta^{1}_{0} \\right)} \\cos{\\left(\\theta^{2}_{0} \\right)} + 0.333333333333333 \\sin^{2}{\\left(\\theta^{2}_{0} \\right)} \\cos^{2}{\\left(\\theta^{1}_{0} \\right)} & - 0.333333333333333 \\sin^{2}{\\left(\\phi^{1}_{0} \\right)} \\sin^{2}{\\left(\\phi^{2}_{1} \\right)} \\sin^{2}{\\left(\\theta^{1}_{0} \\right)} \\cos^{2}{\\left(\\theta^{2}_{1} \\right)} + 0.666666666666667 i \\sin{\\left(\\phi^{1}_{0} \\right)} \\sin{\\left(\\phi^{2}_{1} \\right)} \\sin^{2}{\\left(\\theta^{1}_{0} \\right)} \\cos{\\left(\\phi^{1}_{0} \\right)} \\cos{\\left(\\phi^{2}_{1} \\right)} \\cos^{2}{\\left(\\theta^{2}_{1} \\right)} - 0.666666666666667 i \\sin{\\left(\\phi^{1}_{0} \\right)} \\sin{\\left(\\phi^{2}_{1} \\right)} \\sin{\\left(\\theta^{1}_{0} \\right)} \\sin{\\left(\\theta^{2}_{1} \\right)} \\cos{\\left(\\theta^{1}_{0} \\right)} \\cos{\\left(\\theta^{2}_{1} \\right)} + 0.333333333333333 \\sin^{2}{\\left(\\theta^{1}_{0} \\right)} \\cos^{2}{\\left(\\phi^{1}_{0} \\right)} \\cos^{2}{\\left(\\phi^{2}_{1} \\right)} \\cos^{2}{\\left(\\theta^{2}_{1} \\right)} - 0.666666666666667 \\sin{\\left(\\theta^{1}_{0} \\right)} \\sin{\\left(\\theta^{2}_{1} \\right)} \\cos{\\left(\\phi^{1}_{0} \\right)} \\cos{\\left(\\phi^{2}_{1} \\right)} \\cos{\\left(\\theta^{1}_{0} \\right)} \\cos{\\left(\\theta^{2}_{1} \\right)} + 0.333333333333333 \\sin^{2}{\\left(\\theta^{2}_{1} \\right)} \\cos^{2}{\\left(\\theta^{1}_{0} \\right)}\\\\- 0.333333333333333 \\sin^{2}{\\left(\\phi^{1}_{0} \\right)} \\sin^{2}{\\left(\\phi^{2}_{0} \\right)} \\sin^{2}{\\left(\\theta^{1}_{0} \\right)} \\sin^{2}{\\left(\\theta^{2}_{0} \\right)} + 0.666666666666667 i \\sin{\\left(\\phi^{1}_{0} \\right)} \\sin{\\left(\\phi^{2}_{0} \\right)} \\sin^{2}{\\left(\\theta^{1}_{0} \\right)} \\sin^{2}{\\left(\\theta^{2}_{0} \\right)} \\cos{\\left(\\phi^{1}_{0} \\right)} \\cos{\\left(\\phi^{2}_{0} \\right)} + 0.666666666666667 i \\sin{\\left(\\phi^{1}_{0} \\right)} \\sin{\\left(\\phi^{2}_{0} \\right)} \\sin{\\left(\\theta^{1}_{0} \\right)} \\sin{\\left(\\theta^{2}_{0} \\right)} \\cos{\\left(\\theta^{1}_{0} \\right)} \\cos{\\left(\\theta^{2}_{0} \\right)} + 0.333333333333333 \\sin^{2}{\\left(\\theta^{1}_{0} \\right)} \\sin^{2}{\\left(\\theta^{2}_{0} \\right)} \\cos^{2}{\\left(\\phi^{1}_{0} \\right)} \\cos^{2}{\\left(\\phi^{2}_{0} \\right)} + 0.666666666666667 \\sin{\\left(\\theta^{1}_{0} \\right)} \\sin{\\left(\\theta^{2}_{0} \\right)} \\cos{\\left(\\phi^{1}_{0} \\right)} \\cos{\\left(\\phi^{2}_{0} \\right)} \\cos{\\left(\\theta^{1}_{0} \\right)} \\cos{\\left(\\theta^{2}_{0} \\right)} + 0.333333333333333 \\cos^{2}{\\left(\\theta^{1}_{0} \\right)} \\cos^{2}{\\left(\\theta^{2}_{0} \\right)} & - 0.333333333333333 \\sin^{2}{\\left(\\phi^{1}_{0} \\right)} \\sin^{2}{\\left(\\phi^{2}_{1} \\right)} \\sin^{2}{\\left(\\theta^{1}_{0} \\right)} \\sin^{2}{\\left(\\theta^{2}_{1} \\right)} + 0.666666666666667 i \\sin{\\left(\\phi^{1}_{0} \\right)} \\sin{\\left(\\phi^{2}_{1} \\right)} \\sin^{2}{\\left(\\theta^{1}_{0} \\right)} \\sin^{2}{\\left(\\theta^{2}_{1} \\right)} \\cos{\\left(\\phi^{1}_{0} \\right)} \\cos{\\left(\\phi^{2}_{1} \\right)} + 0.666666666666667 i \\sin{\\left(\\phi^{1}_{0} \\right)} \\sin{\\left(\\phi^{2}_{1} \\right)} \\sin{\\left(\\theta^{1}_{0} \\right)} \\sin{\\left(\\theta^{2}_{1} \\right)} \\cos{\\left(\\theta^{1}_{0} \\right)} \\cos{\\left(\\theta^{2}_{1} \\right)} + 0.333333333333333 \\sin^{2}{\\left(\\theta^{1}_{0} \\right)} \\sin^{2}{\\left(\\theta^{2}_{1} \\right)} \\cos^{2}{\\left(\\phi^{1}_{0} \\right)} \\cos^{2}{\\left(\\phi^{2}_{1} \\right)} + 0.666666666666667 \\sin{\\left(\\theta^{1}_{0} \\right)} \\sin{\\left(\\theta^{2}_{1} \\right)} \\cos{\\left(\\phi^{1}_{0} \\right)} \\cos{\\left(\\phi^{2}_{1} \\right)} \\cos{\\left(\\theta^{1}_{0} \\right)} \\cos{\\left(\\theta^{2}_{1} \\right)} + 0.333333333333333 \\cos^{2}{\\left(\\theta^{1}_{0} \\right)} \\cos^{2}{\\left(\\theta^{2}_{1} \\right)}\\\\\\left(0.166666666666667 \\cos{\\left(2 \\phi^{1}_{0} \\right)} - 0.166666666666667 \\cos{\\left(2 \\phi^{2}_{0} \\right)} - 0.0833333333333333 i \\cos{\\left(2 \\phi^{1}_{0} - 2 \\phi^{2}_{0} \\right)} + 0.0833333333333333 i \\cos{\\left(2 \\phi^{1}_{0} + 2 \\phi^{2}_{0} \\right)}\\right) \\sin^{2}{\\left(\\theta^{1}_{0} \\right)} & \\left(0.166666666666667 \\cos{\\left(2 \\phi^{1}_{0} \\right)} - 0.166666666666667 \\cos{\\left(2 \\phi^{2}_{1} \\right)} - 0.0833333333333333 i \\cos{\\left(2 \\phi^{1}_{0} - 2 \\phi^{2}_{1} \\right)} + 0.0833333333333333 i \\cos{\\left(2 \\phi^{1}_{0} + 2 \\phi^{2}_{1} \\right)}\\right) \\sin^{2}{\\left(\\theta^{1}_{0} \\right)}\\\\\\left(- 0.166666666666667 \\cos{\\left(2 \\phi^{1}_{0} \\right)} + 0.166666666666667 \\cos{\\left(2 \\phi^{2}_{0} \\right)} - 0.0833333333333333 i \\cos{\\left(2 \\phi^{1}_{0} - 2 \\phi^{2}_{0} \\right)} + 0.0833333333333333 i \\cos{\\left(2 \\phi^{1}_{0} + 2 \\phi^{2}_{0} \\right)}\\right) \\cos^{2}{\\left(\\theta^{2}_{0} \\right)} & \\left(- 0.166666666666667 \\cos{\\left(2 \\phi^{1}_{0} \\right)} + 0.166666666666667 \\cos{\\left(2 \\phi^{2}_{1} \\right)} - 0.0833333333333333 i \\cos{\\left(2 \\phi^{1}_{0} - 2 \\phi^{2}_{1} \\right)} + 0.0833333333333333 i \\cos{\\left(2 \\phi^{1}_{0} + 2 \\phi^{2}_{1} \\right)}\\right) \\cos^{2}{\\left(\\theta^{2}_{1} \\right)}\\\\\\left(- 0.166666666666667 \\cos{\\left(2 \\phi^{1}_{0} \\right)} + 0.166666666666667 \\cos{\\left(2 \\phi^{2}_{0} \\right)} - 0.0833333333333333 i \\cos{\\left(2 \\phi^{1}_{0} - 2 \\phi^{2}_{0} \\right)} + 0.0833333333333333 i \\cos{\\left(2 \\phi^{1}_{0} + 2 \\phi^{2}_{0} \\right)}\\right) \\sin^{2}{\\left(\\theta^{2}_{0} \\right)} & \\left(- 0.166666666666667 \\cos{\\left(2 \\phi^{1}_{0} \\right)} + 0.166666666666667 \\cos{\\left(2 \\phi^{2}_{1} \\right)} - 0.0833333333333333 i \\cos{\\left(2 \\phi^{1}_{0} - 2 \\phi^{2}_{1} \\right)} + 0.0833333333333333 i \\cos{\\left(2 \\phi^{1}_{0} + 2 \\phi^{2}_{1} \\right)}\\right) \\sin^{2}{\\left(\\theta^{2}_{1} \\right)}\\\\- 0.166666666666667 \\cos{\\left(2 \\phi^{1}_{0} \\right)} - 0.166666666666667 \\cos{\\left(2 \\phi^{2}_{0} \\right)} + 0.0833333333333333 i \\cos{\\left(2 \\phi^{1}_{0} - 2 \\phi^{2}_{0} \\right)} - 0.0833333333333333 i \\cos{\\left(2 \\phi^{1}_{0} + 2 \\phi^{2}_{0} \\right)} & - 0.166666666666667 \\cos{\\left(2 \\phi^{1}_{0} \\right)} - 0.166666666666667 \\cos{\\left(2 \\phi^{2}_{1} \\right)} + 0.0833333333333333 i \\cos{\\left(2 \\phi^{1}_{0} - 2 \\phi^{2}_{1} \\right)} - 0.0833333333333333 i \\cos{\\left(2 \\phi^{1}_{0} + 2 \\phi^{2}_{1} \\right)}\\end{matrix}\\right]$"
      ],
      "text/plain": [
       "Matrix([\n",
       "[0.666666666666667*I*sin(phi_0^1)*sin(phi_0^2)*sin(theta_0^1)*sin(theta_0^2)*cos(theta_0^1)*cos(theta_0^2) + 0.666666666666667*I*sin(phi_0^1)*sin(phi_0^2)*cos(phi_0^1)*cos(phi_0^2)*cos(theta_0^1)**2*cos(theta_0^2)**2 + 0.666666666666667*sin(theta_0^1)*sin(theta_0^2)*cos(phi_0^1)*cos(phi_0^2)*cos(theta_0^1)*cos(theta_0^2) + 0.333333333333333*cos(phi_0^1)**2*cos(theta_0^1)**2*cos(theta_0^2)**2 + 0.333333333333333*cos(phi_0^2)**2*cos(theta_0^1)**2*cos(theta_0^2)**2 - 0.333333333333333*cos(theta_0^1)**2 - 0.333333333333333*cos(theta_0^2)**2 + 0.333333333333333, 0.666666666666667*I*sin(phi_0^1)*sin(phi_1^2)*sin(theta_0^1)*sin(theta_1^2)*cos(theta_0^1)*cos(theta_1^2) + 0.666666666666667*I*sin(phi_0^1)*sin(phi_1^2)*cos(phi_0^1)*cos(phi_1^2)*cos(theta_0^1)**2*cos(theta_1^2)**2 + 0.666666666666667*sin(theta_0^1)*sin(theta_1^2)*cos(phi_0^1)*cos(phi_1^2)*cos(theta_0^1)*cos(theta_1^2) + 0.333333333333333*cos(phi_0^1)**2*cos(theta_0^1)**2*cos(theta_1^2)**2 + 0.333333333333333*cos(phi_1^2)**2*cos(theta_0^1)**2*cos(theta_1^2)**2 - 0.333333333333333*cos(theta_0^1)**2 - 0.333333333333333*cos(theta_1^2)**2 + 0.333333333333333],\n",
       "[       -0.333333333333333*sin(phi_0^1)**2*sin(phi_0^2)**2*sin(theta_0^2)**2*cos(theta_0^1)**2 - 0.666666666666667*I*sin(phi_0^1)*sin(phi_0^2)*sin(theta_0^1)*sin(theta_0^2)*cos(theta_0^1)*cos(theta_0^2) + 0.666666666666667*I*sin(phi_0^1)*sin(phi_0^2)*sin(theta_0^2)**2*cos(phi_0^1)*cos(phi_0^2)*cos(theta_0^1)**2 + 0.333333333333333*sin(theta_0^1)**2*cos(theta_0^2)**2 - 0.666666666666667*sin(theta_0^1)*sin(theta_0^2)*cos(phi_0^1)*cos(phi_0^2)*cos(theta_0^1)*cos(theta_0^2) + 0.333333333333333*sin(theta_0^2)**2*cos(phi_0^1)**2*cos(phi_0^2)**2*cos(theta_0^1)**2,        -0.333333333333333*sin(phi_0^1)**2*sin(phi_1^2)**2*sin(theta_1^2)**2*cos(theta_0^1)**2 - 0.666666666666667*I*sin(phi_0^1)*sin(phi_1^2)*sin(theta_0^1)*sin(theta_1^2)*cos(theta_0^1)*cos(theta_1^2) + 0.666666666666667*I*sin(phi_0^1)*sin(phi_1^2)*sin(theta_1^2)**2*cos(phi_0^1)*cos(phi_1^2)*cos(theta_0^1)**2 + 0.333333333333333*sin(theta_0^1)**2*cos(theta_1^2)**2 - 0.666666666666667*sin(theta_0^1)*sin(theta_1^2)*cos(phi_0^1)*cos(phi_1^2)*cos(theta_0^1)*cos(theta_1^2) + 0.333333333333333*sin(theta_1^2)**2*cos(phi_0^1)**2*cos(phi_1^2)**2*cos(theta_0^1)**2],\n",
       "[                                                                                                                                                                                                                                                                                                                                                                                      (0.166666666666667*cos(2*phi_0^1) - 0.166666666666667*cos(2*phi_0^2) - 0.0833333333333333*I*cos(2*phi_0^1 - 2*phi_0^2) + 0.0833333333333333*I*cos(2*phi_0^1 + 2*phi_0^2))*cos(theta_0^1)**2,                                                                                                                                                                                                                                                                                                                                                                                       (0.166666666666667*cos(2*phi_0^1) - 0.166666666666667*cos(2*phi_1^2) - 0.0833333333333333*I*cos(2*phi_0^1 - 2*phi_1^2) + 0.0833333333333333*I*cos(2*phi_0^1 + 2*phi_1^2))*cos(theta_0^1)**2],\n",
       "[       -0.333333333333333*sin(phi_0^1)**2*sin(phi_0^2)**2*sin(theta_0^1)**2*cos(theta_0^2)**2 + 0.666666666666667*I*sin(phi_0^1)*sin(phi_0^2)*sin(theta_0^1)**2*cos(phi_0^1)*cos(phi_0^2)*cos(theta_0^2)**2 - 0.666666666666667*I*sin(phi_0^1)*sin(phi_0^2)*sin(theta_0^1)*sin(theta_0^2)*cos(theta_0^1)*cos(theta_0^2) + 0.333333333333333*sin(theta_0^1)**2*cos(phi_0^1)**2*cos(phi_0^2)**2*cos(theta_0^2)**2 - 0.666666666666667*sin(theta_0^1)*sin(theta_0^2)*cos(phi_0^1)*cos(phi_0^2)*cos(theta_0^1)*cos(theta_0^2) + 0.333333333333333*sin(theta_0^2)**2*cos(theta_0^1)**2,        -0.333333333333333*sin(phi_0^1)**2*sin(phi_1^2)**2*sin(theta_0^1)**2*cos(theta_1^2)**2 + 0.666666666666667*I*sin(phi_0^1)*sin(phi_1^2)*sin(theta_0^1)**2*cos(phi_0^1)*cos(phi_1^2)*cos(theta_1^2)**2 - 0.666666666666667*I*sin(phi_0^1)*sin(phi_1^2)*sin(theta_0^1)*sin(theta_1^2)*cos(theta_0^1)*cos(theta_1^2) + 0.333333333333333*sin(theta_0^1)**2*cos(phi_0^1)**2*cos(phi_1^2)**2*cos(theta_1^2)**2 - 0.666666666666667*sin(theta_0^1)*sin(theta_1^2)*cos(phi_0^1)*cos(phi_1^2)*cos(theta_0^1)*cos(theta_1^2) + 0.333333333333333*sin(theta_1^2)**2*cos(theta_0^1)**2],\n",
       "[       -0.333333333333333*sin(phi_0^1)**2*sin(phi_0^2)**2*sin(theta_0^1)**2*sin(theta_0^2)**2 + 0.666666666666667*I*sin(phi_0^1)*sin(phi_0^2)*sin(theta_0^1)**2*sin(theta_0^2)**2*cos(phi_0^1)*cos(phi_0^2) + 0.666666666666667*I*sin(phi_0^1)*sin(phi_0^2)*sin(theta_0^1)*sin(theta_0^2)*cos(theta_0^1)*cos(theta_0^2) + 0.333333333333333*sin(theta_0^1)**2*sin(theta_0^2)**2*cos(phi_0^1)**2*cos(phi_0^2)**2 + 0.666666666666667*sin(theta_0^1)*sin(theta_0^2)*cos(phi_0^1)*cos(phi_0^2)*cos(theta_0^1)*cos(theta_0^2) + 0.333333333333333*cos(theta_0^1)**2*cos(theta_0^2)**2,        -0.333333333333333*sin(phi_0^1)**2*sin(phi_1^2)**2*sin(theta_0^1)**2*sin(theta_1^2)**2 + 0.666666666666667*I*sin(phi_0^1)*sin(phi_1^2)*sin(theta_0^1)**2*sin(theta_1^2)**2*cos(phi_0^1)*cos(phi_1^2) + 0.666666666666667*I*sin(phi_0^1)*sin(phi_1^2)*sin(theta_0^1)*sin(theta_1^2)*cos(theta_0^1)*cos(theta_1^2) + 0.333333333333333*sin(theta_0^1)**2*sin(theta_1^2)**2*cos(phi_0^1)**2*cos(phi_1^2)**2 + 0.666666666666667*sin(theta_0^1)*sin(theta_1^2)*cos(phi_0^1)*cos(phi_1^2)*cos(theta_0^1)*cos(theta_1^2) + 0.333333333333333*cos(theta_0^1)**2*cos(theta_1^2)**2],\n",
       "[                                                                                                                                                                                                                                                                                                                                                                                      (0.166666666666667*cos(2*phi_0^1) - 0.166666666666667*cos(2*phi_0^2) - 0.0833333333333333*I*cos(2*phi_0^1 - 2*phi_0^2) + 0.0833333333333333*I*cos(2*phi_0^1 + 2*phi_0^2))*sin(theta_0^1)**2,                                                                                                                                                                                                                                                                                                                                                                                       (0.166666666666667*cos(2*phi_0^1) - 0.166666666666667*cos(2*phi_1^2) - 0.0833333333333333*I*cos(2*phi_0^1 - 2*phi_1^2) + 0.0833333333333333*I*cos(2*phi_0^1 + 2*phi_1^2))*sin(theta_0^1)**2],\n",
       "[                                                                                                                                                                                                                                                                                                                                                                                     (-0.166666666666667*cos(2*phi_0^1) + 0.166666666666667*cos(2*phi_0^2) - 0.0833333333333333*I*cos(2*phi_0^1 - 2*phi_0^2) + 0.0833333333333333*I*cos(2*phi_0^1 + 2*phi_0^2))*cos(theta_0^2)**2,                                                                                                                                                                                                                                                                                                                                                                                      (-0.166666666666667*cos(2*phi_0^1) + 0.166666666666667*cos(2*phi_1^2) - 0.0833333333333333*I*cos(2*phi_0^1 - 2*phi_1^2) + 0.0833333333333333*I*cos(2*phi_0^1 + 2*phi_1^2))*cos(theta_1^2)**2],\n",
       "[                                                                                                                                                                                                                                                                                                                                                                                     (-0.166666666666667*cos(2*phi_0^1) + 0.166666666666667*cos(2*phi_0^2) - 0.0833333333333333*I*cos(2*phi_0^1 - 2*phi_0^2) + 0.0833333333333333*I*cos(2*phi_0^1 + 2*phi_0^2))*sin(theta_0^2)**2,                                                                                                                                                                                                                                                                                                                                                                                      (-0.166666666666667*cos(2*phi_0^1) + 0.166666666666667*cos(2*phi_1^2) - 0.0833333333333333*I*cos(2*phi_0^1 - 2*phi_1^2) + 0.0833333333333333*I*cos(2*phi_0^1 + 2*phi_1^2))*sin(theta_1^2)**2],\n",
       "[                                                                                                                                                                                                                                                                                                                                                                                                         -0.166666666666667*cos(2*phi_0^1) - 0.166666666666667*cos(2*phi_0^2) + 0.0833333333333333*I*cos(2*phi_0^1 - 2*phi_0^2) - 0.0833333333333333*I*cos(2*phi_0^1 + 2*phi_0^2),                                                                                                                                                                                                                                                                                                                                                                                                          -0.166666666666667*cos(2*phi_0^1) - 0.166666666666667*cos(2*phi_1^2) + 0.0833333333333333*I*cos(2*phi_0^1 - 2*phi_1^2) - 0.0833333333333333*I*cos(2*phi_0^1 + 2*phi_1^2)]])"
      ]
     },
     "execution_count": 192,
     "metadata": {},
     "output_type": "execute_result"
    }
   ],
   "source": [
    "Q1 = Matrix([[simplify(tr(rho((1/3)**0.5*Matrix([1,0,0,0,1,0,0,0,1]))*tp(M1[a1](1,t1), M1i[a2](2,t2)))) for (t1,t2) in list(pr(T1,T2))] for (a1,a2) in list(pr(A1,A1))])\n",
    "Q1"
   ]
  },
  {
   "cell_type": "code",
   "execution_count": 256,
   "id": "78ee8f57-3e54-4be0-98ce-21fcd80013f0",
   "metadata": {},
   "outputs": [
    {
     "data": {
      "text/latex": [
       "$\\displaystyle \\left[\\begin{matrix}0.333333333333333 \\left(\\sin{\\left(\\theta^{1}_{0} \\right)} \\sin{\\left(\\theta^{2}_{0} \\right)} + \\cos{\\left(\\theta^{1}_{0} \\right)} \\cos{\\left(\\theta^{2}_{0} \\right)} \\cos{\\left(\\phi^{1}_{0} - \\phi^{2}_{0} \\right)}\\right)^{2} & 0.333333333333333 \\left(\\sin{\\left(\\theta^{1}_{0} \\right)} \\sin{\\left(\\theta^{2}_{1} \\right)} + \\cos{\\left(\\theta^{1}_{0} \\right)} \\cos{\\left(\\theta^{2}_{1} \\right)} \\cos{\\left(\\phi^{1}_{0} - \\phi^{2}_{1} \\right)}\\right)^{2}\\\\0.333333333333333 \\left(\\sin{\\left(\\theta^{1}_{0} \\right)} \\cos{\\left(\\theta^{2}_{0} \\right)} - \\sin{\\left(\\theta^{2}_{0} \\right)} \\cos{\\left(\\theta^{1}_{0} \\right)} \\cos{\\left(\\phi^{1}_{0} - \\phi^{2}_{0} \\right)}\\right)^{2} & 0.333333333333333 \\left(\\sin{\\left(\\theta^{1}_{0} \\right)} \\cos{\\left(\\theta^{2}_{1} \\right)} - \\sin{\\left(\\theta^{2}_{1} \\right)} \\cos{\\left(\\theta^{1}_{0} \\right)} \\cos{\\left(\\phi^{1}_{0} - \\phi^{2}_{1} \\right)}\\right)^{2}\\\\0.333333333333333 \\sin^{2}{\\left(\\phi^{1}_{0} - \\phi^{2}_{0} \\right)} \\cos^{2}{\\left(\\theta^{1}_{0} \\right)} & 0.333333333333333 \\sin^{2}{\\left(\\phi^{1}_{0} - \\phi^{2}_{1} \\right)} \\cos^{2}{\\left(\\theta^{1}_{0} \\right)}\\\\0.333333333333333 \\left(\\sin{\\left(\\theta^{1}_{0} \\right)} \\cos{\\left(\\theta^{2}_{0} \\right)} \\cos{\\left(\\phi^{1}_{0} - \\phi^{2}_{0} \\right)} - \\sin{\\left(\\theta^{2}_{0} \\right)} \\cos{\\left(\\theta^{1}_{0} \\right)}\\right)^{2} & 0.333333333333333 \\left(\\sin{\\left(\\theta^{1}_{0} \\right)} \\cos{\\left(\\theta^{2}_{1} \\right)} \\cos{\\left(\\phi^{1}_{0} - \\phi^{2}_{1} \\right)} - \\sin{\\left(\\theta^{2}_{1} \\right)} \\cos{\\left(\\theta^{1}_{0} \\right)}\\right)^{2}\\\\0.333333333333333 \\left(\\sin{\\left(\\theta^{1}_{0} \\right)} \\sin{\\left(\\theta^{2}_{0} \\right)} \\cos{\\left(\\phi^{1}_{0} - \\phi^{2}_{0} \\right)} + \\cos{\\left(\\theta^{1}_{0} \\right)} \\cos{\\left(\\theta^{2}_{0} \\right)}\\right)^{2} & 0.333333333333333 \\left(\\sin{\\left(\\theta^{1}_{0} \\right)} \\sin{\\left(\\theta^{2}_{1} \\right)} \\cos{\\left(\\phi^{1}_{0} - \\phi^{2}_{1} \\right)} + \\cos{\\left(\\theta^{1}_{0} \\right)} \\cos{\\left(\\theta^{2}_{1} \\right)}\\right)^{2}\\\\0.333333333333333 \\sin^{2}{\\left(\\theta^{1}_{0} \\right)} \\sin^{2}{\\left(\\phi^{1}_{0} - \\phi^{2}_{0} \\right)} & 0.333333333333333 \\sin^{2}{\\left(\\theta^{1}_{0} \\right)} \\sin^{2}{\\left(\\phi^{1}_{0} - \\phi^{2}_{1} \\right)}\\\\0.333333333333333 \\sin^{2}{\\left(\\phi^{1}_{0} - \\phi^{2}_{0} \\right)} \\cos^{2}{\\left(\\theta^{2}_{0} \\right)} & 0.333333333333333 \\sin^{2}{\\left(\\phi^{1}_{0} - \\phi^{2}_{1} \\right)} \\cos^{2}{\\left(\\theta^{2}_{1} \\right)}\\\\0.333333333333333 \\sin^{2}{\\left(\\theta^{2}_{0} \\right)} \\sin^{2}{\\left(\\phi^{1}_{0} - \\phi^{2}_{0} \\right)} & 0.333333333333333 \\sin^{2}{\\left(\\theta^{2}_{1} \\right)} \\sin^{2}{\\left(\\phi^{1}_{0} - \\phi^{2}_{1} \\right)}\\\\0.333333333333333 \\cos^{2}{\\left(\\phi^{1}_{0} - \\phi^{2}_{0} \\right)} & 0.333333333333333 \\cos^{2}{\\left(\\phi^{1}_{0} - \\phi^{2}_{1} \\right)}\\end{matrix}\\right]$"
      ],
      "text/plain": [
       "Matrix([\n",
       "[0.333333333333333*(sin(theta_0^1)*sin(theta_0^2) + cos(theta_0^1)*cos(theta_0^2)*cos(phi_0^1 - phi_0^2))**2, 0.333333333333333*(sin(theta_0^1)*sin(theta_1^2) + cos(theta_0^1)*cos(theta_1^2)*cos(phi_0^1 - phi_1^2))**2],\n",
       "[0.333333333333333*(sin(theta_0^1)*cos(theta_0^2) - sin(theta_0^2)*cos(theta_0^1)*cos(phi_0^1 - phi_0^2))**2, 0.333333333333333*(sin(theta_0^1)*cos(theta_1^2) - sin(theta_1^2)*cos(theta_0^1)*cos(phi_0^1 - phi_1^2))**2],\n",
       "[                                              0.333333333333333*sin(phi_0^1 - phi_0^2)**2*cos(theta_0^1)**2,                                               0.333333333333333*sin(phi_0^1 - phi_1^2)**2*cos(theta_0^1)**2],\n",
       "[0.333333333333333*(sin(theta_0^1)*cos(theta_0^2)*cos(phi_0^1 - phi_0^2) - sin(theta_0^2)*cos(theta_0^1))**2, 0.333333333333333*(sin(theta_0^1)*cos(theta_1^2)*cos(phi_0^1 - phi_1^2) - sin(theta_1^2)*cos(theta_0^1))**2],\n",
       "[0.333333333333333*(sin(theta_0^1)*sin(theta_0^2)*cos(phi_0^1 - phi_0^2) + cos(theta_0^1)*cos(theta_0^2))**2, 0.333333333333333*(sin(theta_0^1)*sin(theta_1^2)*cos(phi_0^1 - phi_1^2) + cos(theta_0^1)*cos(theta_1^2))**2],\n",
       "[                                              0.333333333333333*sin(theta_0^1)**2*sin(phi_0^1 - phi_0^2)**2,                                               0.333333333333333*sin(theta_0^1)**2*sin(phi_0^1 - phi_1^2)**2],\n",
       "[                                              0.333333333333333*sin(phi_0^1 - phi_0^2)**2*cos(theta_0^2)**2,                                               0.333333333333333*sin(phi_0^1 - phi_1^2)**2*cos(theta_1^2)**2],\n",
       "[                                              0.333333333333333*sin(theta_0^2)**2*sin(phi_0^1 - phi_0^2)**2,                                               0.333333333333333*sin(theta_1^2)**2*sin(phi_0^1 - phi_1^2)**2],\n",
       "[                                                                0.333333333333333*cos(phi_0^1 - phi_0^2)**2,                                                                 0.333333333333333*cos(phi_0^1 - phi_1^2)**2]])"
      ]
     },
     "execution_count": 256,
     "metadata": {},
     "output_type": "execute_result"
    }
   ],
   "source": [
    "Qt10 = Matrix([[simplify(tr(rho((1/3)**0.5*Matrix([1,0,0,0,1,0,0,0,1]))*tp(M1[a1](1,t1), M1[a2](2,t2)))) for (t1,t2) in list(pr(T1,T2))] for (a1,a2) in list(pr(A1,A1))])\n",
    "Qt10"
   ]
  },
  {
   "cell_type": "code",
   "execution_count": 258,
   "id": "24df414d-cc64-4722-98a5-5c1d013b3f82",
   "metadata": {},
   "outputs": [
    {
     "data": {
      "text/plain": [
       "array([[0.032, 0.099],\n",
       "       [0.302, 0.084],\n",
       "       [0.   , 0.151],\n",
       "       [0.302, 0.084],\n",
       "       [0.032, 0.234],\n",
       "       [0.   , 0.016],\n",
       "       [0.   , 0.151],\n",
       "       [0.   , 0.016],\n",
       "       [0.333, 0.167]])"
      ]
     },
     "execution_count": 258,
     "metadata": {},
     "output_type": "execute_result"
    }
   ],
   "source": [
    "nQ1(Qt10, pi/10, pi/2, pi/2, pi/2, pi/10, -pi/4)"
   ]
  },
  {
   "cell_type": "code",
   "execution_count": 236,
   "id": "1e89cac0-ebba-4c53-937b-207717c742d0",
   "metadata": {},
   "outputs": [
    {
     "data": {
      "text/latex": [
       "$\\displaystyle \\left[\\begin{matrix}0.2 \\sin^{2}{\\left(\\phi^{1}_{0} \\right)} \\sin^{2}{\\left(\\phi^{2}_{0} \\right)} \\cos^{2}{\\left(\\theta^{1}_{0} \\right)} \\cos^{2}{\\left(\\theta^{2}_{0} \\right)} + 0.565685424949238 \\sin{\\left(\\phi^{1}_{0} \\right)} \\sin{\\left(\\phi^{2}_{0} \\right)} \\sin{\\left(\\theta^{1}_{0} \\right)} \\sin{\\left(\\theta^{2}_{0} \\right)} \\cos{\\left(\\theta^{1}_{0} \\right)} \\cos{\\left(\\theta^{2}_{0} \\right)} + 0.565685424949238 \\sin{\\left(\\phi^{1}_{0} \\right)} \\sin{\\left(\\phi^{2}_{0} \\right)} \\cos{\\left(\\phi^{1}_{0} \\right)} \\cos{\\left(\\phi^{2}_{0} \\right)} \\cos^{2}{\\left(\\theta^{1}_{0} \\right)} \\cos^{2}{\\left(\\theta^{2}_{0} \\right)} + 0.4 \\sin^{2}{\\left(\\theta^{1}_{0} \\right)} \\sin^{2}{\\left(\\theta^{2}_{0} \\right)} + 0.8 \\sin{\\left(\\theta^{1}_{0} \\right)} \\sin{\\left(\\theta^{2}_{0} \\right)} \\cos{\\left(\\phi^{1}_{0} \\right)} \\cos{\\left(\\phi^{2}_{0} \\right)} \\cos{\\left(\\theta^{1}_{0} \\right)} \\cos{\\left(\\theta^{2}_{0} \\right)} + 0.4 \\cos^{2}{\\left(\\phi^{1}_{0} \\right)} \\cos^{2}{\\left(\\phi^{2}_{0} \\right)} \\cos^{2}{\\left(\\theta^{1}_{0} \\right)} \\cos^{2}{\\left(\\theta^{2}_{0} \\right)} & 0.2 \\sin^{2}{\\left(\\phi^{1}_{0} \\right)} \\sin^{2}{\\left(\\phi^{2}_{1} \\right)} \\cos^{2}{\\left(\\theta^{1}_{0} \\right)} \\cos^{2}{\\left(\\theta^{2}_{1} \\right)} + 0.565685424949238 \\sin{\\left(\\phi^{1}_{0} \\right)} \\sin{\\left(\\phi^{2}_{1} \\right)} \\sin{\\left(\\theta^{1}_{0} \\right)} \\sin{\\left(\\theta^{2}_{1} \\right)} \\cos{\\left(\\theta^{1}_{0} \\right)} \\cos{\\left(\\theta^{2}_{1} \\right)} + 0.565685424949238 \\sin{\\left(\\phi^{1}_{0} \\right)} \\sin{\\left(\\phi^{2}_{1} \\right)} \\cos{\\left(\\phi^{1}_{0} \\right)} \\cos{\\left(\\phi^{2}_{1} \\right)} \\cos^{2}{\\left(\\theta^{1}_{0} \\right)} \\cos^{2}{\\left(\\theta^{2}_{1} \\right)} + 0.4 \\sin^{2}{\\left(\\theta^{1}_{0} \\right)} \\sin^{2}{\\left(\\theta^{2}_{1} \\right)} + 0.8 \\sin{\\left(\\theta^{1}_{0} \\right)} \\sin{\\left(\\theta^{2}_{1} \\right)} \\cos{\\left(\\phi^{1}_{0} \\right)} \\cos{\\left(\\phi^{2}_{1} \\right)} \\cos{\\left(\\theta^{1}_{0} \\right)} \\cos{\\left(\\theta^{2}_{1} \\right)} + 0.4 \\cos^{2}{\\left(\\phi^{1}_{0} \\right)} \\cos^{2}{\\left(\\phi^{2}_{1} \\right)} \\cos^{2}{\\left(\\theta^{1}_{0} \\right)} \\cos^{2}{\\left(\\theta^{2}_{1} \\right)}\\\\0.2 \\sin^{2}{\\left(\\phi^{1}_{0} \\right)} \\sin^{2}{\\left(\\phi^{2}_{0} \\right)} \\sin^{2}{\\left(\\theta^{2}_{0} \\right)} \\cos^{2}{\\left(\\theta^{1}_{0} \\right)} - 0.565685424949238 \\sin{\\left(\\phi^{1}_{0} \\right)} \\sin{\\left(\\phi^{2}_{0} \\right)} \\sin{\\left(\\theta^{1}_{0} \\right)} \\sin{\\left(\\theta^{2}_{0} \\right)} \\cos{\\left(\\theta^{1}_{0} \\right)} \\cos{\\left(\\theta^{2}_{0} \\right)} + 0.565685424949238 \\sin{\\left(\\phi^{1}_{0} \\right)} \\sin{\\left(\\phi^{2}_{0} \\right)} \\sin^{2}{\\left(\\theta^{2}_{0} \\right)} \\cos{\\left(\\phi^{1}_{0} \\right)} \\cos{\\left(\\phi^{2}_{0} \\right)} \\cos^{2}{\\left(\\theta^{1}_{0} \\right)} + 0.4 \\sin^{2}{\\left(\\theta^{1}_{0} \\right)} \\cos^{2}{\\left(\\theta^{2}_{0} \\right)} - 0.8 \\sin{\\left(\\theta^{1}_{0} \\right)} \\sin{\\left(\\theta^{2}_{0} \\right)} \\cos{\\left(\\phi^{1}_{0} \\right)} \\cos{\\left(\\phi^{2}_{0} \\right)} \\cos{\\left(\\theta^{1}_{0} \\right)} \\cos{\\left(\\theta^{2}_{0} \\right)} + 0.4 \\sin^{2}{\\left(\\theta^{2}_{0} \\right)} \\cos^{2}{\\left(\\phi^{1}_{0} \\right)} \\cos^{2}{\\left(\\phi^{2}_{0} \\right)} \\cos^{2}{\\left(\\theta^{1}_{0} \\right)} & 0.2 \\sin^{2}{\\left(\\phi^{1}_{0} \\right)} \\sin^{2}{\\left(\\phi^{2}_{1} \\right)} \\sin^{2}{\\left(\\theta^{2}_{1} \\right)} \\cos^{2}{\\left(\\theta^{1}_{0} \\right)} - 0.565685424949238 \\sin{\\left(\\phi^{1}_{0} \\right)} \\sin{\\left(\\phi^{2}_{1} \\right)} \\sin{\\left(\\theta^{1}_{0} \\right)} \\sin{\\left(\\theta^{2}_{1} \\right)} \\cos{\\left(\\theta^{1}_{0} \\right)} \\cos{\\left(\\theta^{2}_{1} \\right)} + 0.565685424949238 \\sin{\\left(\\phi^{1}_{0} \\right)} \\sin{\\left(\\phi^{2}_{1} \\right)} \\sin^{2}{\\left(\\theta^{2}_{1} \\right)} \\cos{\\left(\\phi^{1}_{0} \\right)} \\cos{\\left(\\phi^{2}_{1} \\right)} \\cos^{2}{\\left(\\theta^{1}_{0} \\right)} + 0.4 \\sin^{2}{\\left(\\theta^{1}_{0} \\right)} \\cos^{2}{\\left(\\theta^{2}_{1} \\right)} - 0.8 \\sin{\\left(\\theta^{1}_{0} \\right)} \\sin{\\left(\\theta^{2}_{1} \\right)} \\cos{\\left(\\phi^{1}_{0} \\right)} \\cos{\\left(\\phi^{2}_{1} \\right)} \\cos{\\left(\\theta^{1}_{0} \\right)} \\cos{\\left(\\theta^{2}_{1} \\right)} + 0.4 \\sin^{2}{\\left(\\theta^{2}_{1} \\right)} \\cos^{2}{\\left(\\phi^{1}_{0} \\right)} \\cos^{2}{\\left(\\phi^{2}_{1} \\right)} \\cos^{2}{\\left(\\theta^{1}_{0} \\right)}\\\\\\left(0.05 \\cos{\\left(2 \\phi^{1}_{0} \\right)} - 0.05 \\cos{\\left(2 \\phi^{2}_{0} \\right)} - 0.145710678118655 \\cos{\\left(2 \\phi^{1}_{0} - 2 \\phi^{2}_{0} \\right)} - 0.00428932188134525 \\cos{\\left(2 \\phi^{1}_{0} + 2 \\phi^{2}_{0} \\right)} + 0.15\\right) \\cos^{2}{\\left(\\theta^{1}_{0} \\right)} & \\left(0.05 \\cos{\\left(2 \\phi^{1}_{0} \\right)} - 0.05 \\cos{\\left(2 \\phi^{2}_{1} \\right)} - 0.145710678118655 \\cos{\\left(2 \\phi^{1}_{0} - 2 \\phi^{2}_{1} \\right)} - 0.00428932188134525 \\cos{\\left(2 \\phi^{1}_{0} + 2 \\phi^{2}_{1} \\right)} + 0.15\\right) \\cos^{2}{\\left(\\theta^{1}_{0} \\right)}\\\\0.2 \\sin^{2}{\\left(\\phi^{1}_{0} \\right)} \\sin^{2}{\\left(\\phi^{2}_{0} \\right)} \\sin^{2}{\\left(\\theta^{1}_{0} \\right)} \\cos^{2}{\\left(\\theta^{2}_{0} \\right)} + 0.565685424949238 \\sin{\\left(\\phi^{1}_{0} \\right)} \\sin{\\left(\\phi^{2}_{0} \\right)} \\sin^{2}{\\left(\\theta^{1}_{0} \\right)} \\cos{\\left(\\phi^{1}_{0} \\right)} \\cos{\\left(\\phi^{2}_{0} \\right)} \\cos^{2}{\\left(\\theta^{2}_{0} \\right)} - 0.565685424949238 \\sin{\\left(\\phi^{1}_{0} \\right)} \\sin{\\left(\\phi^{2}_{0} \\right)} \\sin{\\left(\\theta^{1}_{0} \\right)} \\sin{\\left(\\theta^{2}_{0} \\right)} \\cos{\\left(\\theta^{1}_{0} \\right)} \\cos{\\left(\\theta^{2}_{0} \\right)} + 0.4 \\sin^{2}{\\left(\\theta^{1}_{0} \\right)} \\cos^{2}{\\left(\\phi^{1}_{0} \\right)} \\cos^{2}{\\left(\\phi^{2}_{0} \\right)} \\cos^{2}{\\left(\\theta^{2}_{0} \\right)} - 0.8 \\sin{\\left(\\theta^{1}_{0} \\right)} \\sin{\\left(\\theta^{2}_{0} \\right)} \\cos{\\left(\\phi^{1}_{0} \\right)} \\cos{\\left(\\phi^{2}_{0} \\right)} \\cos{\\left(\\theta^{1}_{0} \\right)} \\cos{\\left(\\theta^{2}_{0} \\right)} + 0.4 \\sin^{2}{\\left(\\theta^{2}_{0} \\right)} \\cos^{2}{\\left(\\theta^{1}_{0} \\right)} & 0.2 \\sin^{2}{\\left(\\phi^{1}_{0} \\right)} \\sin^{2}{\\left(\\phi^{2}_{1} \\right)} \\sin^{2}{\\left(\\theta^{1}_{0} \\right)} \\cos^{2}{\\left(\\theta^{2}_{1} \\right)} + 0.565685424949238 \\sin{\\left(\\phi^{1}_{0} \\right)} \\sin{\\left(\\phi^{2}_{1} \\right)} \\sin^{2}{\\left(\\theta^{1}_{0} \\right)} \\cos{\\left(\\phi^{1}_{0} \\right)} \\cos{\\left(\\phi^{2}_{1} \\right)} \\cos^{2}{\\left(\\theta^{2}_{1} \\right)} - 0.565685424949238 \\sin{\\left(\\phi^{1}_{0} \\right)} \\sin{\\left(\\phi^{2}_{1} \\right)} \\sin{\\left(\\theta^{1}_{0} \\right)} \\sin{\\left(\\theta^{2}_{1} \\right)} \\cos{\\left(\\theta^{1}_{0} \\right)} \\cos{\\left(\\theta^{2}_{1} \\right)} + 0.4 \\sin^{2}{\\left(\\theta^{1}_{0} \\right)} \\cos^{2}{\\left(\\phi^{1}_{0} \\right)} \\cos^{2}{\\left(\\phi^{2}_{1} \\right)} \\cos^{2}{\\left(\\theta^{2}_{1} \\right)} - 0.8 \\sin{\\left(\\theta^{1}_{0} \\right)} \\sin{\\left(\\theta^{2}_{1} \\right)} \\cos{\\left(\\phi^{1}_{0} \\right)} \\cos{\\left(\\phi^{2}_{1} \\right)} \\cos{\\left(\\theta^{1}_{0} \\right)} \\cos{\\left(\\theta^{2}_{1} \\right)} + 0.4 \\sin^{2}{\\left(\\theta^{2}_{1} \\right)} \\cos^{2}{\\left(\\theta^{1}_{0} \\right)}\\\\0.2 \\sin^{2}{\\left(\\phi^{1}_{0} \\right)} \\sin^{2}{\\left(\\phi^{2}_{0} \\right)} \\sin^{2}{\\left(\\theta^{1}_{0} \\right)} \\sin^{2}{\\left(\\theta^{2}_{0} \\right)} + 0.565685424949238 \\sin{\\left(\\phi^{1}_{0} \\right)} \\sin{\\left(\\phi^{2}_{0} \\right)} \\sin^{2}{\\left(\\theta^{1}_{0} \\right)} \\sin^{2}{\\left(\\theta^{2}_{0} \\right)} \\cos{\\left(\\phi^{1}_{0} \\right)} \\cos{\\left(\\phi^{2}_{0} \\right)} + 0.565685424949238 \\sin{\\left(\\phi^{1}_{0} \\right)} \\sin{\\left(\\phi^{2}_{0} \\right)} \\sin{\\left(\\theta^{1}_{0} \\right)} \\sin{\\left(\\theta^{2}_{0} \\right)} \\cos{\\left(\\theta^{1}_{0} \\right)} \\cos{\\left(\\theta^{2}_{0} \\right)} + 0.4 \\sin^{2}{\\left(\\theta^{1}_{0} \\right)} \\sin^{2}{\\left(\\theta^{2}_{0} \\right)} \\cos^{2}{\\left(\\phi^{1}_{0} \\right)} \\cos^{2}{\\left(\\phi^{2}_{0} \\right)} + 0.8 \\sin{\\left(\\theta^{1}_{0} \\right)} \\sin{\\left(\\theta^{2}_{0} \\right)} \\cos{\\left(\\phi^{1}_{0} \\right)} \\cos{\\left(\\phi^{2}_{0} \\right)} \\cos{\\left(\\theta^{1}_{0} \\right)} \\cos{\\left(\\theta^{2}_{0} \\right)} + 0.4 \\cos^{2}{\\left(\\theta^{1}_{0} \\right)} \\cos^{2}{\\left(\\theta^{2}_{0} \\right)} & 0.2 \\sin^{2}{\\left(\\phi^{1}_{0} \\right)} \\sin^{2}{\\left(\\phi^{2}_{1} \\right)} \\sin^{2}{\\left(\\theta^{1}_{0} \\right)} \\sin^{2}{\\left(\\theta^{2}_{1} \\right)} + 0.565685424949238 \\sin{\\left(\\phi^{1}_{0} \\right)} \\sin{\\left(\\phi^{2}_{1} \\right)} \\sin^{2}{\\left(\\theta^{1}_{0} \\right)} \\sin^{2}{\\left(\\theta^{2}_{1} \\right)} \\cos{\\left(\\phi^{1}_{0} \\right)} \\cos{\\left(\\phi^{2}_{1} \\right)} + 0.565685424949238 \\sin{\\left(\\phi^{1}_{0} \\right)} \\sin{\\left(\\phi^{2}_{1} \\right)} \\sin{\\left(\\theta^{1}_{0} \\right)} \\sin{\\left(\\theta^{2}_{1} \\right)} \\cos{\\left(\\theta^{1}_{0} \\right)} \\cos{\\left(\\theta^{2}_{1} \\right)} + 0.4 \\sin^{2}{\\left(\\theta^{1}_{0} \\right)} \\sin^{2}{\\left(\\theta^{2}_{1} \\right)} \\cos^{2}{\\left(\\phi^{1}_{0} \\right)} \\cos^{2}{\\left(\\phi^{2}_{1} \\right)} + 0.8 \\sin{\\left(\\theta^{1}_{0} \\right)} \\sin{\\left(\\theta^{2}_{1} \\right)} \\cos{\\left(\\phi^{1}_{0} \\right)} \\cos{\\left(\\phi^{2}_{1} \\right)} \\cos{\\left(\\theta^{1}_{0} \\right)} \\cos{\\left(\\theta^{2}_{1} \\right)} + 0.4 \\cos^{2}{\\left(\\theta^{1}_{0} \\right)} \\cos^{2}{\\left(\\theta^{2}_{1} \\right)}\\\\\\left(0.05 \\cos{\\left(2 \\phi^{1}_{0} \\right)} - 0.05 \\cos{\\left(2 \\phi^{2}_{0} \\right)} - 0.145710678118655 \\cos{\\left(2 \\phi^{1}_{0} - 2 \\phi^{2}_{0} \\right)} - 0.00428932188134525 \\cos{\\left(2 \\phi^{1}_{0} + 2 \\phi^{2}_{0} \\right)} + 0.15\\right) \\sin^{2}{\\left(\\theta^{1}_{0} \\right)} & \\left(0.05 \\cos{\\left(2 \\phi^{1}_{0} \\right)} - 0.05 \\cos{\\left(2 \\phi^{2}_{1} \\right)} - 0.145710678118655 \\cos{\\left(2 \\phi^{1}_{0} - 2 \\phi^{2}_{1} \\right)} - 0.00428932188134525 \\cos{\\left(2 \\phi^{1}_{0} + 2 \\phi^{2}_{1} \\right)} + 0.15\\right) \\sin^{2}{\\left(\\theta^{1}_{0} \\right)}\\\\\\left(- 0.05 \\cos{\\left(2 \\phi^{1}_{0} \\right)} + 0.05 \\cos{\\left(2 \\phi^{2}_{0} \\right)} - 0.145710678118655 \\cos{\\left(2 \\phi^{1}_{0} - 2 \\phi^{2}_{0} \\right)} - 0.00428932188134525 \\cos{\\left(2 \\phi^{1}_{0} + 2 \\phi^{2}_{0} \\right)} + 0.15\\right) \\cos^{2}{\\left(\\theta^{2}_{0} \\right)} & \\left(- 0.05 \\cos{\\left(2 \\phi^{1}_{0} \\right)} + 0.05 \\cos{\\left(2 \\phi^{2}_{1} \\right)} - 0.145710678118655 \\cos{\\left(2 \\phi^{1}_{0} - 2 \\phi^{2}_{1} \\right)} - 0.00428932188134525 \\cos{\\left(2 \\phi^{1}_{0} + 2 \\phi^{2}_{1} \\right)} + 0.15\\right) \\cos^{2}{\\left(\\theta^{2}_{1} \\right)}\\\\\\left(- 0.05 \\cos{\\left(2 \\phi^{1}_{0} \\right)} + 0.05 \\cos{\\left(2 \\phi^{2}_{0} \\right)} - 0.145710678118655 \\cos{\\left(2 \\phi^{1}_{0} - 2 \\phi^{2}_{0} \\right)} - 0.00428932188134525 \\cos{\\left(2 \\phi^{1}_{0} + 2 \\phi^{2}_{0} \\right)} + 0.15\\right) \\sin^{2}{\\left(\\theta^{2}_{0} \\right)} & \\left(- 0.05 \\cos{\\left(2 \\phi^{1}_{0} \\right)} + 0.05 \\cos{\\left(2 \\phi^{2}_{1} \\right)} - 0.145710678118655 \\cos{\\left(2 \\phi^{1}_{0} - 2 \\phi^{2}_{1} \\right)} - 0.00428932188134525 \\cos{\\left(2 \\phi^{1}_{0} + 2 \\phi^{2}_{1} \\right)} + 0.15\\right) \\sin^{2}{\\left(\\theta^{2}_{1} \\right)}\\\\- 0.05 \\cos{\\left(2 \\phi^{1}_{0} \\right)} - 0.05 \\cos{\\left(2 \\phi^{2}_{0} \\right)} + 0.145710678118655 \\cos{\\left(2 \\phi^{1}_{0} - 2 \\phi^{2}_{0} \\right)} + 0.00428932188134525 \\cos{\\left(2 \\phi^{1}_{0} + 2 \\phi^{2}_{0} \\right)} + 0.15 & - 0.05 \\cos{\\left(2 \\phi^{1}_{0} \\right)} - 0.05 \\cos{\\left(2 \\phi^{2}_{1} \\right)} + 0.145710678118655 \\cos{\\left(2 \\phi^{1}_{0} - 2 \\phi^{2}_{1} \\right)} + 0.00428932188134525 \\cos{\\left(2 \\phi^{1}_{0} + 2 \\phi^{2}_{1} \\right)} + 0.15\\end{matrix}\\right]$"
      ],
      "text/plain": [
       "Matrix([\n",
       "[0.2*sin(phi_0^1)**2*sin(phi_0^2)**2*cos(theta_0^1)**2*cos(theta_0^2)**2 + 0.565685424949238*sin(phi_0^1)*sin(phi_0^2)*sin(theta_0^1)*sin(theta_0^2)*cos(theta_0^1)*cos(theta_0^2) + 0.565685424949238*sin(phi_0^1)*sin(phi_0^2)*cos(phi_0^1)*cos(phi_0^2)*cos(theta_0^1)**2*cos(theta_0^2)**2 + 0.4*sin(theta_0^1)**2*sin(theta_0^2)**2 + 0.8*sin(theta_0^1)*sin(theta_0^2)*cos(phi_0^1)*cos(phi_0^2)*cos(theta_0^1)*cos(theta_0^2) + 0.4*cos(phi_0^1)**2*cos(phi_0^2)**2*cos(theta_0^1)**2*cos(theta_0^2)**2, 0.2*sin(phi_0^1)**2*sin(phi_1^2)**2*cos(theta_0^1)**2*cos(theta_1^2)**2 + 0.565685424949238*sin(phi_0^1)*sin(phi_1^2)*sin(theta_0^1)*sin(theta_1^2)*cos(theta_0^1)*cos(theta_1^2) + 0.565685424949238*sin(phi_0^1)*sin(phi_1^2)*cos(phi_0^1)*cos(phi_1^2)*cos(theta_0^1)**2*cos(theta_1^2)**2 + 0.4*sin(theta_0^1)**2*sin(theta_1^2)**2 + 0.8*sin(theta_0^1)*sin(theta_1^2)*cos(phi_0^1)*cos(phi_1^2)*cos(theta_0^1)*cos(theta_1^2) + 0.4*cos(phi_0^1)**2*cos(phi_1^2)**2*cos(theta_0^1)**2*cos(theta_1^2)**2],\n",
       "[0.2*sin(phi_0^1)**2*sin(phi_0^2)**2*sin(theta_0^2)**2*cos(theta_0^1)**2 - 0.565685424949238*sin(phi_0^1)*sin(phi_0^2)*sin(theta_0^1)*sin(theta_0^2)*cos(theta_0^1)*cos(theta_0^2) + 0.565685424949238*sin(phi_0^1)*sin(phi_0^2)*sin(theta_0^2)**2*cos(phi_0^1)*cos(phi_0^2)*cos(theta_0^1)**2 + 0.4*sin(theta_0^1)**2*cos(theta_0^2)**2 - 0.8*sin(theta_0^1)*sin(theta_0^2)*cos(phi_0^1)*cos(phi_0^2)*cos(theta_0^1)*cos(theta_0^2) + 0.4*sin(theta_0^2)**2*cos(phi_0^1)**2*cos(phi_0^2)**2*cos(theta_0^1)**2, 0.2*sin(phi_0^1)**2*sin(phi_1^2)**2*sin(theta_1^2)**2*cos(theta_0^1)**2 - 0.565685424949238*sin(phi_0^1)*sin(phi_1^2)*sin(theta_0^1)*sin(theta_1^2)*cos(theta_0^1)*cos(theta_1^2) + 0.565685424949238*sin(phi_0^1)*sin(phi_1^2)*sin(theta_1^2)**2*cos(phi_0^1)*cos(phi_1^2)*cos(theta_0^1)**2 + 0.4*sin(theta_0^1)**2*cos(theta_1^2)**2 - 0.8*sin(theta_0^1)*sin(theta_1^2)*cos(phi_0^1)*cos(phi_1^2)*cos(theta_0^1)*cos(theta_1^2) + 0.4*sin(theta_1^2)**2*cos(phi_0^1)**2*cos(phi_1^2)**2*cos(theta_0^1)**2],\n",
       "[                                                                                                                                                                                                                                                                                                                                         (0.05*cos(2*phi_0^1) - 0.05*cos(2*phi_0^2) - 0.145710678118655*cos(2*phi_0^1 - 2*phi_0^2) - 0.00428932188134525*cos(2*phi_0^1 + 2*phi_0^2) + 0.15)*cos(theta_0^1)**2,                                                                                                                                                                                                                                                                                                                                          (0.05*cos(2*phi_0^1) - 0.05*cos(2*phi_1^2) - 0.145710678118655*cos(2*phi_0^1 - 2*phi_1^2) - 0.00428932188134525*cos(2*phi_0^1 + 2*phi_1^2) + 0.15)*cos(theta_0^1)**2],\n",
       "[0.2*sin(phi_0^1)**2*sin(phi_0^2)**2*sin(theta_0^1)**2*cos(theta_0^2)**2 + 0.565685424949238*sin(phi_0^1)*sin(phi_0^2)*sin(theta_0^1)**2*cos(phi_0^1)*cos(phi_0^2)*cos(theta_0^2)**2 - 0.565685424949238*sin(phi_0^1)*sin(phi_0^2)*sin(theta_0^1)*sin(theta_0^2)*cos(theta_0^1)*cos(theta_0^2) + 0.4*sin(theta_0^1)**2*cos(phi_0^1)**2*cos(phi_0^2)**2*cos(theta_0^2)**2 - 0.8*sin(theta_0^1)*sin(theta_0^2)*cos(phi_0^1)*cos(phi_0^2)*cos(theta_0^1)*cos(theta_0^2) + 0.4*sin(theta_0^2)**2*cos(theta_0^1)**2, 0.2*sin(phi_0^1)**2*sin(phi_1^2)**2*sin(theta_0^1)**2*cos(theta_1^2)**2 + 0.565685424949238*sin(phi_0^1)*sin(phi_1^2)*sin(theta_0^1)**2*cos(phi_0^1)*cos(phi_1^2)*cos(theta_1^2)**2 - 0.565685424949238*sin(phi_0^1)*sin(phi_1^2)*sin(theta_0^1)*sin(theta_1^2)*cos(theta_0^1)*cos(theta_1^2) + 0.4*sin(theta_0^1)**2*cos(phi_0^1)**2*cos(phi_1^2)**2*cos(theta_1^2)**2 - 0.8*sin(theta_0^1)*sin(theta_1^2)*cos(phi_0^1)*cos(phi_1^2)*cos(theta_0^1)*cos(theta_1^2) + 0.4*sin(theta_1^2)**2*cos(theta_0^1)**2],\n",
       "[0.2*sin(phi_0^1)**2*sin(phi_0^2)**2*sin(theta_0^1)**2*sin(theta_0^2)**2 + 0.565685424949238*sin(phi_0^1)*sin(phi_0^2)*sin(theta_0^1)**2*sin(theta_0^2)**2*cos(phi_0^1)*cos(phi_0^2) + 0.565685424949238*sin(phi_0^1)*sin(phi_0^2)*sin(theta_0^1)*sin(theta_0^2)*cos(theta_0^1)*cos(theta_0^2) + 0.4*sin(theta_0^1)**2*sin(theta_0^2)**2*cos(phi_0^1)**2*cos(phi_0^2)**2 + 0.8*sin(theta_0^1)*sin(theta_0^2)*cos(phi_0^1)*cos(phi_0^2)*cos(theta_0^1)*cos(theta_0^2) + 0.4*cos(theta_0^1)**2*cos(theta_0^2)**2, 0.2*sin(phi_0^1)**2*sin(phi_1^2)**2*sin(theta_0^1)**2*sin(theta_1^2)**2 + 0.565685424949238*sin(phi_0^1)*sin(phi_1^2)*sin(theta_0^1)**2*sin(theta_1^2)**2*cos(phi_0^1)*cos(phi_1^2) + 0.565685424949238*sin(phi_0^1)*sin(phi_1^2)*sin(theta_0^1)*sin(theta_1^2)*cos(theta_0^1)*cos(theta_1^2) + 0.4*sin(theta_0^1)**2*sin(theta_1^2)**2*cos(phi_0^1)**2*cos(phi_1^2)**2 + 0.8*sin(theta_0^1)*sin(theta_1^2)*cos(phi_0^1)*cos(phi_1^2)*cos(theta_0^1)*cos(theta_1^2) + 0.4*cos(theta_0^1)**2*cos(theta_1^2)**2],\n",
       "[                                                                                                                                                                                                                                                                                                                                         (0.05*cos(2*phi_0^1) - 0.05*cos(2*phi_0^2) - 0.145710678118655*cos(2*phi_0^1 - 2*phi_0^2) - 0.00428932188134525*cos(2*phi_0^1 + 2*phi_0^2) + 0.15)*sin(theta_0^1)**2,                                                                                                                                                                                                                                                                                                                                          (0.05*cos(2*phi_0^1) - 0.05*cos(2*phi_1^2) - 0.145710678118655*cos(2*phi_0^1 - 2*phi_1^2) - 0.00428932188134525*cos(2*phi_0^1 + 2*phi_1^2) + 0.15)*sin(theta_0^1)**2],\n",
       "[                                                                                                                                                                                                                                                                                                                                        (-0.05*cos(2*phi_0^1) + 0.05*cos(2*phi_0^2) - 0.145710678118655*cos(2*phi_0^1 - 2*phi_0^2) - 0.00428932188134525*cos(2*phi_0^1 + 2*phi_0^2) + 0.15)*cos(theta_0^2)**2,                                                                                                                                                                                                                                                                                                                                         (-0.05*cos(2*phi_0^1) + 0.05*cos(2*phi_1^2) - 0.145710678118655*cos(2*phi_0^1 - 2*phi_1^2) - 0.00428932188134525*cos(2*phi_0^1 + 2*phi_1^2) + 0.15)*cos(theta_1^2)**2],\n",
       "[                                                                                                                                                                                                                                                                                                                                        (-0.05*cos(2*phi_0^1) + 0.05*cos(2*phi_0^2) - 0.145710678118655*cos(2*phi_0^1 - 2*phi_0^2) - 0.00428932188134525*cos(2*phi_0^1 + 2*phi_0^2) + 0.15)*sin(theta_0^2)**2,                                                                                                                                                                                                                                                                                                                                         (-0.05*cos(2*phi_0^1) + 0.05*cos(2*phi_1^2) - 0.145710678118655*cos(2*phi_0^1 - 2*phi_1^2) - 0.00428932188134525*cos(2*phi_0^1 + 2*phi_1^2) + 0.15)*sin(theta_1^2)**2],\n",
       "[                                                                                                                                                                                                                                                                                                                                                            -0.05*cos(2*phi_0^1) - 0.05*cos(2*phi_0^2) + 0.145710678118655*cos(2*phi_0^1 - 2*phi_0^2) + 0.00428932188134525*cos(2*phi_0^1 + 2*phi_0^2) + 0.15,                                                                                                                                                                                                                                                                                                                                                             -0.05*cos(2*phi_0^1) - 0.05*cos(2*phi_1^2) + 0.145710678118655*cos(2*phi_0^1 - 2*phi_1^2) + 0.00428932188134525*cos(2*phi_0^1 + 2*phi_1^2) + 0.15]])"
      ]
     },
     "execution_count": 236,
     "metadata": {},
     "output_type": "execute_result"
    }
   ],
   "source": [
    "Qt1 = Matrix([[simplify(tr(rho(Matrix([(4/10)**0.5*1,0,0,0,(2/10)**0.5*1,0,0,0,(4/10)**0.5*1]))*tp(M1[a1](1,t1), M1[a2](2,t2)))) for (t1,t2) in list(pr(T1,T2))] for (a1,a2) in list(pr(A1,A1))])\n",
    "Qt1"
   ]
  },
  {
   "cell_type": "code",
   "execution_count": 255,
   "id": "da5181ea-f076-4af7-8f55-95151d8844ef",
   "metadata": {},
   "outputs": [
    {
     "data": {
      "text/plain": [
       "array([[ 0.4,  0. ],\n",
       "       [ 0. ,  0.4],\n",
       "       [-0. ,  0. ],\n",
       "       [ 0. ,  0. ],\n",
       "       [ 0.2,  0. ],\n",
       "       [-0. ,  0.2],\n",
       "       [-0. ,  0.4],\n",
       "       [-0. ,  0. ],\n",
       "       [ 0.4, -0. ]])"
      ]
     },
     "execution_count": 255,
     "metadata": {},
     "output_type": "execute_result"
    }
   ],
   "source": [
    "nQ1(Qt1, pi/2, pi/2, pi/2, pi/2, pi, pi)"
   ]
  },
  {
   "cell_type": "code",
   "execution_count": 200,
   "id": "3b156556-965f-47ef-a1f3-849344095ee5",
   "metadata": {},
   "outputs": [],
   "source": [
    "Q = lambda rho: Matrix([[simplify(tr(rho*tp(M1[a1](1,t1), M2[a2](2,t2)))) for (t1,t2) in list(pr(T1,T2))] for (a1,a2) in list(pr(A1,A2))])"
   ]
  },
  {
   "cell_type": "code",
   "execution_count": 210,
   "id": "8438f477-c602-4534-8782-2119a2c1cfbb",
   "metadata": {},
   "outputs": [
    {
     "data": {
      "text/plain": [
       "array([[0.333, 0.   ],\n",
       "       [0.   , 0.333],\n",
       "       [0.   , 0.333],\n",
       "       [0.333, 0.   ],\n",
       "       [0.   , 0.333],\n",
       "       [0.333, 0.   ]])"
      ]
     },
     "execution_count": 210,
     "metadata": {},
     "output_type": "execute_result"
    }
   ],
   "source": [
    "nQ1(Q1, pi/2, pi/2, pi/2, pi/2, 0, 0)"
   ]
  },
  {
   "cell_type": "code",
   "execution_count": 93,
   "id": "e76716fc-68e3-4ade-88f5-b5bd9bde0121",
   "metadata": {},
   "outputs": [],
   "source": [
    "Q0 = Q(rho1)"
   ]
  },
  {
   "cell_type": "code",
   "execution_count": 136,
   "id": "ddc585d7-c9f2-492f-bfb7-911d473b604d",
   "metadata": {},
   "outputs": [
    {
     "data": {
      "text/plain": [
       "array([[0.125, 0.375],\n",
       "       [0.375, 0.125],\n",
       "       [0.094, 0.031],\n",
       "       [0.031, 0.094],\n",
       "       [0.281, 0.094],\n",
       "       [0.094, 0.281]])"
      ]
     },
     "execution_count": 136,
     "metadata": {},
     "output_type": "execute_result"
    }
   ],
   "source": [
    "nQ(Q0, pi/2, pi/6, pi/3, pi/3)"
   ]
  },
  {
   "cell_type": "code",
   "execution_count": 74,
   "id": "dd082864-dfa5-48e2-a6e7-afe99ad2676f",
   "metadata": {},
   "outputs": [
    {
     "data": {
      "text/latex": [
       "$\\displaystyle \\left[\\begin{matrix}\\left(\\sin{\\left(\\theta^{1}_{0} \\right)} \\sin{\\left(\\theta^{2}_{0} \\right)} + \\sqrt{2} \\sin{\\left(\\phi^{1}_{0} + \\frac{\\pi}{4} \\right)} \\cos{\\left(\\theta^{1}_{0} \\right)} \\cos{\\left(\\theta^{2}_{0} \\right)}\\right)^{2} & \\left(\\sin{\\left(\\theta^{1}_{0} \\right)} \\sin{\\left(\\theta^{2}_{1} \\right)} + \\sqrt{2} \\sin{\\left(\\phi^{1}_{0} + \\frac{\\pi}{4} \\right)} \\cos{\\left(\\theta^{1}_{0} \\right)} \\cos{\\left(\\theta^{2}_{1} \\right)}\\right)^{2}\\\\\\left(\\sin{\\left(\\theta^{1}_{0} \\right)} \\cos{\\left(\\theta^{2}_{0} \\right)} - \\sqrt{2} \\sin{\\left(\\theta^{2}_{0} \\right)} \\sin{\\left(\\phi^{1}_{0} + \\frac{\\pi}{4} \\right)} \\cos{\\left(\\theta^{1}_{0} \\right)}\\right)^{2} & \\left(\\sin{\\left(\\theta^{1}_{0} \\right)} \\cos{\\left(\\theta^{2}_{1} \\right)} - \\sqrt{2} \\sin{\\left(\\theta^{2}_{1} \\right)} \\sin{\\left(\\phi^{1}_{0} + \\frac{\\pi}{4} \\right)} \\cos{\\left(\\theta^{1}_{0} \\right)}\\right)^{2}\\\\\\left(\\sqrt{2} \\sin{\\left(\\theta^{1}_{0} \\right)} \\sin{\\left(\\phi^{1}_{0} + \\frac{\\pi}{4} \\right)} \\cos{\\left(\\theta^{2}_{0} \\right)} - \\sin{\\left(\\theta^{2}_{0} \\right)} \\cos{\\left(\\theta^{1}_{0} \\right)}\\right)^{2} & \\left(\\sqrt{2} \\sin{\\left(\\theta^{1}_{0} \\right)} \\sin{\\left(\\phi^{1}_{0} + \\frac{\\pi}{4} \\right)} \\cos{\\left(\\theta^{2}_{1} \\right)} - \\sin{\\left(\\theta^{2}_{1} \\right)} \\cos{\\left(\\theta^{1}_{0} \\right)}\\right)^{2}\\\\\\left(\\sqrt{2} \\sin{\\left(\\theta^{1}_{0} \\right)} \\sin{\\left(\\theta^{2}_{0} \\right)} \\sin{\\left(\\phi^{1}_{0} + \\frac{\\pi}{4} \\right)} + \\cos{\\left(\\theta^{1}_{0} \\right)} \\cos{\\left(\\theta^{2}_{0} \\right)}\\right)^{2} & \\left(\\sqrt{2} \\sin{\\left(\\theta^{1}_{0} \\right)} \\sin{\\left(\\theta^{2}_{1} \\right)} \\sin{\\left(\\phi^{1}_{0} + \\frac{\\pi}{4} \\right)} + \\cos{\\left(\\theta^{1}_{0} \\right)} \\cos{\\left(\\theta^{2}_{1} \\right)}\\right)^{2}\\\\2 \\cos^{2}{\\left(\\theta^{2}_{0} \\right)} \\cos^{2}{\\left(\\phi^{1}_{0} + \\frac{\\pi}{4} \\right)} & 2 \\cos^{2}{\\left(\\theta^{2}_{1} \\right)} \\cos^{2}{\\left(\\phi^{1}_{0} + \\frac{\\pi}{4} \\right)}\\\\2 \\sin^{2}{\\left(\\theta^{2}_{0} \\right)} \\cos^{2}{\\left(\\phi^{1}_{0} + \\frac{\\pi}{4} \\right)} & 2 \\sin^{2}{\\left(\\theta^{2}_{1} \\right)} \\cos^{2}{\\left(\\phi^{1}_{0} + \\frac{\\pi}{4} \\right)}\\end{matrix}\\right]$"
      ],
      "text/plain": [
       "Matrix([\n",
       "[(sin(theta_0^1)*sin(theta_0^2) + sqrt(2)*sin(phi_0^1 + pi/4)*cos(theta_0^1)*cos(theta_0^2))**2, (sin(theta_0^1)*sin(theta_1^2) + sqrt(2)*sin(phi_0^1 + pi/4)*cos(theta_0^1)*cos(theta_1^2))**2],\n",
       "[(sin(theta_0^1)*cos(theta_0^2) - sqrt(2)*sin(theta_0^2)*sin(phi_0^1 + pi/4)*cos(theta_0^1))**2, (sin(theta_0^1)*cos(theta_1^2) - sqrt(2)*sin(theta_1^2)*sin(phi_0^1 + pi/4)*cos(theta_0^1))**2],\n",
       "[(sqrt(2)*sin(theta_0^1)*sin(phi_0^1 + pi/4)*cos(theta_0^2) - sin(theta_0^2)*cos(theta_0^1))**2, (sqrt(2)*sin(theta_0^1)*sin(phi_0^1 + pi/4)*cos(theta_1^2) - sin(theta_1^2)*cos(theta_0^1))**2],\n",
       "[(sqrt(2)*sin(theta_0^1)*sin(theta_0^2)*sin(phi_0^1 + pi/4) + cos(theta_0^1)*cos(theta_0^2))**2, (sqrt(2)*sin(theta_0^1)*sin(theta_1^2)*sin(phi_0^1 + pi/4) + cos(theta_0^1)*cos(theta_1^2))**2],\n",
       "[                                                    2*cos(theta_0^2)**2*cos(phi_0^1 + pi/4)**2,                                                     2*cos(theta_1^2)**2*cos(phi_0^1 + pi/4)**2],\n",
       "[                                                    2*sin(theta_0^2)**2*cos(phi_0^1 + pi/4)**2,                                                     2*sin(theta_1^2)**2*cos(phi_0^1 + pi/4)**2]])"
      ]
     },
     "execution_count": 74,
     "metadata": {},
     "output_type": "execute_result"
    }
   ],
   "source": [
    "Q(rho(Matrix([1,0,1,0,0,1])))"
   ]
  },
  {
   "cell_type": "code",
   "execution_count": 206,
   "id": "8d1198ad-affb-4b30-8397-7ffb0e85ba1d",
   "metadata": {},
   "outputs": [],
   "source": [
    "Q1 = Q(rho((1/3)**0.5*Matrix([1,0,1,0,0,1])))"
   ]
  },
  {
   "cell_type": "code",
   "execution_count": 207,
   "id": "fe869b25-9664-496b-81cc-2f7ff0d03f30",
   "metadata": {},
   "outputs": [
    {
     "data": {
      "text/latex": [
       "$\\displaystyle \\left[\\begin{matrix}0.333333333333333 \\left(\\sin{\\left(\\theta^{1}_{0} \\right)} \\sin{\\left(\\theta^{2}_{0} \\right)} + \\sqrt{2} \\sin{\\left(\\phi^{1}_{0} + \\frac{\\pi}{4} \\right)} \\cos{\\left(\\theta^{1}_{0} \\right)} \\cos{\\left(\\theta^{2}_{0} \\right)}\\right)^{2} & 0.333333333333333 \\left(\\sin{\\left(\\theta^{1}_{0} \\right)} \\sin{\\left(\\theta^{2}_{1} \\right)} + \\sqrt{2} \\sin{\\left(\\phi^{1}_{0} + \\frac{\\pi}{4} \\right)} \\cos{\\left(\\theta^{1}_{0} \\right)} \\cos{\\left(\\theta^{2}_{1} \\right)}\\right)^{2}\\\\0.333333333333333 \\left(\\sin{\\left(\\theta^{1}_{0} \\right)} \\cos{\\left(\\theta^{2}_{0} \\right)} - \\sqrt{2} \\sin{\\left(\\theta^{2}_{0} \\right)} \\sin{\\left(\\phi^{1}_{0} + \\frac{\\pi}{4} \\right)} \\cos{\\left(\\theta^{1}_{0} \\right)}\\right)^{2} & 0.333333333333333 \\left(\\sin{\\left(\\theta^{1}_{0} \\right)} \\cos{\\left(\\theta^{2}_{1} \\right)} - \\sqrt{2} \\sin{\\left(\\theta^{2}_{1} \\right)} \\sin{\\left(\\phi^{1}_{0} + \\frac{\\pi}{4} \\right)} \\cos{\\left(\\theta^{1}_{0} \\right)}\\right)^{2}\\\\0.333333333333333 \\left(\\sqrt{2} \\sin{\\left(\\theta^{1}_{0} \\right)} \\sin{\\left(\\phi^{1}_{0} + \\frac{\\pi}{4} \\right)} \\cos{\\left(\\theta^{2}_{0} \\right)} - \\sin{\\left(\\theta^{2}_{0} \\right)} \\cos{\\left(\\theta^{1}_{0} \\right)}\\right)^{2} & 0.333333333333333 \\left(\\sqrt{2} \\sin{\\left(\\theta^{1}_{0} \\right)} \\sin{\\left(\\phi^{1}_{0} + \\frac{\\pi}{4} \\right)} \\cos{\\left(\\theta^{2}_{1} \\right)} - \\sin{\\left(\\theta^{2}_{1} \\right)} \\cos{\\left(\\theta^{1}_{0} \\right)}\\right)^{2}\\\\0.333333333333333 \\left(\\sqrt{2} \\sin{\\left(\\theta^{1}_{0} \\right)} \\sin{\\left(\\theta^{2}_{0} \\right)} \\sin{\\left(\\phi^{1}_{0} + \\frac{\\pi}{4} \\right)} + \\cos{\\left(\\theta^{1}_{0} \\right)} \\cos{\\left(\\theta^{2}_{0} \\right)}\\right)^{2} & 0.333333333333333 \\left(\\sqrt{2} \\sin{\\left(\\theta^{1}_{0} \\right)} \\sin{\\left(\\theta^{2}_{1} \\right)} \\sin{\\left(\\phi^{1}_{0} + \\frac{\\pi}{4} \\right)} + \\cos{\\left(\\theta^{1}_{0} \\right)} \\cos{\\left(\\theta^{2}_{1} \\right)}\\right)^{2}\\\\0.666666666666667 \\cos^{2}{\\left(\\theta^{2}_{0} \\right)} \\cos^{2}{\\left(\\phi^{1}_{0} + \\frac{\\pi}{4} \\right)} & 0.666666666666667 \\cos^{2}{\\left(\\theta^{2}_{1} \\right)} \\cos^{2}{\\left(\\phi^{1}_{0} + \\frac{\\pi}{4} \\right)}\\\\0.666666666666667 \\sin^{2}{\\left(\\theta^{2}_{0} \\right)} \\cos^{2}{\\left(\\phi^{1}_{0} + \\frac{\\pi}{4} \\right)} & 0.666666666666667 \\sin^{2}{\\left(\\theta^{2}_{1} \\right)} \\cos^{2}{\\left(\\phi^{1}_{0} + \\frac{\\pi}{4} \\right)}\\end{matrix}\\right]$"
      ],
      "text/plain": [
       "Matrix([\n",
       "[0.333333333333333*(sin(theta_0^1)*sin(theta_0^2) + sqrt(2)*sin(phi_0^1 + pi/4)*cos(theta_0^1)*cos(theta_0^2))**2, 0.333333333333333*(sin(theta_0^1)*sin(theta_1^2) + sqrt(2)*sin(phi_0^1 + pi/4)*cos(theta_0^1)*cos(theta_1^2))**2],\n",
       "[0.333333333333333*(sin(theta_0^1)*cos(theta_0^2) - sqrt(2)*sin(theta_0^2)*sin(phi_0^1 + pi/4)*cos(theta_0^1))**2, 0.333333333333333*(sin(theta_0^1)*cos(theta_1^2) - sqrt(2)*sin(theta_1^2)*sin(phi_0^1 + pi/4)*cos(theta_0^1))**2],\n",
       "[0.333333333333333*(sqrt(2)*sin(theta_0^1)*sin(phi_0^1 + pi/4)*cos(theta_0^2) - sin(theta_0^2)*cos(theta_0^1))**2, 0.333333333333333*(sqrt(2)*sin(theta_0^1)*sin(phi_0^1 + pi/4)*cos(theta_1^2) - sin(theta_1^2)*cos(theta_0^1))**2],\n",
       "[0.333333333333333*(sqrt(2)*sin(theta_0^1)*sin(theta_0^2)*sin(phi_0^1 + pi/4) + cos(theta_0^1)*cos(theta_0^2))**2, 0.333333333333333*(sqrt(2)*sin(theta_0^1)*sin(theta_1^2)*sin(phi_0^1 + pi/4) + cos(theta_0^1)*cos(theta_1^2))**2],\n",
       "[                                                      0.666666666666667*cos(theta_0^2)**2*cos(phi_0^1 + pi/4)**2,                                                       0.666666666666667*cos(theta_1^2)**2*cos(phi_0^1 + pi/4)**2],\n",
       "[                                                      0.666666666666667*sin(theta_0^2)**2*cos(phi_0^1 + pi/4)**2,                                                       0.666666666666667*sin(theta_1^2)**2*cos(phi_0^1 + pi/4)**2]])"
      ]
     },
     "execution_count": 207,
     "metadata": {},
     "output_type": "execute_result"
    }
   ],
   "source": [
    "Q1"
   ]
  },
  {
   "cell_type": "code",
   "execution_count": 209,
   "id": "99863532-5af8-4eef-b2c9-c6f8e66d1963",
   "metadata": {},
   "outputs": [
    {
     "data": {
      "text/plain": [
       "array([[0.333, 0.   ],\n",
       "       [0.   , 0.333],\n",
       "       [0.   , 0.   ],\n",
       "       [0.   , 0.   ],\n",
       "       [0.   , 0.667],\n",
       "       [0.667, 0.   ]])"
      ]
     },
     "execution_count": 209,
     "metadata": {},
     "output_type": "execute_result"
    }
   ],
   "source": [
    "nQ(Q1, pi/2, pi/2, 0, -pi/4)"
   ]
  },
  {
   "cell_type": "code",
   "execution_count": 201,
   "id": "c8216d17-5e69-4e87-a491-0d10b9a36813",
   "metadata": {},
   "outputs": [
    {
     "data": {
      "text/latex": [
       "$\\displaystyle \\left[\\begin{matrix}0.5 \\left(\\sin{\\left(\\theta^{1}_{0} \\right)} \\sin{\\left(\\theta^{2}_{0} \\right)} - \\cos{\\left(\\phi^{1}_{0} \\right)} \\cos{\\left(\\theta^{1}_{0} \\right)} \\cos{\\left(\\theta^{2}_{0} \\right)}\\right)^{2} & 0.5 \\left(\\sin{\\left(\\theta^{1}_{0} \\right)} \\sin{\\left(\\theta^{2}_{1} \\right)} - \\cos{\\left(\\phi^{1}_{0} \\right)} \\cos{\\left(\\theta^{1}_{0} \\right)} \\cos{\\left(\\theta^{2}_{1} \\right)}\\right)^{2}\\\\0.5 \\left(\\sin{\\left(\\theta^{1}_{0} \\right)} \\cos{\\left(\\theta^{2}_{0} \\right)} + \\sin{\\left(\\theta^{2}_{0} \\right)} \\cos{\\left(\\phi^{1}_{0} \\right)} \\cos{\\left(\\theta^{1}_{0} \\right)}\\right)^{2} & 0.5 \\left(\\sin{\\left(\\theta^{1}_{0} \\right)} \\cos{\\left(\\theta^{2}_{1} \\right)} + \\sin{\\left(\\theta^{2}_{1} \\right)} \\cos{\\left(\\phi^{1}_{0} \\right)} \\cos{\\left(\\theta^{1}_{0} \\right)}\\right)^{2}\\\\0.5 \\left(\\sin{\\left(\\theta^{1}_{0} \\right)} \\cos{\\left(\\phi^{1}_{0} \\right)} \\cos{\\left(\\theta^{2}_{0} \\right)} + \\sin{\\left(\\theta^{2}_{0} \\right)} \\cos{\\left(\\theta^{1}_{0} \\right)}\\right)^{2} & 0.5 \\left(\\sin{\\left(\\theta^{1}_{0} \\right)} \\cos{\\left(\\phi^{1}_{0} \\right)} \\cos{\\left(\\theta^{2}_{1} \\right)} + \\sin{\\left(\\theta^{2}_{1} \\right)} \\cos{\\left(\\theta^{1}_{0} \\right)}\\right)^{2}\\\\0.5 \\left(\\sin{\\left(\\theta^{1}_{0} \\right)} \\sin{\\left(\\theta^{2}_{0} \\right)} \\cos{\\left(\\phi^{1}_{0} \\right)} - \\cos{\\left(\\theta^{1}_{0} \\right)} \\cos{\\left(\\theta^{2}_{0} \\right)}\\right)^{2} & 0.5 \\left(\\sin{\\left(\\theta^{1}_{0} \\right)} \\sin{\\left(\\theta^{2}_{1} \\right)} \\cos{\\left(\\phi^{1}_{0} \\right)} - \\cos{\\left(\\theta^{1}_{0} \\right)} \\cos{\\left(\\theta^{2}_{1} \\right)}\\right)^{2}\\\\0.5 \\sin^{2}{\\left(\\phi^{1}_{0} \\right)} \\cos^{2}{\\left(\\theta^{2}_{0} \\right)} & 0.5 \\sin^{2}{\\left(\\phi^{1}_{0} \\right)} \\cos^{2}{\\left(\\theta^{2}_{1} \\right)}\\\\0.5 \\sin^{2}{\\left(\\phi^{1}_{0} \\right)} \\sin^{2}{\\left(\\theta^{2}_{0} \\right)} & 0.5 \\sin^{2}{\\left(\\phi^{1}_{0} \\right)} \\sin^{2}{\\left(\\theta^{2}_{1} \\right)}\\end{matrix}\\right]$"
      ],
      "text/plain": [
       "Matrix([\n",
       "[0.5*(sin(theta_0^1)*sin(theta_0^2) - cos(phi_0^1)*cos(theta_0^1)*cos(theta_0^2))**2, 0.5*(sin(theta_0^1)*sin(theta_1^2) - cos(phi_0^1)*cos(theta_0^1)*cos(theta_1^2))**2],\n",
       "[0.5*(sin(theta_0^1)*cos(theta_0^2) + sin(theta_0^2)*cos(phi_0^1)*cos(theta_0^1))**2, 0.5*(sin(theta_0^1)*cos(theta_1^2) + sin(theta_1^2)*cos(phi_0^1)*cos(theta_0^1))**2],\n",
       "[0.5*(sin(theta_0^1)*cos(phi_0^1)*cos(theta_0^2) + sin(theta_0^2)*cos(theta_0^1))**2, 0.5*(sin(theta_0^1)*cos(phi_0^1)*cos(theta_1^2) + sin(theta_1^2)*cos(theta_0^1))**2],\n",
       "[0.5*(sin(theta_0^1)*sin(theta_0^2)*cos(phi_0^1) - cos(theta_0^1)*cos(theta_0^2))**2, 0.5*(sin(theta_0^1)*sin(theta_1^2)*cos(phi_0^1) - cos(theta_0^1)*cos(theta_1^2))**2],\n",
       "[                                              0.5*sin(phi_0^1)**2*cos(theta_0^2)**2,                                               0.5*sin(phi_0^1)**2*cos(theta_1^2)**2],\n",
       "[                                              0.5*sin(phi_0^1)**2*sin(theta_0^2)**2,                                               0.5*sin(phi_0^1)**2*sin(theta_1^2)**2]])"
      ]
     },
     "execution_count": 201,
     "metadata": {},
     "output_type": "execute_result"
    }
   ],
   "source": [
    "Q2 = Q(rho((1/2)**0.5*Matrix([1,0,0,0,0,-1])))\n",
    "Q2"
   ]
  },
  {
   "cell_type": "code",
   "execution_count": 204,
   "id": "50df895d-9cf6-41b2-90e9-c2cb4115be9c",
   "metadata": {},
   "outputs": [
    {
     "data": {
      "text/plain": [
       "array([[0.  , 0.5 ],\n",
       "       [0.5 , 0.  ],\n",
       "       [0.25, 0.  ],\n",
       "       [0.  , 0.25],\n",
       "       [0.25, 0.  ],\n",
       "       [0.  , 0.25]])"
      ]
     },
     "execution_count": 204,
     "metadata": {},
     "output_type": "execute_result"
    }
   ],
   "source": [
    "nQ(Q2, pi/2, 0, pi/2, pi/4)"
   ]
  },
  {
   "cell_type": "code",
   "execution_count": 137,
   "id": "82577799-303b-423d-a1ab-fca9814d1376",
   "metadata": {},
   "outputs": [
    {
     "data": {
      "text/latex": [
       "$\\displaystyle \\left[\\begin{matrix}0.333333333333333 \\left(\\sin{\\left(\\theta^{1}_{0} \\right)} \\sin{\\left(\\theta^{2}_{0} \\right)} + \\cos{\\left(\\theta^{1}_{0} \\right)} \\cos{\\left(\\phi^{1}_{0} - \\theta^{2}_{0} \\right)}\\right)^{2} & 0.333333333333333 \\left(\\sin{\\left(\\theta^{1}_{0} \\right)} \\sin{\\left(\\theta^{2}_{1} \\right)} + \\cos{\\left(\\theta^{1}_{0} \\right)} \\cos{\\left(\\phi^{1}_{0} - \\theta^{2}_{1} \\right)}\\right)^{2}\\\\0.333333333333333 \\left(\\sin{\\left(\\theta^{1}_{0} \\right)} \\cos{\\left(\\theta^{2}_{0} \\right)} + \\sin{\\left(\\phi^{1}_{0} - \\theta^{2}_{0} \\right)} \\cos{\\left(\\theta^{1}_{0} \\right)}\\right)^{2} & 0.333333333333333 \\left(\\sin{\\left(\\theta^{1}_{0} \\right)} \\cos{\\left(\\theta^{2}_{1} \\right)} + \\sin{\\left(\\phi^{1}_{0} - \\theta^{2}_{1} \\right)} \\cos{\\left(\\theta^{1}_{0} \\right)}\\right)^{2}\\\\0.333333333333333 \\left(\\sin{\\left(\\theta^{1}_{0} \\right)} \\cos{\\left(\\phi^{1}_{0} - \\theta^{2}_{0} \\right)} - \\sin{\\left(\\theta^{2}_{0} \\right)} \\cos{\\left(\\theta^{1}_{0} \\right)}\\right)^{2} & 0.333333333333333 \\left(\\sin{\\left(\\theta^{1}_{0} \\right)} \\cos{\\left(\\phi^{1}_{0} - \\theta^{2}_{1} \\right)} - \\sin{\\left(\\theta^{2}_{1} \\right)} \\cos{\\left(\\theta^{1}_{0} \\right)}\\right)^{2}\\\\0.333333333333333 \\left(\\sin{\\left(\\theta^{1}_{0} \\right)} \\sin{\\left(\\phi^{1}_{0} - \\theta^{2}_{0} \\right)} - \\cos{\\left(\\theta^{1}_{0} \\right)} \\cos{\\left(\\theta^{2}_{0} \\right)}\\right)^{2} & 0.333333333333333 \\left(\\sin{\\left(\\theta^{1}_{0} \\right)} \\sin{\\left(\\phi^{1}_{0} - \\theta^{2}_{1} \\right)} - \\cos{\\left(\\theta^{1}_{0} \\right)} \\cos{\\left(\\theta^{2}_{1} \\right)}\\right)^{2}\\\\0.333333333333333 \\sin^{2}{\\left(\\phi^{1}_{0} - \\theta^{2}_{0} \\right)} & 0.333333333333333 \\sin^{2}{\\left(\\phi^{1}_{0} - \\theta^{2}_{1} \\right)}\\\\0.333333333333333 \\cos^{2}{\\left(\\phi^{1}_{0} - \\theta^{2}_{0} \\right)} & 0.333333333333333 \\cos^{2}{\\left(\\phi^{1}_{0} - \\theta^{2}_{1} \\right)}\\end{matrix}\\right]$"
      ],
      "text/plain": [
       "Matrix([\n",
       "[0.333333333333333*(sin(theta_0^1)*sin(theta_0^2) + cos(theta_0^1)*cos(phi_0^1 - theta_0^2))**2, 0.333333333333333*(sin(theta_0^1)*sin(theta_1^2) + cos(theta_0^1)*cos(phi_0^1 - theta_1^2))**2],\n",
       "[0.333333333333333*(sin(theta_0^1)*cos(theta_0^2) + sin(phi_0^1 - theta_0^2)*cos(theta_0^1))**2, 0.333333333333333*(sin(theta_0^1)*cos(theta_1^2) + sin(phi_0^1 - theta_1^2)*cos(theta_0^1))**2],\n",
       "[0.333333333333333*(sin(theta_0^1)*cos(phi_0^1 - theta_0^2) - sin(theta_0^2)*cos(theta_0^1))**2, 0.333333333333333*(sin(theta_0^1)*cos(phi_0^1 - theta_1^2) - sin(theta_1^2)*cos(theta_0^1))**2],\n",
       "[0.333333333333333*(sin(theta_0^1)*sin(phi_0^1 - theta_0^2) - cos(theta_0^1)*cos(theta_0^2))**2, 0.333333333333333*(sin(theta_0^1)*sin(phi_0^1 - theta_1^2) - cos(theta_0^1)*cos(theta_1^2))**2],\n",
       "[                                                 0.333333333333333*sin(phi_0^1 - theta_0^2)**2,                                                  0.333333333333333*sin(phi_0^1 - theta_1^2)**2],\n",
       "[                                                 0.333333333333333*cos(phi_0^1 - theta_0^2)**2,                                                  0.333333333333333*cos(phi_0^1 - theta_1^2)**2]])"
      ]
     },
     "execution_count": 137,
     "metadata": {},
     "output_type": "execute_result"
    }
   ],
   "source": [
    "Q2 = Q(rho((1/3)**0.5*Matrix([1,0,0,1,0,1])))\n",
    "Q2"
   ]
  },
  {
   "cell_type": "code",
   "execution_count": 161,
   "id": "41d6d890-e959-45d0-aa51-99a37d8bf10f",
   "metadata": {},
   "outputs": [
    {
     "data": {
      "text/plain": [
       "array([[0.   , 0.333],\n",
       "       [0.333, 0.   ],\n",
       "       [0.   , 0.333],\n",
       "       [0.333, 0.   ],\n",
       "       [0.333, 0.   ],\n",
       "       [0.   , 0.333]])"
      ]
     },
     "execution_count": 161,
     "metadata": {},
     "output_type": "execute_result"
    }
   ],
   "source": [
    "nQ(Q2, pi/2, 0, pi/2, pi/2)"
   ]
  },
  {
   "cell_type": "code",
   "execution_count": 162,
   "id": "745447f7-043e-4187-b793-a9e723c0aac4",
   "metadata": {},
   "outputs": [
    {
     "data": {
      "text/latex": [
       "$\\displaystyle \\left[\\begin{matrix}0.0555555555555556 \\cos{\\left(2 \\phi^{1}_{0} \\right)} + 0.0833333333333333 \\cos{\\left(2 \\theta^{1}_{0} \\right)} + 0.0277777777777778 \\cos{\\left(2 \\theta^{2}_{0} \\right)} + 0.0392837100659193 \\cos{\\left(\\phi^{1}_{0} - 2 \\theta^{1}_{0} \\right)} - 0.0392837100659193 \\cos{\\left(\\phi^{1}_{0} + 2 \\theta^{1}_{0} \\right)} + 0.0277777777777778 \\cos{\\left(2 \\phi^{1}_{0} - 2 \\theta^{1}_{0} \\right)} + 0.0277777777777778 \\cos{\\left(2 \\phi^{1}_{0} + 2 \\theta^{1}_{0} \\right)} + 0.103668077988024 \\cos{\\left(2 \\phi^{1}_{0} - 2 \\theta^{2}_{0} \\right)} + 0.00744303312308674 \\cos{\\left(2 \\phi^{1}_{0} + 2 \\theta^{2}_{0} \\right)} + 0.0416666666666667 \\cos{\\left(2 \\theta^{1}_{0} - 2 \\theta^{2}_{0} \\right)} + 0.0416666666666667 \\cos{\\left(2 \\theta^{1}_{0} + 2 \\theta^{2}_{0} \\right)} + 0.0518340389940122 \\cos{\\left(- 2 \\phi^{1}_{0} + 2 \\theta^{1}_{0} + 2 \\theta^{2}_{0} \\right)} - 0.0536625459049482 \\cos{\\left(- \\phi^{1}_{0} + 2 \\theta^{1}_{0} + 2 \\theta^{2}_{0} \\right)} + 0.0143788358390289 \\cos{\\left(\\phi^{1}_{0} - 2 \\theta^{1}_{0} + 2 \\theta^{2}_{0} \\right)} + 0.0536625459049482 \\cos{\\left(\\phi^{1}_{0} + 2 \\theta^{1}_{0} - 2 \\theta^{2}_{0} \\right)} - 0.0143788358390289 \\cos{\\left(\\phi^{1}_{0} + 2 \\theta^{1}_{0} + 2 \\theta^{2}_{0} \\right)} + 0.00372151656154337 \\cos{\\left(2 \\phi^{1}_{0} - 2 \\theta^{1}_{0} + 2 \\theta^{2}_{0} \\right)} + 0.0518340389940122 \\cos{\\left(2 \\phi^{1}_{0} + 2 \\theta^{1}_{0} - 2 \\theta^{2}_{0} \\right)} + 0.00372151656154337 \\cos{\\left(2 \\phi^{1}_{0} + 2 \\theta^{1}_{0} + 2 \\theta^{2}_{0} \\right)} + 0.138888888888889 & 0.0555555555555556 \\cos{\\left(2 \\phi^{1}_{0} \\right)} + 0.0833333333333333 \\cos{\\left(2 \\theta^{1}_{0} \\right)} + 0.0277777777777778 \\cos{\\left(2 \\theta^{2}_{1} \\right)} + 0.0392837100659193 \\cos{\\left(\\phi^{1}_{0} - 2 \\theta^{1}_{0} \\right)} - 0.0392837100659193 \\cos{\\left(\\phi^{1}_{0} + 2 \\theta^{1}_{0} \\right)} + 0.0277777777777778 \\cos{\\left(2 \\phi^{1}_{0} - 2 \\theta^{1}_{0} \\right)} + 0.0277777777777778 \\cos{\\left(2 \\phi^{1}_{0} + 2 \\theta^{1}_{0} \\right)} + 0.103668077988024 \\cos{\\left(2 \\phi^{1}_{0} - 2 \\theta^{2}_{1} \\right)} + 0.00744303312308674 \\cos{\\left(2 \\phi^{1}_{0} + 2 \\theta^{2}_{1} \\right)} + 0.0416666666666667 \\cos{\\left(2 \\theta^{1}_{0} - 2 \\theta^{2}_{1} \\right)} + 0.0416666666666667 \\cos{\\left(2 \\theta^{1}_{0} + 2 \\theta^{2}_{1} \\right)} + 0.0518340389940122 \\cos{\\left(- 2 \\phi^{1}_{0} + 2 \\theta^{1}_{0} + 2 \\theta^{2}_{1} \\right)} - 0.0536625459049482 \\cos{\\left(- \\phi^{1}_{0} + 2 \\theta^{1}_{0} + 2 \\theta^{2}_{1} \\right)} + 0.0143788358390289 \\cos{\\left(\\phi^{1}_{0} - 2 \\theta^{1}_{0} + 2 \\theta^{2}_{1} \\right)} + 0.0536625459049482 \\cos{\\left(\\phi^{1}_{0} + 2 \\theta^{1}_{0} - 2 \\theta^{2}_{1} \\right)} - 0.0143788358390289 \\cos{\\left(\\phi^{1}_{0} + 2 \\theta^{1}_{0} + 2 \\theta^{2}_{1} \\right)} + 0.00372151656154337 \\cos{\\left(2 \\phi^{1}_{0} - 2 \\theta^{1}_{0} + 2 \\theta^{2}_{1} \\right)} + 0.0518340389940122 \\cos{\\left(2 \\phi^{1}_{0} + 2 \\theta^{1}_{0} - 2 \\theta^{2}_{1} \\right)} + 0.00372151656154337 \\cos{\\left(2 \\phi^{1}_{0} + 2 \\theta^{1}_{0} + 2 \\theta^{2}_{1} \\right)} + 0.138888888888889\\\\0.0555555555555556 \\cos{\\left(2 \\phi^{1}_{0} \\right)} + 0.0833333333333333 \\cos{\\left(2 \\theta^{1}_{0} \\right)} - 0.0277777777777778 \\cos{\\left(2 \\theta^{2}_{0} \\right)} + 0.0392837100659193 \\cos{\\left(\\phi^{1}_{0} - 2 \\theta^{1}_{0} \\right)} - 0.0392837100659193 \\cos{\\left(\\phi^{1}_{0} + 2 \\theta^{1}_{0} \\right)} + 0.0277777777777778 \\cos{\\left(2 \\phi^{1}_{0} - 2 \\theta^{1}_{0} \\right)} + 0.0277777777777778 \\cos{\\left(2 \\phi^{1}_{0} + 2 \\theta^{1}_{0} \\right)} - 0.103668077988024 \\cos{\\left(2 \\phi^{1}_{0} - 2 \\theta^{2}_{0} \\right)} - 0.00744303312308674 \\cos{\\left(2 \\phi^{1}_{0} + 2 \\theta^{2}_{0} \\right)} - 0.0416666666666667 \\cos{\\left(2 \\theta^{1}_{0} - 2 \\theta^{2}_{0} \\right)} - 0.0416666666666667 \\cos{\\left(2 \\theta^{1}_{0} + 2 \\theta^{2}_{0} \\right)} - 0.0518340389940122 \\cos{\\left(- 2 \\phi^{1}_{0} + 2 \\theta^{1}_{0} + 2 \\theta^{2}_{0} \\right)} + 0.0536625459049482 \\cos{\\left(- \\phi^{1}_{0} + 2 \\theta^{1}_{0} + 2 \\theta^{2}_{0} \\right)} - 0.0143788358390289 \\cos{\\left(\\phi^{1}_{0} - 2 \\theta^{1}_{0} + 2 \\theta^{2}_{0} \\right)} - 0.0536625459049482 \\cos{\\left(\\phi^{1}_{0} + 2 \\theta^{1}_{0} - 2 \\theta^{2}_{0} \\right)} + 0.0143788358390289 \\cos{\\left(\\phi^{1}_{0} + 2 \\theta^{1}_{0} + 2 \\theta^{2}_{0} \\right)} - 0.00372151656154337 \\cos{\\left(2 \\phi^{1}_{0} - 2 \\theta^{1}_{0} + 2 \\theta^{2}_{0} \\right)} - 0.0518340389940122 \\cos{\\left(2 \\phi^{1}_{0} + 2 \\theta^{1}_{0} - 2 \\theta^{2}_{0} \\right)} - 0.00372151656154337 \\cos{\\left(2 \\phi^{1}_{0} + 2 \\theta^{1}_{0} + 2 \\theta^{2}_{0} \\right)} + 0.138888888888889 & 0.0555555555555556 \\cos{\\left(2 \\phi^{1}_{0} \\right)} + 0.0833333333333333 \\cos{\\left(2 \\theta^{1}_{0} \\right)} - 0.0277777777777778 \\cos{\\left(2 \\theta^{2}_{1} \\right)} + 0.0392837100659193 \\cos{\\left(\\phi^{1}_{0} - 2 \\theta^{1}_{0} \\right)} - 0.0392837100659193 \\cos{\\left(\\phi^{1}_{0} + 2 \\theta^{1}_{0} \\right)} + 0.0277777777777778 \\cos{\\left(2 \\phi^{1}_{0} - 2 \\theta^{1}_{0} \\right)} + 0.0277777777777778 \\cos{\\left(2 \\phi^{1}_{0} + 2 \\theta^{1}_{0} \\right)} - 0.103668077988024 \\cos{\\left(2 \\phi^{1}_{0} - 2 \\theta^{2}_{1} \\right)} - 0.00744303312308674 \\cos{\\left(2 \\phi^{1}_{0} + 2 \\theta^{2}_{1} \\right)} - 0.0416666666666667 \\cos{\\left(2 \\theta^{1}_{0} - 2 \\theta^{2}_{1} \\right)} - 0.0416666666666667 \\cos{\\left(2 \\theta^{1}_{0} + 2 \\theta^{2}_{1} \\right)} - 0.0518340389940122 \\cos{\\left(- 2 \\phi^{1}_{0} + 2 \\theta^{1}_{0} + 2 \\theta^{2}_{1} \\right)} + 0.0536625459049482 \\cos{\\left(- \\phi^{1}_{0} + 2 \\theta^{1}_{0} + 2 \\theta^{2}_{1} \\right)} - 0.0143788358390289 \\cos{\\left(\\phi^{1}_{0} - 2 \\theta^{1}_{0} + 2 \\theta^{2}_{1} \\right)} - 0.0536625459049482 \\cos{\\left(\\phi^{1}_{0} + 2 \\theta^{1}_{0} - 2 \\theta^{2}_{1} \\right)} + 0.0143788358390289 \\cos{\\left(\\phi^{1}_{0} + 2 \\theta^{1}_{0} + 2 \\theta^{2}_{1} \\right)} - 0.00372151656154337 \\cos{\\left(2 \\phi^{1}_{0} - 2 \\theta^{1}_{0} + 2 \\theta^{2}_{1} \\right)} - 0.0518340389940122 \\cos{\\left(2 \\phi^{1}_{0} + 2 \\theta^{1}_{0} - 2 \\theta^{2}_{1} \\right)} - 0.00372151656154337 \\cos{\\left(2 \\phi^{1}_{0} + 2 \\theta^{1}_{0} + 2 \\theta^{2}_{1} \\right)} + 0.138888888888889\\\\0.0555555555555556 \\cos{\\left(2 \\phi^{1}_{0} \\right)} - 0.0833333333333333 \\cos{\\left(2 \\theta^{1}_{0} \\right)} + 0.0277777777777778 \\cos{\\left(2 \\theta^{2}_{0} \\right)} - 0.0392837100659193 \\cos{\\left(\\phi^{1}_{0} - 2 \\theta^{1}_{0} \\right)} + 0.0392837100659193 \\cos{\\left(\\phi^{1}_{0} + 2 \\theta^{1}_{0} \\right)} - 0.0277777777777778 \\cos{\\left(2 \\phi^{1}_{0} - 2 \\theta^{1}_{0} \\right)} - 0.0277777777777778 \\cos{\\left(2 \\phi^{1}_{0} + 2 \\theta^{1}_{0} \\right)} + 0.103668077988024 \\cos{\\left(2 \\phi^{1}_{0} - 2 \\theta^{2}_{0} \\right)} + 0.00744303312308674 \\cos{\\left(2 \\phi^{1}_{0} + 2 \\theta^{2}_{0} \\right)} - 0.0416666666666667 \\cos{\\left(2 \\theta^{1}_{0} - 2 \\theta^{2}_{0} \\right)} - 0.0416666666666667 \\cos{\\left(2 \\theta^{1}_{0} + 2 \\theta^{2}_{0} \\right)} - 0.0518340389940122 \\cos{\\left(- 2 \\phi^{1}_{0} + 2 \\theta^{1}_{0} + 2 \\theta^{2}_{0} \\right)} + 0.0536625459049482 \\cos{\\left(- \\phi^{1}_{0} + 2 \\theta^{1}_{0} + 2 \\theta^{2}_{0} \\right)} - 0.0143788358390289 \\cos{\\left(\\phi^{1}_{0} - 2 \\theta^{1}_{0} + 2 \\theta^{2}_{0} \\right)} - 0.0536625459049482 \\cos{\\left(\\phi^{1}_{0} + 2 \\theta^{1}_{0} - 2 \\theta^{2}_{0} \\right)} + 0.0143788358390289 \\cos{\\left(\\phi^{1}_{0} + 2 \\theta^{1}_{0} + 2 \\theta^{2}_{0} \\right)} - 0.00372151656154337 \\cos{\\left(2 \\phi^{1}_{0} - 2 \\theta^{1}_{0} + 2 \\theta^{2}_{0} \\right)} - 0.0518340389940122 \\cos{\\left(2 \\phi^{1}_{0} + 2 \\theta^{1}_{0} - 2 \\theta^{2}_{0} \\right)} - 0.00372151656154337 \\cos{\\left(2 \\phi^{1}_{0} + 2 \\theta^{1}_{0} + 2 \\theta^{2}_{0} \\right)} + 0.138888888888889 & 0.0555555555555556 \\cos{\\left(2 \\phi^{1}_{0} \\right)} - 0.0833333333333333 \\cos{\\left(2 \\theta^{1}_{0} \\right)} + 0.0277777777777778 \\cos{\\left(2 \\theta^{2}_{1} \\right)} - 0.0392837100659193 \\cos{\\left(\\phi^{1}_{0} - 2 \\theta^{1}_{0} \\right)} + 0.0392837100659193 \\cos{\\left(\\phi^{1}_{0} + 2 \\theta^{1}_{0} \\right)} - 0.0277777777777778 \\cos{\\left(2 \\phi^{1}_{0} - 2 \\theta^{1}_{0} \\right)} - 0.0277777777777778 \\cos{\\left(2 \\phi^{1}_{0} + 2 \\theta^{1}_{0} \\right)} + 0.103668077988024 \\cos{\\left(2 \\phi^{1}_{0} - 2 \\theta^{2}_{1} \\right)} + 0.00744303312308674 \\cos{\\left(2 \\phi^{1}_{0} + 2 \\theta^{2}_{1} \\right)} - 0.0416666666666667 \\cos{\\left(2 \\theta^{1}_{0} - 2 \\theta^{2}_{1} \\right)} - 0.0416666666666667 \\cos{\\left(2 \\theta^{1}_{0} + 2 \\theta^{2}_{1} \\right)} - 0.0518340389940122 \\cos{\\left(- 2 \\phi^{1}_{0} + 2 \\theta^{1}_{0} + 2 \\theta^{2}_{1} \\right)} + 0.0536625459049482 \\cos{\\left(- \\phi^{1}_{0} + 2 \\theta^{1}_{0} + 2 \\theta^{2}_{1} \\right)} - 0.0143788358390289 \\cos{\\left(\\phi^{1}_{0} - 2 \\theta^{1}_{0} + 2 \\theta^{2}_{1} \\right)} - 0.0536625459049482 \\cos{\\left(\\phi^{1}_{0} + 2 \\theta^{1}_{0} - 2 \\theta^{2}_{1} \\right)} + 0.0143788358390289 \\cos{\\left(\\phi^{1}_{0} + 2 \\theta^{1}_{0} + 2 \\theta^{2}_{1} \\right)} - 0.00372151656154337 \\cos{\\left(2 \\phi^{1}_{0} - 2 \\theta^{1}_{0} + 2 \\theta^{2}_{1} \\right)} - 0.0518340389940122 \\cos{\\left(2 \\phi^{1}_{0} + 2 \\theta^{1}_{0} - 2 \\theta^{2}_{1} \\right)} - 0.00372151656154337 \\cos{\\left(2 \\phi^{1}_{0} + 2 \\theta^{1}_{0} + 2 \\theta^{2}_{1} \\right)} + 0.138888888888889\\\\0.0555555555555556 \\cos{\\left(2 \\phi^{1}_{0} \\right)} - 0.0833333333333333 \\cos{\\left(2 \\theta^{1}_{0} \\right)} - 0.0277777777777778 \\cos{\\left(2 \\theta^{2}_{0} \\right)} - 0.0392837100659193 \\cos{\\left(\\phi^{1}_{0} - 2 \\theta^{1}_{0} \\right)} + 0.0392837100659193 \\cos{\\left(\\phi^{1}_{0} + 2 \\theta^{1}_{0} \\right)} - 0.0277777777777778 \\cos{\\left(2 \\phi^{1}_{0} - 2 \\theta^{1}_{0} \\right)} - 0.0277777777777778 \\cos{\\left(2 \\phi^{1}_{0} + 2 \\theta^{1}_{0} \\right)} - 0.103668077988024 \\cos{\\left(2 \\phi^{1}_{0} - 2 \\theta^{2}_{0} \\right)} - 0.00744303312308674 \\cos{\\left(2 \\phi^{1}_{0} + 2 \\theta^{2}_{0} \\right)} + 0.0416666666666667 \\cos{\\left(2 \\theta^{1}_{0} - 2 \\theta^{2}_{0} \\right)} + 0.0416666666666667 \\cos{\\left(2 \\theta^{1}_{0} + 2 \\theta^{2}_{0} \\right)} + 0.0518340389940122 \\cos{\\left(- 2 \\phi^{1}_{0} + 2 \\theta^{1}_{0} + 2 \\theta^{2}_{0} \\right)} - 0.0536625459049482 \\cos{\\left(- \\phi^{1}_{0} + 2 \\theta^{1}_{0} + 2 \\theta^{2}_{0} \\right)} + 0.0143788358390289 \\cos{\\left(\\phi^{1}_{0} - 2 \\theta^{1}_{0} + 2 \\theta^{2}_{0} \\right)} + 0.0536625459049482 \\cos{\\left(\\phi^{1}_{0} + 2 \\theta^{1}_{0} - 2 \\theta^{2}_{0} \\right)} - 0.0143788358390289 \\cos{\\left(\\phi^{1}_{0} + 2 \\theta^{1}_{0} + 2 \\theta^{2}_{0} \\right)} + 0.00372151656154337 \\cos{\\left(2 \\phi^{1}_{0} - 2 \\theta^{1}_{0} + 2 \\theta^{2}_{0} \\right)} + 0.0518340389940122 \\cos{\\left(2 \\phi^{1}_{0} + 2 \\theta^{1}_{0} - 2 \\theta^{2}_{0} \\right)} + 0.00372151656154337 \\cos{\\left(2 \\phi^{1}_{0} + 2 \\theta^{1}_{0} + 2 \\theta^{2}_{0} \\right)} + 0.138888888888889 & 0.0555555555555556 \\cos{\\left(2 \\phi^{1}_{0} \\right)} - 0.0833333333333333 \\cos{\\left(2 \\theta^{1}_{0} \\right)} - 0.0277777777777778 \\cos{\\left(2 \\theta^{2}_{1} \\right)} - 0.0392837100659193 \\cos{\\left(\\phi^{1}_{0} - 2 \\theta^{1}_{0} \\right)} + 0.0392837100659193 \\cos{\\left(\\phi^{1}_{0} + 2 \\theta^{1}_{0} \\right)} - 0.0277777777777778 \\cos{\\left(2 \\phi^{1}_{0} - 2 \\theta^{1}_{0} \\right)} - 0.0277777777777778 \\cos{\\left(2 \\phi^{1}_{0} + 2 \\theta^{1}_{0} \\right)} - 0.103668077988024 \\cos{\\left(2 \\phi^{1}_{0} - 2 \\theta^{2}_{1} \\right)} - 0.00744303312308674 \\cos{\\left(2 \\phi^{1}_{0} + 2 \\theta^{2}_{1} \\right)} + 0.0416666666666667 \\cos{\\left(2 \\theta^{1}_{0} - 2 \\theta^{2}_{1} \\right)} + 0.0416666666666667 \\cos{\\left(2 \\theta^{1}_{0} + 2 \\theta^{2}_{1} \\right)} + 0.0518340389940122 \\cos{\\left(- 2 \\phi^{1}_{0} + 2 \\theta^{1}_{0} + 2 \\theta^{2}_{1} \\right)} - 0.0536625459049482 \\cos{\\left(- \\phi^{1}_{0} + 2 \\theta^{1}_{0} + 2 \\theta^{2}_{1} \\right)} + 0.0143788358390289 \\cos{\\left(\\phi^{1}_{0} - 2 \\theta^{1}_{0} + 2 \\theta^{2}_{1} \\right)} + 0.0536625459049482 \\cos{\\left(\\phi^{1}_{0} + 2 \\theta^{1}_{0} - 2 \\theta^{2}_{1} \\right)} - 0.0143788358390289 \\cos{\\left(\\phi^{1}_{0} + 2 \\theta^{1}_{0} + 2 \\theta^{2}_{1} \\right)} + 0.00372151656154337 \\cos{\\left(2 \\phi^{1}_{0} - 2 \\theta^{1}_{0} + 2 \\theta^{2}_{1} \\right)} + 0.0518340389940122 \\cos{\\left(2 \\phi^{1}_{0} + 2 \\theta^{1}_{0} - 2 \\theta^{2}_{1} \\right)} + 0.00372151656154337 \\cos{\\left(2 \\phi^{1}_{0} + 2 \\theta^{1}_{0} + 2 \\theta^{2}_{1} \\right)} + 0.138888888888889\\\\- 0.111111111111111 \\cos{\\left(2 \\phi^{1}_{0} \\right)} + 0.111111111111111 \\cos{\\left(2 \\theta^{2}_{0} \\right)} - 0.207336155976049 \\cos{\\left(2 \\phi^{1}_{0} - 2 \\theta^{2}_{0} \\right)} - 0.0148860662461735 \\cos{\\left(2 \\phi^{1}_{0} + 2 \\theta^{2}_{0} \\right)} + 0.222222222222222 & - 0.111111111111111 \\cos{\\left(2 \\phi^{1}_{0} \\right)} + 0.111111111111111 \\cos{\\left(2 \\theta^{2}_{1} \\right)} - 0.207336155976049 \\cos{\\left(2 \\phi^{1}_{0} - 2 \\theta^{2}_{1} \\right)} - 0.0148860662461735 \\cos{\\left(2 \\phi^{1}_{0} + 2 \\theta^{2}_{1} \\right)} + 0.222222222222222\\\\- 0.111111111111111 \\cos{\\left(2 \\phi^{1}_{0} \\right)} - 0.111111111111111 \\cos{\\left(2 \\theta^{2}_{0} \\right)} + 0.207336155976049 \\cos{\\left(2 \\phi^{1}_{0} - 2 \\theta^{2}_{0} \\right)} + 0.0148860662461735 \\cos{\\left(2 \\phi^{1}_{0} + 2 \\theta^{2}_{0} \\right)} + 0.222222222222222 & - 0.111111111111111 \\cos{\\left(2 \\phi^{1}_{0} \\right)} - 0.111111111111111 \\cos{\\left(2 \\theta^{2}_{1} \\right)} + 0.207336155976049 \\cos{\\left(2 \\phi^{1}_{0} - 2 \\theta^{2}_{1} \\right)} + 0.0148860662461735 \\cos{\\left(2 \\phi^{1}_{0} + 2 \\theta^{2}_{1} \\right)} + 0.222222222222222\\end{matrix}\\right]$"
      ],
      "text/plain": [
       "Matrix([\n",
       "[0.0555555555555556*cos(2*phi_0^1) + 0.0833333333333333*cos(2*theta_0^1) + 0.0277777777777778*cos(2*theta_0^2) + 0.0392837100659193*cos(phi_0^1 - 2*theta_0^1) - 0.0392837100659193*cos(phi_0^1 + 2*theta_0^1) + 0.0277777777777778*cos(2*phi_0^1 - 2*theta_0^1) + 0.0277777777777778*cos(2*phi_0^1 + 2*theta_0^1) + 0.103668077988024*cos(2*phi_0^1 - 2*theta_0^2) + 0.00744303312308674*cos(2*phi_0^1 + 2*theta_0^2) + 0.0416666666666667*cos(2*theta_0^1 - 2*theta_0^2) + 0.0416666666666667*cos(2*theta_0^1 + 2*theta_0^2) + 0.0518340389940122*cos(-2*phi_0^1 + 2*theta_0^1 + 2*theta_0^2) - 0.0536625459049482*cos(-phi_0^1 + 2*theta_0^1 + 2*theta_0^2) + 0.0143788358390289*cos(phi_0^1 - 2*theta_0^1 + 2*theta_0^2) + 0.0536625459049482*cos(phi_0^1 + 2*theta_0^1 - 2*theta_0^2) - 0.0143788358390289*cos(phi_0^1 + 2*theta_0^1 + 2*theta_0^2) + 0.00372151656154337*cos(2*phi_0^1 - 2*theta_0^1 + 2*theta_0^2) + 0.0518340389940122*cos(2*phi_0^1 + 2*theta_0^1 - 2*theta_0^2) + 0.00372151656154337*cos(2*phi_0^1 + 2*theta_0^1 + 2*theta_0^2) + 0.138888888888889, 0.0555555555555556*cos(2*phi_0^1) + 0.0833333333333333*cos(2*theta_0^1) + 0.0277777777777778*cos(2*theta_1^2) + 0.0392837100659193*cos(phi_0^1 - 2*theta_0^1) - 0.0392837100659193*cos(phi_0^1 + 2*theta_0^1) + 0.0277777777777778*cos(2*phi_0^1 - 2*theta_0^1) + 0.0277777777777778*cos(2*phi_0^1 + 2*theta_0^1) + 0.103668077988024*cos(2*phi_0^1 - 2*theta_1^2) + 0.00744303312308674*cos(2*phi_0^1 + 2*theta_1^2) + 0.0416666666666667*cos(2*theta_0^1 - 2*theta_1^2) + 0.0416666666666667*cos(2*theta_0^1 + 2*theta_1^2) + 0.0518340389940122*cos(-2*phi_0^1 + 2*theta_0^1 + 2*theta_1^2) - 0.0536625459049482*cos(-phi_0^1 + 2*theta_0^1 + 2*theta_1^2) + 0.0143788358390289*cos(phi_0^1 - 2*theta_0^1 + 2*theta_1^2) + 0.0536625459049482*cos(phi_0^1 + 2*theta_0^1 - 2*theta_1^2) - 0.0143788358390289*cos(phi_0^1 + 2*theta_0^1 + 2*theta_1^2) + 0.00372151656154337*cos(2*phi_0^1 - 2*theta_0^1 + 2*theta_1^2) + 0.0518340389940122*cos(2*phi_0^1 + 2*theta_0^1 - 2*theta_1^2) + 0.00372151656154337*cos(2*phi_0^1 + 2*theta_0^1 + 2*theta_1^2) + 0.138888888888889],\n",
       "[0.0555555555555556*cos(2*phi_0^1) + 0.0833333333333333*cos(2*theta_0^1) - 0.0277777777777778*cos(2*theta_0^2) + 0.0392837100659193*cos(phi_0^1 - 2*theta_0^1) - 0.0392837100659193*cos(phi_0^1 + 2*theta_0^1) + 0.0277777777777778*cos(2*phi_0^1 - 2*theta_0^1) + 0.0277777777777778*cos(2*phi_0^1 + 2*theta_0^1) - 0.103668077988024*cos(2*phi_0^1 - 2*theta_0^2) - 0.00744303312308674*cos(2*phi_0^1 + 2*theta_0^2) - 0.0416666666666667*cos(2*theta_0^1 - 2*theta_0^2) - 0.0416666666666667*cos(2*theta_0^1 + 2*theta_0^2) - 0.0518340389940122*cos(-2*phi_0^1 + 2*theta_0^1 + 2*theta_0^2) + 0.0536625459049482*cos(-phi_0^1 + 2*theta_0^1 + 2*theta_0^2) - 0.0143788358390289*cos(phi_0^1 - 2*theta_0^1 + 2*theta_0^2) - 0.0536625459049482*cos(phi_0^1 + 2*theta_0^1 - 2*theta_0^2) + 0.0143788358390289*cos(phi_0^1 + 2*theta_0^1 + 2*theta_0^2) - 0.00372151656154337*cos(2*phi_0^1 - 2*theta_0^1 + 2*theta_0^2) - 0.0518340389940122*cos(2*phi_0^1 + 2*theta_0^1 - 2*theta_0^2) - 0.00372151656154337*cos(2*phi_0^1 + 2*theta_0^1 + 2*theta_0^2) + 0.138888888888889, 0.0555555555555556*cos(2*phi_0^1) + 0.0833333333333333*cos(2*theta_0^1) - 0.0277777777777778*cos(2*theta_1^2) + 0.0392837100659193*cos(phi_0^1 - 2*theta_0^1) - 0.0392837100659193*cos(phi_0^1 + 2*theta_0^1) + 0.0277777777777778*cos(2*phi_0^1 - 2*theta_0^1) + 0.0277777777777778*cos(2*phi_0^1 + 2*theta_0^1) - 0.103668077988024*cos(2*phi_0^1 - 2*theta_1^2) - 0.00744303312308674*cos(2*phi_0^1 + 2*theta_1^2) - 0.0416666666666667*cos(2*theta_0^1 - 2*theta_1^2) - 0.0416666666666667*cos(2*theta_0^1 + 2*theta_1^2) - 0.0518340389940122*cos(-2*phi_0^1 + 2*theta_0^1 + 2*theta_1^2) + 0.0536625459049482*cos(-phi_0^1 + 2*theta_0^1 + 2*theta_1^2) - 0.0143788358390289*cos(phi_0^1 - 2*theta_0^1 + 2*theta_1^2) - 0.0536625459049482*cos(phi_0^1 + 2*theta_0^1 - 2*theta_1^2) + 0.0143788358390289*cos(phi_0^1 + 2*theta_0^1 + 2*theta_1^2) - 0.00372151656154337*cos(2*phi_0^1 - 2*theta_0^1 + 2*theta_1^2) - 0.0518340389940122*cos(2*phi_0^1 + 2*theta_0^1 - 2*theta_1^2) - 0.00372151656154337*cos(2*phi_0^1 + 2*theta_0^1 + 2*theta_1^2) + 0.138888888888889],\n",
       "[0.0555555555555556*cos(2*phi_0^1) - 0.0833333333333333*cos(2*theta_0^1) + 0.0277777777777778*cos(2*theta_0^2) - 0.0392837100659193*cos(phi_0^1 - 2*theta_0^1) + 0.0392837100659193*cos(phi_0^1 + 2*theta_0^1) - 0.0277777777777778*cos(2*phi_0^1 - 2*theta_0^1) - 0.0277777777777778*cos(2*phi_0^1 + 2*theta_0^1) + 0.103668077988024*cos(2*phi_0^1 - 2*theta_0^2) + 0.00744303312308674*cos(2*phi_0^1 + 2*theta_0^2) - 0.0416666666666667*cos(2*theta_0^1 - 2*theta_0^2) - 0.0416666666666667*cos(2*theta_0^1 + 2*theta_0^2) - 0.0518340389940122*cos(-2*phi_0^1 + 2*theta_0^1 + 2*theta_0^2) + 0.0536625459049482*cos(-phi_0^1 + 2*theta_0^1 + 2*theta_0^2) - 0.0143788358390289*cos(phi_0^1 - 2*theta_0^1 + 2*theta_0^2) - 0.0536625459049482*cos(phi_0^1 + 2*theta_0^1 - 2*theta_0^2) + 0.0143788358390289*cos(phi_0^1 + 2*theta_0^1 + 2*theta_0^2) - 0.00372151656154337*cos(2*phi_0^1 - 2*theta_0^1 + 2*theta_0^2) - 0.0518340389940122*cos(2*phi_0^1 + 2*theta_0^1 - 2*theta_0^2) - 0.00372151656154337*cos(2*phi_0^1 + 2*theta_0^1 + 2*theta_0^2) + 0.138888888888889, 0.0555555555555556*cos(2*phi_0^1) - 0.0833333333333333*cos(2*theta_0^1) + 0.0277777777777778*cos(2*theta_1^2) - 0.0392837100659193*cos(phi_0^1 - 2*theta_0^1) + 0.0392837100659193*cos(phi_0^1 + 2*theta_0^1) - 0.0277777777777778*cos(2*phi_0^1 - 2*theta_0^1) - 0.0277777777777778*cos(2*phi_0^1 + 2*theta_0^1) + 0.103668077988024*cos(2*phi_0^1 - 2*theta_1^2) + 0.00744303312308674*cos(2*phi_0^1 + 2*theta_1^2) - 0.0416666666666667*cos(2*theta_0^1 - 2*theta_1^2) - 0.0416666666666667*cos(2*theta_0^1 + 2*theta_1^2) - 0.0518340389940122*cos(-2*phi_0^1 + 2*theta_0^1 + 2*theta_1^2) + 0.0536625459049482*cos(-phi_0^1 + 2*theta_0^1 + 2*theta_1^2) - 0.0143788358390289*cos(phi_0^1 - 2*theta_0^1 + 2*theta_1^2) - 0.0536625459049482*cos(phi_0^1 + 2*theta_0^1 - 2*theta_1^2) + 0.0143788358390289*cos(phi_0^1 + 2*theta_0^1 + 2*theta_1^2) - 0.00372151656154337*cos(2*phi_0^1 - 2*theta_0^1 + 2*theta_1^2) - 0.0518340389940122*cos(2*phi_0^1 + 2*theta_0^1 - 2*theta_1^2) - 0.00372151656154337*cos(2*phi_0^1 + 2*theta_0^1 + 2*theta_1^2) + 0.138888888888889],\n",
       "[0.0555555555555556*cos(2*phi_0^1) - 0.0833333333333333*cos(2*theta_0^1) - 0.0277777777777778*cos(2*theta_0^2) - 0.0392837100659193*cos(phi_0^1 - 2*theta_0^1) + 0.0392837100659193*cos(phi_0^1 + 2*theta_0^1) - 0.0277777777777778*cos(2*phi_0^1 - 2*theta_0^1) - 0.0277777777777778*cos(2*phi_0^1 + 2*theta_0^1) - 0.103668077988024*cos(2*phi_0^1 - 2*theta_0^2) - 0.00744303312308674*cos(2*phi_0^1 + 2*theta_0^2) + 0.0416666666666667*cos(2*theta_0^1 - 2*theta_0^2) + 0.0416666666666667*cos(2*theta_0^1 + 2*theta_0^2) + 0.0518340389940122*cos(-2*phi_0^1 + 2*theta_0^1 + 2*theta_0^2) - 0.0536625459049482*cos(-phi_0^1 + 2*theta_0^1 + 2*theta_0^2) + 0.0143788358390289*cos(phi_0^1 - 2*theta_0^1 + 2*theta_0^2) + 0.0536625459049482*cos(phi_0^1 + 2*theta_0^1 - 2*theta_0^2) - 0.0143788358390289*cos(phi_0^1 + 2*theta_0^1 + 2*theta_0^2) + 0.00372151656154337*cos(2*phi_0^1 - 2*theta_0^1 + 2*theta_0^2) + 0.0518340389940122*cos(2*phi_0^1 + 2*theta_0^1 - 2*theta_0^2) + 0.00372151656154337*cos(2*phi_0^1 + 2*theta_0^1 + 2*theta_0^2) + 0.138888888888889, 0.0555555555555556*cos(2*phi_0^1) - 0.0833333333333333*cos(2*theta_0^1) - 0.0277777777777778*cos(2*theta_1^2) - 0.0392837100659193*cos(phi_0^1 - 2*theta_0^1) + 0.0392837100659193*cos(phi_0^1 + 2*theta_0^1) - 0.0277777777777778*cos(2*phi_0^1 - 2*theta_0^1) - 0.0277777777777778*cos(2*phi_0^1 + 2*theta_0^1) - 0.103668077988024*cos(2*phi_0^1 - 2*theta_1^2) - 0.00744303312308674*cos(2*phi_0^1 + 2*theta_1^2) + 0.0416666666666667*cos(2*theta_0^1 - 2*theta_1^2) + 0.0416666666666667*cos(2*theta_0^1 + 2*theta_1^2) + 0.0518340389940122*cos(-2*phi_0^1 + 2*theta_0^1 + 2*theta_1^2) - 0.0536625459049482*cos(-phi_0^1 + 2*theta_0^1 + 2*theta_1^2) + 0.0143788358390289*cos(phi_0^1 - 2*theta_0^1 + 2*theta_1^2) + 0.0536625459049482*cos(phi_0^1 + 2*theta_0^1 - 2*theta_1^2) - 0.0143788358390289*cos(phi_0^1 + 2*theta_0^1 + 2*theta_1^2) + 0.00372151656154337*cos(2*phi_0^1 - 2*theta_0^1 + 2*theta_1^2) + 0.0518340389940122*cos(2*phi_0^1 + 2*theta_0^1 - 2*theta_1^2) + 0.00372151656154337*cos(2*phi_0^1 + 2*theta_0^1 + 2*theta_1^2) + 0.138888888888889],\n",
       "[                                                                                                                                                                                                                                                                                                                                                                                                                                                                                                                                                                                                                                                                                                                                                                                                                                                                                -0.111111111111111*cos(2*phi_0^1) + 0.111111111111111*cos(2*theta_0^2) - 0.207336155976049*cos(2*phi_0^1 - 2*theta_0^2) - 0.0148860662461735*cos(2*phi_0^1 + 2*theta_0^2) + 0.222222222222222,                                                                                                                                                                                                                                                                                                                                                                                                                                                                                                                                                                                                                                                                                                                                                                                                                                                                                 -0.111111111111111*cos(2*phi_0^1) + 0.111111111111111*cos(2*theta_1^2) - 0.207336155976049*cos(2*phi_0^1 - 2*theta_1^2) - 0.0148860662461735*cos(2*phi_0^1 + 2*theta_1^2) + 0.222222222222222],\n",
       "[                                                                                                                                                                                                                                                                                                                                                                                                                                                                                                                                                                                                                                                                                                                                                                                                                                                                                -0.111111111111111*cos(2*phi_0^1) - 0.111111111111111*cos(2*theta_0^2) + 0.207336155976049*cos(2*phi_0^1 - 2*theta_0^2) + 0.0148860662461735*cos(2*phi_0^1 + 2*theta_0^2) + 0.222222222222222,                                                                                                                                                                                                                                                                                                                                                                                                                                                                                                                                                                                                                                                                                                                                                                                                                                                                                 -0.111111111111111*cos(2*phi_0^1) - 0.111111111111111*cos(2*theta_1^2) + 0.207336155976049*cos(2*phi_0^1 - 2*theta_1^2) + 0.0148860662461735*cos(2*phi_0^1 + 2*theta_1^2) + 0.222222222222222]])"
      ]
     },
     "execution_count": 162,
     "metadata": {},
     "output_type": "execute_result"
    }
   ],
   "source": [
    "Q3 = Q(rho(Matrix([(6/9)**0.5,0,0,(2/9)**0.5,0,(1/9)**0.5])))\n",
    "Q3"
   ]
  },
  {
   "cell_type": "code",
   "execution_count": 163,
   "id": "9001a2c0-3584-4161-b157-9e1d9798f681",
   "metadata": {},
   "outputs": [
    {
     "data": {
      "text/plain": [
       "array([[ 0.   ,  0.111],\n",
       "       [ 0.111,  0.   ],\n",
       "       [ 0.   ,  0.222],\n",
       "       [ 0.222,  0.   ],\n",
       "       [ 0.667, -0.   ],\n",
       "       [-0.   ,  0.667]])"
      ]
     },
     "execution_count": 163,
     "metadata": {},
     "output_type": "execute_result"
    }
   ],
   "source": [
    "nQ(Q3, pi/2, 0, pi/2, pi/2)"
   ]
  },
  {
   "cell_type": "code",
   "execution_count": null,
   "id": "ea816c3f-687a-4d5a-a40f-3258f02bb2b5",
   "metadata": {},
   "outputs": [],
   "source": []
  },
  {
   "cell_type": "code",
   "execution_count": 33,
   "id": "2eedf630-fb4f-43a1-9827-d103981ac745",
   "metadata": {},
   "outputs": [
    {
     "data": {
      "text/latex": [
       "$\\displaystyle \\left[\\begin{matrix}0.5 \\left(\\sin{\\left(\\theta^{1}_{0} \\right)} \\sin{\\left(\\theta^{2}_{0} \\right)} + \\cos{\\left(\\phi^{1}_{0} \\right)} \\cos{\\left(\\theta^{1}_{0} \\right)} \\cos{\\left(\\theta^{2}_{0} \\right)}\\right)^{2}\\\\0.5 \\left(\\sin{\\left(\\theta^{1}_{0} \\right)} \\cos{\\left(\\theta^{2}_{0} \\right)} - \\sin{\\left(\\theta^{2}_{0} \\right)} \\cos{\\left(\\phi^{1}_{0} \\right)} \\cos{\\left(\\theta^{1}_{0} \\right)}\\right)^{2}\\\\0.5 \\left(\\sin{\\left(\\theta^{1}_{0} \\right)} \\cos{\\left(\\phi^{1}_{0} \\right)} \\cos{\\left(\\theta^{2}_{0} \\right)} - \\sin{\\left(\\theta^{2}_{0} \\right)} \\cos{\\left(\\theta^{1}_{0} \\right)}\\right)^{2}\\\\0.5 \\left(\\sin{\\left(\\theta^{1}_{0} \\right)} \\sin{\\left(\\theta^{2}_{0} \\right)} \\cos{\\left(\\phi^{1}_{0} \\right)} + \\cos{\\left(\\theta^{1}_{0} \\right)} \\cos{\\left(\\theta^{2}_{0} \\right)}\\right)^{2}\\\\0.5 \\sin^{2}{\\left(\\phi^{1}_{0} \\right)} \\cos^{2}{\\left(\\theta^{2}_{0} \\right)}\\\\0.5 \\sin^{2}{\\left(\\phi^{1}_{0} \\right)} \\sin^{2}{\\left(\\theta^{2}_{0} \\right)}\\end{matrix}\\right]$"
      ],
      "text/plain": [
       "Matrix([\n",
       "[0.5*(sin(theta_0^1)*sin(theta_0^2) + cos(phi_0^1)*cos(theta_0^1)*cos(theta_0^2))**2],\n",
       "[0.5*(sin(theta_0^1)*cos(theta_0^2) - sin(theta_0^2)*cos(phi_0^1)*cos(theta_0^1))**2],\n",
       "[0.5*(sin(theta_0^1)*cos(phi_0^1)*cos(theta_0^2) - sin(theta_0^2)*cos(theta_0^1))**2],\n",
       "[0.5*(sin(theta_0^1)*sin(theta_0^2)*cos(phi_0^1) + cos(theta_0^1)*cos(theta_0^2))**2],\n",
       "[                                              0.5*sin(phi_0^1)**2*cos(theta_0^2)**2],\n",
       "[                                              0.5*sin(phi_0^1)**2*sin(theta_0^2)**2]])"
      ]
     },
     "execution_count": 33,
     "metadata": {},
     "output_type": "execute_result"
    }
   ],
   "source": [
    "Q[:,0]"
   ]
  },
  {
   "cell_type": "code",
   "execution_count": 83,
   "id": "65cfe99e-8a8f-4cfd-9028-67569a9617d5",
   "metadata": {},
   "outputs": [
    {
     "data": {
      "text/latex": [
       "$\\displaystyle 1.0$"
      ],
      "text/plain": [
       "1.00000000000000"
      ]
     },
     "execution_count": 83,
     "metadata": {},
     "output_type": "execute_result"
    }
   ],
   "source": [
    "s = 0 \n",
    "for i in Q1[:,0]:\n",
    "    s += i\n",
    "\n",
    "simplify(s)    "
   ]
  },
  {
   "cell_type": "code",
   "execution_count": 43,
   "id": "4688b36d-0727-45b8-9f4e-a52b332d9c46",
   "metadata": {},
   "outputs": [
    {
     "data": {
      "text/plain": [
       "0.0"
      ]
     },
     "execution_count": 43,
     "metadata": {},
     "output_type": "execute_result"
    }
   ],
   "source": [
    "l = sin(th(1,0))\n",
    "f = lambdify([th(1,0)], l)\n",
    "f(0)"
   ]
  },
  {
   "cell_type": "code",
   "execution_count": 62,
   "id": "cd0df160-97d2-410a-883f-5d01a361559b",
   "metadata": {},
   "outputs": [],
   "source": [
    "f = lambdify([th(1,0), th(2,0), th(2,1), ph(1,0)], Q)"
   ]
  },
  {
   "cell_type": "code",
   "execution_count": 71,
   "id": "12500e7e-8ddc-4146-aa1a-d302f1afa884",
   "metadata": {},
   "outputs": [
    {
     "data": {
      "text/plain": [
       "array([[0. , 0.5],\n",
       "       [0.5, 0. ],\n",
       "       [0.5, 0. ],\n",
       "       [0. , 0.5],\n",
       "       [0. , 0. ],\n",
       "       [0. , 0. ]])"
      ]
     },
     "execution_count": 71,
     "metadata": {},
     "output_type": "execute_result"
    }
   ],
   "source": [
    "around(f(pi/2, 0, pi/2, 0), decimals=1)"
   ]
  },
  {
   "cell_type": "code",
   "execution_count": 76,
   "id": "51548aae-7582-4030-a4a3-964e502b21c0",
   "metadata": {},
   "outputs": [],
   "source": []
  },
  {
   "cell_type": "code",
   "execution_count": 59,
   "id": "02985d96-553c-43c1-9821-4911a8fe7641",
   "metadata": {},
   "outputs": [
    {
     "data": {
      "text/plain": [
       "3.141592653589793"
      ]
     },
     "execution_count": 59,
     "metadata": {},
     "output_type": "execute_result"
    }
   ],
   "source": [
    "pi"
   ]
  },
  {
   "cell_type": "code",
   "execution_count": 39,
   "id": "8cfed29d-4f38-45fd-9240-b87b4dd1fe03",
   "metadata": {},
   "outputs": [
    {
     "data": {
      "text/latex": [
       "$\\displaystyle \\theta^{1}_{0}$"
      ],
      "text/plain": [
       "theta_0^1"
      ]
     },
     "execution_count": 39,
     "metadata": {},
     "output_type": "execute_result"
    }
   ],
   "source": [
    "th(1,0)"
   ]
  },
  {
   "cell_type": "code",
   "execution_count": 4,
   "id": "13bb6f47-ee7a-488c-9c2a-00571d7cd781",
   "metadata": {},
   "outputs": [
    {
     "data": {
      "text/latex": [
       "$\\displaystyle \\phi^{1}_{0}$"
      ],
      "text/plain": [
       "phi_0^1"
      ]
     },
     "execution_count": 4,
     "metadata": {},
     "output_type": "execute_result"
    }
   ],
   "source": [
    "ph(1,0)"
   ]
  },
  {
   "cell_type": "code",
   "execution_count": 12,
   "id": "3f0fe80e-4a72-4e5a-aaf6-2f5af33aae73",
   "metadata": {},
   "outputs": [],
   "source": [
    "from sympy.abc import x, y, z, t, p"
   ]
  },
  {
   "cell_type": "code",
   "execution_count": 22,
   "id": "ce4de101-a887-459e-84b1-bad5c0d8cf4b",
   "metadata": {},
   "outputs": [
    {
     "data": {
      "text/plain": [
       "[(-sin(p), cos(p), 0), (sin(p), -cos(p), 0)]"
      ]
     },
     "execution_count": 22,
     "metadata": {},
     "output_type": "execute_result"
    }
   ],
   "source": [
    "solve((cos(p)*cos(t)*x + sin(p)*cos(t)*y + sin(t)*z, cos(p)*sin(t)*x + sin(p)*sin(t)*y -cos(t)*z, x**2 + y**2 + z**2 - 1), x, y, z)"
   ]
  },
  {
   "cell_type": "code",
   "execution_count": null,
   "id": "90067bf2-c1c0-493e-8eba-47ca16508688",
   "metadata": {},
   "outputs": [
    {
     "data": {
      "text/latex": [
       "$\\displaystyle \\left( - z \\cos{\\left(p \\right)} \\tan{\\left(t \\right)} - \\frac{\\sqrt{- z^{2} + \\cos^{2}{\\left(t \\right)}} \\sin{\\left(p \\right)}}{\\cos{\\left(t \\right)}}, \\  - z \\sin{\\left(p \\right)} \\tan{\\left(t \\right)} + \\frac{\\sqrt{- z^{2} + \\cos^{2}{\\left(t \\right)}} \\cos{\\left(p \\right)}}{\\cos{\\left(t \\right)}}, \\  z\\right)$"
      ],
      "text/plain": [
       "(-z*cos(p)*tan(t) - sqrt(-z**2 + cos(t)**2)*sin(p)/cos(t), -z*sin(p)*tan(t) + sqrt(-z**2 + cos(t)**2)*cos(p)/cos(t), z)"
      ]
     },
     "execution_count": 21,
     "metadata": {},
     "output_type": "execute_result"
    }
   ],
   "source": []
  }
 ],
 "metadata": {
  "kernelspec": {
   "display_name": "Python 3",
   "language": "python",
   "name": "python3"
  },
  "language_info": {
   "codemirror_mode": {
    "name": "ipython",
    "version": 3
   },
   "file_extension": ".py",
   "mimetype": "text/x-python",
   "name": "python",
   "nbconvert_exporter": "python",
   "pygments_lexer": "ipython3",
   "version": "3.9.5"
  }
 },
 "nbformat": 4,
 "nbformat_minor": 5
}
