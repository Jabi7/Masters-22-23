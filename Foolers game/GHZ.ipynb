{
 "cells": [
  {
   "cell_type": "markdown",
   "id": "00a2e495-6630-484e-aab2-0b5f48aa462c",
   "metadata": {},
   "source": [
    "# Qubit games"
   ]
  },
  {
   "cell_type": "code",
   "execution_count": 33,
   "id": "c765a5b6-9fb4-41e7-abff-dae98f1e84e9",
   "metadata": {},
   "outputs": [],
   "source": [
    "from itertools import product as pr\n",
    "from sympy import Matrix as m, Symbol, latex, sqrt, sin, cos, simplify, Trace, Sum, expand, solve, lambdify, exp\n",
    "from sympy.simplify.fu import fu, TR3\n",
    "from sympy.matrices import eye, zeros, ones, diag\n",
    "from sympy.physics.quantum import TensorProduct as tp, Dagger as dg\n",
    "from numpy import pi, around, exp as e, sqrt as sq\n",
    "## trace\n",
    "def tr(m): \n",
    "    return Trace(m).simplify()"
   ]
  },
  {
   "cell_type": "markdown",
   "id": "7c4f9612-7a0e-471e-82d0-f0cae982bc68",
   "metadata": {},
   "source": [
    "# Arbitary qubit basis\n",
    "\n",
    "$$\n",
    "|\\phi_0\\rangle=\\cos (\\theta )|0\\rangle+ e^{i \\alpha} \\sin (\\theta)|1\\rangle\n",
    "$$\n",
    "\n",
    "$$\n",
    "|\\phi_1\\rangle=\\sin (\\theta )|0\\rangle - e^{-i \\alpha} \\cos (\\theta)|1\\rangle\n",
    "$$"
   ]
  },
  {
   "cell_type": "code",
   "execution_count": 51,
   "id": "c254f64a-1370-4bff-8188-a9aa715a14d5",
   "metadata": {},
   "outputs": [],
   "source": [
    "Ai, Ti = [0,1], [0,1]\n",
    "\n",
    "# Measure basis\n",
    "phi = [lambda th, al: m([cos(th), exp(1j*al)*sin(th)]), lambda th, al: m([sin(th), -exp(1j*al)*cos(th)])]\n",
    "th = lambda player, typ: Symbol('theta'+'_'+str(typ)+'^'+str(player), real = True) \n",
    "alp = lambda player, typ: Symbol('alpha'+'_'+str(typ)+'^'+str(player), real = True) \n",
    "\n",
    "# State rho\n",
    "rho =  lambda b: tp(b,b.H)\n",
    "\n",
    "# POVM\n",
    "M = lambda th, al: [rho(phi[i](th, al)) for i in [0,1]]  \n",
    "\n",
    "# Q(a|[t])\n",
    "Qa = lambda rho, th, al: [simplify(tr(rho*tp(M(th, al)[a1], M(th,al)[a2], M(th,al)[a3]))) for (a1,a2,a3) in list(pr(Ai,Ai,Ai))]"
   ]
  },
  {
   "cell_type": "code",
   "execution_count": null,
   "id": "bdde4270-e633-45c8-b53c-313e28304dee",
   "metadata": {},
   "outputs": [],
   "source": []
  },
  {
   "cell_type": "code",
   "execution_count": null,
   "id": "2a686c80-353b-4ff9-9604-75825252bfb1",
   "metadata": {},
   "outputs": [],
   "source": []
  },
  {
   "cell_type": "markdown",
   "id": "3ffc1120-2c4a-47fd-93a9-31d5b1236685",
   "metadata": {},
   "source": [
    "# Testings"
   ]
  },
  {
   "cell_type": "code",
   "execution_count": 53,
   "id": "3574415b-6ea0-4d7b-a751-912ce583ed39",
   "metadata": {},
   "outputs": [
    {
     "data": {
      "text/plain": [
       "[0.5*exp(3.0*I*alpha_0^1)*sin(theta_0^1)**3*cos(theta_0^1)**3 + 0.5*sin(theta_0^1)**6 + 0.5*cos(theta_0^1)**6 + 0.5*exp(-3.0*I*alpha_0^1)*sin(theta_0^1)**3*cos(theta_0^1)**3,\n",
       " 0.5*(exp(3.0*I*alpha_0^1) - exp(6.0*I*alpha_0^1)*sin(2*theta_0^1)/2 - sin(2*theta_0^1)/2)*exp(-3.0*I*alpha_0^1)*sin(theta_0^1)**2*cos(theta_0^1)**2,\n",
       " 0.5*(exp(3.0*I*alpha_0^1) - exp(6.0*I*alpha_0^1)*sin(2*theta_0^1)/2 - sin(2*theta_0^1)/2)*exp(-3.0*I*alpha_0^1)*sin(theta_0^1)**2*cos(theta_0^1)**2,\n",
       " 0.5*(exp(3.0*I*alpha_0^1) + exp(6.0*I*alpha_0^1)*sin(2*theta_0^1)/2 + sin(2*theta_0^1)/2)*exp(-3.0*I*alpha_0^1)*sin(theta_0^1)**2*cos(theta_0^1)**2,\n",
       " 0.5*(exp(3.0*I*alpha_0^1) - exp(6.0*I*alpha_0^1)*sin(2*theta_0^1)/2 - sin(2*theta_0^1)/2)*exp(-3.0*I*alpha_0^1)*sin(theta_0^1)**2*cos(theta_0^1)**2,\n",
       " 0.5*(exp(3.0*I*alpha_0^1) + exp(6.0*I*alpha_0^1)*sin(2*theta_0^1)/2 + sin(2*theta_0^1)/2)*exp(-3.0*I*alpha_0^1)*sin(theta_0^1)**2*cos(theta_0^1)**2,\n",
       " 0.5*(exp(3.0*I*alpha_0^1) + exp(6.0*I*alpha_0^1)*sin(2*theta_0^1)/2 + sin(2*theta_0^1)/2)*exp(-3.0*I*alpha_0^1)*sin(theta_0^1)**2*cos(theta_0^1)**2,\n",
       " -0.5*exp(3.0*I*alpha_0^1)*sin(theta_0^1)**3*cos(theta_0^1)**3 + 0.5*sin(theta_0^1)**6 + 0.5*cos(theta_0^1)**6 - 0.5*exp(-3.0*I*alpha_0^1)*sin(theta_0^1)**3*cos(theta_0^1)**3]"
      ]
     },
     "execution_count": 53,
     "metadata": {},
     "output_type": "execute_result"
    }
   ],
   "source": [
    "Qa(rho(sq(1/2)*m([1,0,0,0,0,0,0,1])),th(1,0), alp(1,0))"
   ]
  },
  {
   "cell_type": "code",
   "execution_count": 43,
   "id": "55224f0c-058d-4275-8f63-072313a1202f",
   "metadata": {},
   "outputs": [
    {
     "data": {
      "text/plain": [
       "[Matrix([\n",
       " [               cos(1)**2, exp(-2.0*I)*sin(1)*cos(1)],\n",
       " [exp(2.0*I)*sin(1)*cos(1),                 sin(1)**2]]),\n",
       " Matrix([\n",
       " [                sin(1)**2, -exp(-2.0*I)*sin(1)*cos(1)],\n",
       " [-exp(2.0*I)*sin(1)*cos(1),                  cos(1)**2]])]"
      ]
     },
     "execution_count": 43,
     "metadata": {},
     "output_type": "execute_result"
    }
   ],
   "source": [
    "M(1,2)"
   ]
  },
  {
   "cell_type": "code",
   "execution_count": 41,
   "id": "4806bbf9-8e6e-45a3-9adb-e0bc41404358",
   "metadata": {},
   "outputs": [
    {
     "data": {
      "text/latex": [
       "$\\displaystyle \\left[\\begin{matrix}\\cos{\\left(\\theta^{1}_{0} \\right)}\\\\e^{1.0 i \\alpha^{1}_{0}} \\sin{\\left(\\theta^{1}_{0} \\right)}\\end{matrix}\\right]$"
      ],
      "text/plain": [
       "Matrix([\n",
       "[                     cos(theta_0^1)],\n",
       "[exp(1.0*I*alpha_0^1)*sin(theta_0^1)]])"
      ]
     },
     "execution_count": 41,
     "metadata": {},
     "output_type": "execute_result"
    }
   ],
   "source": [
    "phi[0](th(1,0), alp(1,0))"
   ]
  },
  {
   "cell_type": "code",
   "execution_count": 13,
   "id": "0ad3f64f-719d-4525-bdea-a06c70c29e91",
   "metadata": {},
   "outputs": [
    {
     "data": {
      "text/latex": [
       "$\\displaystyle \\left[\\begin{matrix}0.5 & 0 & 0 & 0 & 0 & 0 & 0 & 0.5\\\\0 & 0 & 0 & 0 & 0 & 0 & 0 & 0\\\\0 & 0 & 0 & 0 & 0 & 0 & 0 & 0\\\\0 & 0 & 0 & 0 & 0 & 0 & 0 & 0\\\\0 & 0 & 0 & 0 & 0 & 0 & 0 & 0\\\\0 & 0 & 0 & 0 & 0 & 0 & 0 & 0\\\\0 & 0 & 0 & 0 & 0 & 0 & 0 & 0\\\\0.5 & 0 & 0 & 0 & 0 & 0 & 0 & 0.5\\end{matrix}\\right]$"
      ],
      "text/plain": [
       "Matrix([\n",
       "[0.5, 0, 0, 0, 0, 0, 0, 0.5],\n",
       "[  0, 0, 0, 0, 0, 0, 0,   0],\n",
       "[  0, 0, 0, 0, 0, 0, 0,   0],\n",
       "[  0, 0, 0, 0, 0, 0, 0,   0],\n",
       "[  0, 0, 0, 0, 0, 0, 0,   0],\n",
       "[  0, 0, 0, 0, 0, 0, 0,   0],\n",
       "[  0, 0, 0, 0, 0, 0, 0,   0],\n",
       "[0.5, 0, 0, 0, 0, 0, 0, 0.5]])"
      ]
     },
     "execution_count": 13,
     "metadata": {},
     "output_type": "execute_result"
    }
   ],
   "source": [
    "rho(sq(1/2)*m([1,0,0,0,0,0,0,1]))"
   ]
  },
  {
   "cell_type": "code",
   "execution_count": 37,
   "id": "ca1d4e72-37d3-4e72-ab3e-9ef09b400dc7",
   "metadata": {},
   "outputs": [
    {
     "data": {
      "text/latex": [
       "$\\displaystyle e^{8.0 i}$"
      ],
      "text/plain": [
       "exp(8.0*I)"
      ]
     },
     "execution_count": 37,
     "metadata": {},
     "output_type": "execute_result"
    }
   ],
   "source": [
    "exp(1j*8).simplify()"
   ]
  },
  {
   "cell_type": "code",
   "execution_count": 45,
   "id": "25bf959c-3471-4b5f-9623-bc9a01e37704",
   "metadata": {},
   "outputs": [
    {
     "data": {
      "text/latex": [
       "$\\displaystyle \\left[\\begin{matrix}2\\\\3\\\\9\\\\8\\end{matrix}\\right]$"
      ],
      "text/plain": [
       "Matrix([\n",
       "[2],\n",
       "[3],\n",
       "[9],\n",
       "[8]])"
      ]
     },
     "execution_count": 45,
     "metadata": {},
     "output_type": "execute_result"
    }
   ],
   "source": [
    "m([m([2,3]),m([9,8])])"
   ]
  },
  {
   "cell_type": "code",
   "execution_count": 30,
   "id": "2127c1e3-61d9-4f83-9407-1ac0ef1e6740",
   "metadata": {},
   "outputs": [],
   "source": [
    "from sympy.abc import x"
   ]
  },
  {
   "cell_type": "code",
   "execution_count": 60,
   "id": "afab257c-d57a-4d2f-b43d-c5ea032c107c",
   "metadata": {},
   "outputs": [],
   "source": [
    "ed = lambdify([x], exp(1j*x))"
   ]
  },
  {
   "cell_type": "code",
   "execution_count": 61,
   "id": "4acc8dc2-cf73-4dd5-b542-2f4a41624c4a",
   "metadata": {},
   "outputs": [
    {
     "data": {
      "text/plain": [
       "(-0.4161468365471424+0.9092974268256817j)"
      ]
     },
     "execution_count": 61,
     "metadata": {},
     "output_type": "execute_result"
    }
   ],
   "source": [
    "ed(2)"
   ]
  },
  {
   "cell_type": "code",
   "execution_count": 62,
   "id": "96c65c68-e70e-4c8b-b3de-1aa058b9cb66",
   "metadata": {},
   "outputs": [
    {
     "ename": "TypeError",
     "evalue": "loop of ufunc does not support argument 0 of type Mul which has no callable exp method",
     "output_type": "error",
     "traceback": [
      "\u001b[0;31m---------------------------------------------------------------------------\u001b[0m",
      "\u001b[0;31mAttributeError\u001b[0m                            Traceback (most recent call last)",
      "\u001b[0;31mAttributeError\u001b[0m: 'Mul' object has no attribute 'exp'",
      "\nThe above exception was the direct cause of the following exception:\n",
      "\u001b[0;31mTypeError\u001b[0m                                 Traceback (most recent call last)",
      "Input \u001b[0;32mIn [62]\u001b[0m, in \u001b[0;36m<cell line: 1>\u001b[0;34m()\u001b[0m\n\u001b[0;32m----> 1\u001b[0m ed(x)\n",
      "File \u001b[0;32m<lambdifygenerated-4>:2\u001b[0m, in \u001b[0;36m_lambdifygenerated\u001b[0;34m(x)\u001b[0m\n\u001b[1;32m      1\u001b[0m \u001b[38;5;28;01mdef\u001b[39;00m \u001b[38;5;21m_lambdifygenerated\u001b[39m(x):\n\u001b[0;32m----> 2\u001b[0m     \u001b[38;5;28;01mreturn\u001b[39;00m (\u001b[43mexp\u001b[49m\u001b[43m(\u001b[49m\u001b[38;5;241;43m1.0\u001b[39;49m\u001b[38;5;241;43m*\u001b[39;49m\u001b[38;5;241;43m1\u001b[39;49m\u001b[43mj\u001b[49m\u001b[38;5;241;43m*\u001b[39;49m\u001b[43mx\u001b[49m\u001b[43m)\u001b[49m)\n",
      "\u001b[0;31mTypeError\u001b[0m: loop of ufunc does not support argument 0 of type Mul which has no callable exp method"
     ]
    }
   ],
   "source": [
    "ed(x)"
   ]
  },
  {
   "cell_type": "code",
   "execution_count": 57,
   "id": "5dc488ee-8e8a-43d1-841e-8ac0130e48d7",
   "metadata": {},
   "outputs": [],
   "source": [
    "b = lambdify([x], x**2)"
   ]
  },
  {
   "cell_type": "code",
   "execution_count": 58,
   "id": "cef8253d-16ff-4b09-812c-7d337ad47690",
   "metadata": {},
   "outputs": [
    {
     "data": {
      "text/plain": [
       "4"
      ]
     },
     "execution_count": 58,
     "metadata": {},
     "output_type": "execute_result"
    }
   ],
   "source": [
    "b(2)"
   ]
  },
  {
   "cell_type": "code",
   "execution_count": 59,
   "id": "ee50ce9d-656d-4624-add6-44f9aa7173cc",
   "metadata": {},
   "outputs": [
    {
     "data": {
      "text/latex": [
       "$\\displaystyle x^{2}$"
      ],
      "text/plain": [
       "x**2"
      ]
     },
     "execution_count": 59,
     "metadata": {},
     "output_type": "execute_result"
    }
   ],
   "source": [
    "b(x)"
   ]
  },
  {
   "cell_type": "code",
   "execution_count": null,
   "id": "fe6557c4-d63d-4253-8b7e-9c47522cd5cc",
   "metadata": {},
   "outputs": [],
   "source": []
  }
 ],
 "metadata": {
  "kernelspec": {
   "display_name": "Python 3",
   "language": "python",
   "name": "python3"
  },
  "language_info": {
   "codemirror_mode": {
    "name": "ipython",
    "version": 3
   },
   "file_extension": ".py",
   "mimetype": "text/x-python",
   "name": "python",
   "nbconvert_exporter": "python",
   "pygments_lexer": "ipython3",
   "version": "3.9.5"
  }
 },
 "nbformat": 4,
 "nbformat_minor": 5
}
