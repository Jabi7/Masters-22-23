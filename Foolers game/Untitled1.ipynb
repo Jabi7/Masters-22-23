{
 "cells": [
  {
   "cell_type": "code",
   "execution_count": 1,
   "id": "24dace67-b4c1-4cd3-b12d-e4834cf3412e",
   "metadata": {},
   "outputs": [],
   "source": [
    "from itertools import product as pr\n",
    "from sympy import Matrix, Symbol, latex, sqrt, sin, cos, simplify, Trace, Sum, expand, solve, lambdify\n",
    "from sympy.simplify.fu import fu, TR3\n",
    "from sympy.matrices import eye, zeros, ones, diag\n",
    "from sympy.physics.quantum import TensorProduct as tp, Dagger as dg\n",
    "from numpy import pi, around\n",
    "## trace\n",
    "def tr(m): \n",
    "    return Trace(m).simplify()"
   ]
  },
  {
   "cell_type": "code",
   "execution_count": null,
   "id": "cf7ae586-69e2-4cc3-b279-3a2355d6a4f1",
   "metadata": {},
   "outputs": [],
   "source": []
  },
  {
   "cell_type": "code",
   "execution_count": null,
   "id": "049f6d36-0703-4604-94ff-2242370fe7a1",
   "metadata": {},
   "outputs": [],
   "source": []
  },
  {
   "cell_type": "code",
   "execution_count": 19,
   "id": "cec2820f-9bfd-4fa5-b645-40814a9fdb0f",
   "metadata": {},
   "outputs": [],
   "source": [
    "b1, b2, b3, b4 = 0.5**0.5*Matrix([1,0,0,0,0,0,0,1]), 0.5**0.5*Matrix([1,0,0,-1]), 0.5**0.5*Matrix([0,1,1,0]), 0.5**0.5*Matrix([0,1,-1,0])\n",
    "rho =  lambda b: tp(b,dg(b))\n",
    "rho1, rho2, rho3, rho4 = tp(b1,dg(b1)), tp(b2,dg(b2)), tp(b3,dg(b3)), tp(b4,dg(b4))\n",
    "rhos = 1/4*ones(4,4)\n",
    "rhod = 1/4*diag(1,1,1,1)"
   ]
  },
  {
   "cell_type": "code",
   "execution_count": 53,
   "id": "1213b7ce-f45e-47b3-9f3e-8882d621457c",
   "metadata": {},
   "outputs": [],
   "source": [
    "# type and actions\n",
    "T1, T2, T3, A1, A2 = [0], [0], [0,1], [0,1], [0,1]\n",
    "# Measure basis\n",
    "phi1 = [lambda th, ph: Matrix([cos(ph)*cos(th), sin(ph)*cos(th), sin(th)]), lambda th, ph: Matrix([cos(ph)*sin(th), sin(ph)*sin(th), -cos(th)]),  lambda th, ph: Matrix([-sin(ph), cos(ph), 0])]\n",
    "phi2 = [lambda th: Matrix([cos(th), sin(th)]), lambda th: Matrix([sin(th), -cos(th)])]\n",
    "phi2i = [lambda th: Matrix([cos(th), 1j*sin(th)]), lambda th: Matrix([sin(th), -1j*cos(th)])]\n",
    "th = lambda player, typ: Symbol('theta'+'_'+str(typ)+'^'+str(player), real = True) \n",
    "ph = lambda player, typ: Symbol('phi'+'_'+str(typ)+'^'+str(player), complex = False)\n",
    "\n",
    "# pvm\n",
    "# M = [lambda player, typ: phi[a](th(player, typ))*phi[a](th(player, typ)).T for a in list([0,1])]\n",
    "M1 = [lambda player, typ: phi1[0](th(player, typ), ph(player, typ))*phi1[0](th(player, typ), ph(player, typ)).T, lambda player, typ: phi1[1](th(player, typ), ph(player, typ))*phi1[1](th(player, typ), ph(player, typ)).T, lambda player, typ: phi1[2](th(player, typ), ph(player, typ))*phi1[2](th(player, typ), ph(player, typ)).T]\n",
    "M2 = [lambda player, typ: phi2[0](th(player, typ))*phi2[0](th(player, typ)).T, lambda player, typ: phi2[1](th(player, typ))*phi2[1](th(player, typ)).T]\n",
    "\n",
    "Mi = [lambda player, typ: phi2i[0](th(player, typ))*phi2i[0](th(player, typ)).H, lambda player, typ: phi2i[1](th(player, typ))*phi2i[1](th(player, typ)).H]\n",
    "\n",
    "## pvm numerical"
   ]
  },
  {
   "cell_type": "code",
   "execution_count": 52,
   "id": "d90da7ff-40a5-4c87-b6c7-27546bd5845c",
   "metadata": {},
   "outputs": [
    {
     "ename": "AttributeError",
     "evalue": "'Symbol' object has no attribute 'H'",
     "output_type": "error",
     "traceback": [
      "\u001b[0;31m---------------------------------------------------------------------------\u001b[0m",
      "\u001b[0;31mAttributeError\u001b[0m                            Traceback (most recent call last)",
      "Input \u001b[0;32mIn [52]\u001b[0m, in \u001b[0;36m<cell line: 1>\u001b[0;34m()\u001b[0m\n\u001b[0;32m----> 1\u001b[0m th(\u001b[38;5;241m0\u001b[39m,\u001b[38;5;241m1\u001b[39m)\u001b[38;5;241m.\u001b[39mH\n",
      "\u001b[0;31mAttributeError\u001b[0m: 'Symbol' object has no attribute 'H'"
     ]
    }
   ],
   "source": []
  },
  {
   "cell_type": "code",
   "execution_count": 28,
   "id": "27fb2720-eba9-4ff0-9c90-e5f3cc8bfbc2",
   "metadata": {},
   "outputs": [],
   "source": [
    "def nQ(Q, x,y,z1,z2):\n",
    "    f = lambdify([th(1,0), th(2,0), th(3,0), th(3,1)], Q)\n",
    "    return around(f(x, y, z1, z2), decimals=3)\n"
   ]
  },
  {
   "cell_type": "code",
   "execution_count": 60,
   "id": "0db56ab9-d44f-4f02-a98c-66754905dfab",
   "metadata": {},
   "outputs": [
    {
     "data": {
      "text/latex": [
       "$\\displaystyle \\left[\\begin{matrix}0.5 \\left(\\sin{\\left(\\theta^{1}_{0} \\right)} \\sin{\\left(\\theta^{2}_{0} \\right)} \\sin{\\left(\\theta^{3}_{0} \\right)} + \\cos{\\left(\\theta^{1}_{0} \\right)} \\cos{\\left(\\theta^{2}_{0} \\right)} \\cos{\\left(\\theta^{3}_{0} \\right)}\\right)^{2} & 0.5 \\left(\\sin{\\left(\\theta^{1}_{0} \\right)} \\sin{\\left(\\theta^{2}_{0} \\right)} \\sin{\\left(\\theta^{3}_{1} \\right)} + \\cos{\\left(\\theta^{1}_{0} \\right)} \\cos{\\left(\\theta^{2}_{0} \\right)} \\cos{\\left(\\theta^{3}_{1} \\right)}\\right)^{2}\\\\0.5 \\left(\\sin{\\left(\\theta^{1}_{0} \\right)} \\sin{\\left(\\theta^{2}_{0} \\right)} \\cos{\\left(\\theta^{3}_{0} \\right)} - \\sin{\\left(\\theta^{3}_{0} \\right)} \\cos{\\left(\\theta^{1}_{0} \\right)} \\cos{\\left(\\theta^{2}_{0} \\right)}\\right)^{2} & 0.5 \\left(\\sin{\\left(\\theta^{1}_{0} \\right)} \\sin{\\left(\\theta^{2}_{0} \\right)} \\cos{\\left(\\theta^{3}_{1} \\right)} - \\sin{\\left(\\theta^{3}_{1} \\right)} \\cos{\\left(\\theta^{1}_{0} \\right)} \\cos{\\left(\\theta^{2}_{0} \\right)}\\right)^{2}\\\\0.5 \\left(\\sin{\\left(\\theta^{1}_{0} \\right)} \\sin{\\left(\\theta^{3}_{0} \\right)} \\cos{\\left(\\theta^{2}_{0} \\right)} - \\sin{\\left(\\theta^{2}_{0} \\right)} \\cos{\\left(\\theta^{1}_{0} \\right)} \\cos{\\left(\\theta^{3}_{0} \\right)}\\right)^{2} & 0.5 \\left(\\sin{\\left(\\theta^{1}_{0} \\right)} \\sin{\\left(\\theta^{3}_{1} \\right)} \\cos{\\left(\\theta^{2}_{0} \\right)} - \\sin{\\left(\\theta^{2}_{0} \\right)} \\cos{\\left(\\theta^{1}_{0} \\right)} \\cos{\\left(\\theta^{3}_{1} \\right)}\\right)^{2}\\\\0.5 \\left(\\sin{\\left(\\theta^{1}_{0} \\right)} \\cos{\\left(\\theta^{2}_{0} \\right)} \\cos{\\left(\\theta^{3}_{0} \\right)} + \\sin{\\left(\\theta^{2}_{0} \\right)} \\sin{\\left(\\theta^{3}_{0} \\right)} \\cos{\\left(\\theta^{1}_{0} \\right)}\\right)^{2} & 0.5 \\left(\\sin{\\left(\\theta^{1}_{0} \\right)} \\cos{\\left(\\theta^{2}_{0} \\right)} \\cos{\\left(\\theta^{3}_{1} \\right)} + \\sin{\\left(\\theta^{2}_{0} \\right)} \\sin{\\left(\\theta^{3}_{1} \\right)} \\cos{\\left(\\theta^{1}_{0} \\right)}\\right)^{2}\\\\0.5 \\left(\\sin{\\left(\\theta^{1}_{0} \\right)} \\cos{\\left(\\theta^{2}_{0} \\right)} \\cos{\\left(\\theta^{3}_{0} \\right)} - \\sin{\\left(\\theta^{2}_{0} \\right)} \\sin{\\left(\\theta^{3}_{0} \\right)} \\cos{\\left(\\theta^{1}_{0} \\right)}\\right)^{2} & 0.5 \\left(\\sin{\\left(\\theta^{1}_{0} \\right)} \\cos{\\left(\\theta^{2}_{0} \\right)} \\cos{\\left(\\theta^{3}_{1} \\right)} - \\sin{\\left(\\theta^{2}_{0} \\right)} \\sin{\\left(\\theta^{3}_{1} \\right)} \\cos{\\left(\\theta^{1}_{0} \\right)}\\right)^{2}\\\\0.5 \\left(\\sin{\\left(\\theta^{1}_{0} \\right)} \\sin{\\left(\\theta^{3}_{0} \\right)} \\cos{\\left(\\theta^{2}_{0} \\right)} + \\sin{\\left(\\theta^{2}_{0} \\right)} \\cos{\\left(\\theta^{1}_{0} \\right)} \\cos{\\left(\\theta^{3}_{0} \\right)}\\right)^{2} & 0.5 \\left(\\sin{\\left(\\theta^{1}_{0} \\right)} \\sin{\\left(\\theta^{3}_{1} \\right)} \\cos{\\left(\\theta^{2}_{0} \\right)} + \\sin{\\left(\\theta^{2}_{0} \\right)} \\cos{\\left(\\theta^{1}_{0} \\right)} \\cos{\\left(\\theta^{3}_{1} \\right)}\\right)^{2}\\\\0.5 \\left(\\sin{\\left(\\theta^{1}_{0} \\right)} \\sin{\\left(\\theta^{2}_{0} \\right)} \\cos{\\left(\\theta^{3}_{0} \\right)} + \\sin{\\left(\\theta^{3}_{0} \\right)} \\cos{\\left(\\theta^{1}_{0} \\right)} \\cos{\\left(\\theta^{2}_{0} \\right)}\\right)^{2} & 0.5 \\left(\\sin{\\left(\\theta^{1}_{0} \\right)} \\sin{\\left(\\theta^{2}_{0} \\right)} \\cos{\\left(\\theta^{3}_{1} \\right)} + \\sin{\\left(\\theta^{3}_{1} \\right)} \\cos{\\left(\\theta^{1}_{0} \\right)} \\cos{\\left(\\theta^{2}_{0} \\right)}\\right)^{2}\\\\0.5 \\left(\\sin{\\left(\\theta^{1}_{0} \\right)} \\sin{\\left(\\theta^{2}_{0} \\right)} \\sin{\\left(\\theta^{3}_{0} \\right)} - \\cos{\\left(\\theta^{1}_{0} \\right)} \\cos{\\left(\\theta^{2}_{0} \\right)} \\cos{\\left(\\theta^{3}_{0} \\right)}\\right)^{2} & 0.5 \\left(\\sin{\\left(\\theta^{1}_{0} \\right)} \\sin{\\left(\\theta^{2}_{0} \\right)} \\sin{\\left(\\theta^{3}_{1} \\right)} - \\cos{\\left(\\theta^{1}_{0} \\right)} \\cos{\\left(\\theta^{2}_{0} \\right)} \\cos{\\left(\\theta^{3}_{1} \\right)}\\right)^{2}\\end{matrix}\\right]$"
      ],
      "text/plain": [
       "Matrix([\n",
       "[0.5*(sin(theta_0^1)*sin(theta_0^2)*sin(theta_0^3) + cos(theta_0^1)*cos(theta_0^2)*cos(theta_0^3))**2, 0.5*(sin(theta_0^1)*sin(theta_0^2)*sin(theta_1^3) + cos(theta_0^1)*cos(theta_0^2)*cos(theta_1^3))**2],\n",
       "[0.5*(sin(theta_0^1)*sin(theta_0^2)*cos(theta_0^3) - sin(theta_0^3)*cos(theta_0^1)*cos(theta_0^2))**2, 0.5*(sin(theta_0^1)*sin(theta_0^2)*cos(theta_1^3) - sin(theta_1^3)*cos(theta_0^1)*cos(theta_0^2))**2],\n",
       "[0.5*(sin(theta_0^1)*sin(theta_0^3)*cos(theta_0^2) - sin(theta_0^2)*cos(theta_0^1)*cos(theta_0^3))**2, 0.5*(sin(theta_0^1)*sin(theta_1^3)*cos(theta_0^2) - sin(theta_0^2)*cos(theta_0^1)*cos(theta_1^3))**2],\n",
       "[0.5*(sin(theta_0^1)*cos(theta_0^2)*cos(theta_0^3) + sin(theta_0^2)*sin(theta_0^3)*cos(theta_0^1))**2, 0.5*(sin(theta_0^1)*cos(theta_0^2)*cos(theta_1^3) + sin(theta_0^2)*sin(theta_1^3)*cos(theta_0^1))**2],\n",
       "[0.5*(sin(theta_0^1)*cos(theta_0^2)*cos(theta_0^3) - sin(theta_0^2)*sin(theta_0^3)*cos(theta_0^1))**2, 0.5*(sin(theta_0^1)*cos(theta_0^2)*cos(theta_1^3) - sin(theta_0^2)*sin(theta_1^3)*cos(theta_0^1))**2],\n",
       "[0.5*(sin(theta_0^1)*sin(theta_0^3)*cos(theta_0^2) + sin(theta_0^2)*cos(theta_0^1)*cos(theta_0^3))**2, 0.5*(sin(theta_0^1)*sin(theta_1^3)*cos(theta_0^2) + sin(theta_0^2)*cos(theta_0^1)*cos(theta_1^3))**2],\n",
       "[0.5*(sin(theta_0^1)*sin(theta_0^2)*cos(theta_0^3) + sin(theta_0^3)*cos(theta_0^1)*cos(theta_0^2))**2, 0.5*(sin(theta_0^1)*sin(theta_0^2)*cos(theta_1^3) + sin(theta_1^3)*cos(theta_0^1)*cos(theta_0^2))**2],\n",
       "[0.5*(sin(theta_0^1)*sin(theta_0^2)*sin(theta_0^3) - cos(theta_0^1)*cos(theta_0^2)*cos(theta_0^3))**2, 0.5*(sin(theta_0^1)*sin(theta_0^2)*sin(theta_1^3) - cos(theta_0^1)*cos(theta_0^2)*cos(theta_1^3))**2]])"
      ]
     },
     "execution_count": 60,
     "metadata": {},
     "output_type": "execute_result"
    }
   ],
   "source": [
    "Q = Matrix([[simplify(tr(rho1*tp(M2[a1](1,t1), M2[a2](2,t2), M2[a3](3,t3)))) for (t1,t2,t3) in list(pr(T1,T2,T3))] for (a1,a2,a3) in list(pr(A1,A2,A2))])\n",
    "Q"
   ]
  },
  {
   "cell_type": "code",
   "execution_count": 63,
   "id": "271fedc2-a3e8-41a1-abc0-12f845081040",
   "metadata": {},
   "outputs": [
    {
     "data": {
      "text/plain": [
       "array([[0. , 0. ],\n",
       "       [0. , 0. ],\n",
       "       [0.5, 0. ],\n",
       "       [0. , 0.5],\n",
       "       [0. , 0.5],\n",
       "       [0.5, 0. ],\n",
       "       [0. , 0. ],\n",
       "       [0. , 0. ]])"
      ]
     },
     "execution_count": 63,
     "metadata": {},
     "output_type": "execute_result"
    }
   ],
   "source": [
    "nQ(Q, 0,pi/2,0,pi/2)"
   ]
  },
  {
   "cell_type": "code",
   "execution_count": 54,
   "id": "fe2caa0c-aa76-4a09-ba0f-7d6fb56ea28f",
   "metadata": {},
   "outputs": [
    {
     "data": {
      "text/latex": [
       "$\\displaystyle \\left[\\begin{matrix}\\cos{\\left(\\theta^{1}_{0} \\right)} & - 1.0 i \\sin{\\left(\\theta^{1}_{0} \\right)}\\end{matrix}\\right]$"
      ],
      "text/plain": [
       "Matrix([[cos(theta_0^1), -1.0*I*sin(theta_0^1)]])"
      ]
     },
     "execution_count": 54,
     "metadata": {},
     "output_type": "execute_result"
    }
   ],
   "source": [
    "phi2i[0](th(1,0)).H"
   ]
  },
  {
   "cell_type": "code",
   "execution_count": 55,
   "id": "00233ab9-706f-4836-81d9-063bba6ee3a9",
   "metadata": {},
   "outputs": [
    {
     "data": {
      "text/latex": [
       "$\\displaystyle 0.5 \\sin^{2}{\\left(\\theta^{1}_{0} \\right)} \\sin^{2}{\\left(\\theta^{2}_{0} \\right)} \\sin^{2}{\\left(\\theta^{3}_{0} \\right)} + 0.5 \\cos^{2}{\\left(\\theta^{1}_{0} \\right)} \\cos^{2}{\\left(\\theta^{2}_{0} \\right)} \\cos^{2}{\\left(\\theta^{3}_{0} \\right)}$"
      ],
      "text/plain": [
       "0.5*sin(theta_0^1)**2*sin(theta_0^2)**2*sin(theta_0^3)**2 + 0.5*cos(theta_0^1)**2*cos(theta_0^2)**2*cos(theta_0^3)**2"
      ]
     },
     "execution_count": 55,
     "metadata": {},
     "output_type": "execute_result"
    }
   ],
   "source": [
    "simplify(tr(rho1*tp(Mi[0](1,0), Mi[0](2,0), Mi[0](3,0))))"
   ]
  },
  {
   "cell_type": "code",
   "execution_count": 56,
   "id": "858e7343-911b-4826-a836-7c271bf71442",
   "metadata": {},
   "outputs": [
    {
     "data": {
      "text/latex": [
       "$\\displaystyle \\left[\\begin{matrix}0.5 \\sin^{2}{\\left(\\theta^{1}_{0} \\right)} \\sin^{2}{\\left(\\theta^{2}_{0} \\right)} \\sin^{2}{\\left(\\theta^{3}_{0} \\right)} + 0.5 \\cos^{2}{\\left(\\theta^{1}_{0} \\right)} \\cos^{2}{\\left(\\theta^{2}_{0} \\right)} \\cos^{2}{\\left(\\theta^{3}_{0} \\right)} & 0.5 \\sin^{2}{\\left(\\theta^{1}_{0} \\right)} \\sin^{2}{\\left(\\theta^{2}_{0} \\right)} \\sin^{2}{\\left(\\theta^{3}_{1} \\right)} + 0.5 \\cos^{2}{\\left(\\theta^{1}_{0} \\right)} \\cos^{2}{\\left(\\theta^{2}_{0} \\right)} \\cos^{2}{\\left(\\theta^{3}_{1} \\right)}\\\\0.5 \\sin^{2}{\\left(\\theta^{1}_{0} \\right)} \\sin^{2}{\\left(\\theta^{2}_{0} \\right)} \\cos^{2}{\\left(\\theta^{3}_{0} \\right)} + 0.5 \\sin^{2}{\\left(\\theta^{3}_{0} \\right)} \\cos^{2}{\\left(\\theta^{1}_{0} \\right)} \\cos^{2}{\\left(\\theta^{2}_{0} \\right)} & 0.5 \\sin^{2}{\\left(\\theta^{1}_{0} \\right)} \\sin^{2}{\\left(\\theta^{2}_{0} \\right)} \\cos^{2}{\\left(\\theta^{3}_{1} \\right)} + 0.5 \\sin^{2}{\\left(\\theta^{3}_{1} \\right)} \\cos^{2}{\\left(\\theta^{1}_{0} \\right)} \\cos^{2}{\\left(\\theta^{2}_{0} \\right)}\\\\0.5 \\sin^{2}{\\left(\\theta^{1}_{0} \\right)} \\sin^{2}{\\left(\\theta^{3}_{0} \\right)} \\cos^{2}{\\left(\\theta^{2}_{0} \\right)} + 0.5 \\sin^{2}{\\left(\\theta^{2}_{0} \\right)} \\cos^{2}{\\left(\\theta^{1}_{0} \\right)} \\cos^{2}{\\left(\\theta^{3}_{0} \\right)} & 0.5 \\sin^{2}{\\left(\\theta^{1}_{0} \\right)} \\sin^{2}{\\left(\\theta^{3}_{1} \\right)} \\cos^{2}{\\left(\\theta^{2}_{0} \\right)} + 0.5 \\sin^{2}{\\left(\\theta^{2}_{0} \\right)} \\cos^{2}{\\left(\\theta^{1}_{0} \\right)} \\cos^{2}{\\left(\\theta^{3}_{1} \\right)}\\\\0.5 \\sin^{2}{\\left(\\theta^{1}_{0} \\right)} \\cos^{2}{\\left(\\theta^{2}_{0} \\right)} \\cos^{2}{\\left(\\theta^{3}_{0} \\right)} + 0.5 \\sin^{2}{\\left(\\theta^{2}_{0} \\right)} \\sin^{2}{\\left(\\theta^{3}_{0} \\right)} \\cos^{2}{\\left(\\theta^{1}_{0} \\right)} & 0.5 \\sin^{2}{\\left(\\theta^{1}_{0} \\right)} \\cos^{2}{\\left(\\theta^{2}_{0} \\right)} \\cos^{2}{\\left(\\theta^{3}_{1} \\right)} + 0.5 \\sin^{2}{\\left(\\theta^{2}_{0} \\right)} \\sin^{2}{\\left(\\theta^{3}_{1} \\right)} \\cos^{2}{\\left(\\theta^{1}_{0} \\right)}\\\\0.5 \\sin^{2}{\\left(\\theta^{1}_{0} \\right)} \\cos^{2}{\\left(\\theta^{2}_{0} \\right)} \\cos^{2}{\\left(\\theta^{3}_{0} \\right)} + 0.5 \\sin^{2}{\\left(\\theta^{2}_{0} \\right)} \\sin^{2}{\\left(\\theta^{3}_{0} \\right)} \\cos^{2}{\\left(\\theta^{1}_{0} \\right)} & 0.5 \\sin^{2}{\\left(\\theta^{1}_{0} \\right)} \\cos^{2}{\\left(\\theta^{2}_{0} \\right)} \\cos^{2}{\\left(\\theta^{3}_{1} \\right)} + 0.5 \\sin^{2}{\\left(\\theta^{2}_{0} \\right)} \\sin^{2}{\\left(\\theta^{3}_{1} \\right)} \\cos^{2}{\\left(\\theta^{1}_{0} \\right)}\\\\0.5 \\sin^{2}{\\left(\\theta^{1}_{0} \\right)} \\sin^{2}{\\left(\\theta^{3}_{0} \\right)} \\cos^{2}{\\left(\\theta^{2}_{0} \\right)} + 0.5 \\sin^{2}{\\left(\\theta^{2}_{0} \\right)} \\cos^{2}{\\left(\\theta^{1}_{0} \\right)} \\cos^{2}{\\left(\\theta^{3}_{0} \\right)} & 0.5 \\sin^{2}{\\left(\\theta^{1}_{0} \\right)} \\sin^{2}{\\left(\\theta^{3}_{1} \\right)} \\cos^{2}{\\left(\\theta^{2}_{0} \\right)} + 0.5 \\sin^{2}{\\left(\\theta^{2}_{0} \\right)} \\cos^{2}{\\left(\\theta^{1}_{0} \\right)} \\cos^{2}{\\left(\\theta^{3}_{1} \\right)}\\\\0.5 \\sin^{2}{\\left(\\theta^{1}_{0} \\right)} \\sin^{2}{\\left(\\theta^{2}_{0} \\right)} \\cos^{2}{\\left(\\theta^{3}_{0} \\right)} + 0.5 \\sin^{2}{\\left(\\theta^{3}_{0} \\right)} \\cos^{2}{\\left(\\theta^{1}_{0} \\right)} \\cos^{2}{\\left(\\theta^{2}_{0} \\right)} & 0.5 \\sin^{2}{\\left(\\theta^{1}_{0} \\right)} \\sin^{2}{\\left(\\theta^{2}_{0} \\right)} \\cos^{2}{\\left(\\theta^{3}_{1} \\right)} + 0.5 \\sin^{2}{\\left(\\theta^{3}_{1} \\right)} \\cos^{2}{\\left(\\theta^{1}_{0} \\right)} \\cos^{2}{\\left(\\theta^{2}_{0} \\right)}\\\\0.5 \\sin^{2}{\\left(\\theta^{1}_{0} \\right)} \\sin^{2}{\\left(\\theta^{2}_{0} \\right)} \\sin^{2}{\\left(\\theta^{3}_{0} \\right)} + 0.5 \\cos^{2}{\\left(\\theta^{1}_{0} \\right)} \\cos^{2}{\\left(\\theta^{2}_{0} \\right)} \\cos^{2}{\\left(\\theta^{3}_{0} \\right)} & 0.5 \\sin^{2}{\\left(\\theta^{1}_{0} \\right)} \\sin^{2}{\\left(\\theta^{2}_{0} \\right)} \\sin^{2}{\\left(\\theta^{3}_{1} \\right)} + 0.5 \\cos^{2}{\\left(\\theta^{1}_{0} \\right)} \\cos^{2}{\\left(\\theta^{2}_{0} \\right)} \\cos^{2}{\\left(\\theta^{3}_{1} \\right)}\\end{matrix}\\right]$"
      ],
      "text/plain": [
       "Matrix([\n",
       "[0.5*sin(theta_0^1)**2*sin(theta_0^2)**2*sin(theta_0^3)**2 + 0.5*cos(theta_0^1)**2*cos(theta_0^2)**2*cos(theta_0^3)**2, 0.5*sin(theta_0^1)**2*sin(theta_0^2)**2*sin(theta_1^3)**2 + 0.5*cos(theta_0^1)**2*cos(theta_0^2)**2*cos(theta_1^3)**2],\n",
       "[0.5*sin(theta_0^1)**2*sin(theta_0^2)**2*cos(theta_0^3)**2 + 0.5*sin(theta_0^3)**2*cos(theta_0^1)**2*cos(theta_0^2)**2, 0.5*sin(theta_0^1)**2*sin(theta_0^2)**2*cos(theta_1^3)**2 + 0.5*sin(theta_1^3)**2*cos(theta_0^1)**2*cos(theta_0^2)**2],\n",
       "[0.5*sin(theta_0^1)**2*sin(theta_0^3)**2*cos(theta_0^2)**2 + 0.5*sin(theta_0^2)**2*cos(theta_0^1)**2*cos(theta_0^3)**2, 0.5*sin(theta_0^1)**2*sin(theta_1^3)**2*cos(theta_0^2)**2 + 0.5*sin(theta_0^2)**2*cos(theta_0^1)**2*cos(theta_1^3)**2],\n",
       "[0.5*sin(theta_0^1)**2*cos(theta_0^2)**2*cos(theta_0^3)**2 + 0.5*sin(theta_0^2)**2*sin(theta_0^3)**2*cos(theta_0^1)**2, 0.5*sin(theta_0^1)**2*cos(theta_0^2)**2*cos(theta_1^3)**2 + 0.5*sin(theta_0^2)**2*sin(theta_1^3)**2*cos(theta_0^1)**2],\n",
       "[0.5*sin(theta_0^1)**2*cos(theta_0^2)**2*cos(theta_0^3)**2 + 0.5*sin(theta_0^2)**2*sin(theta_0^3)**2*cos(theta_0^1)**2, 0.5*sin(theta_0^1)**2*cos(theta_0^2)**2*cos(theta_1^3)**2 + 0.5*sin(theta_0^2)**2*sin(theta_1^3)**2*cos(theta_0^1)**2],\n",
       "[0.5*sin(theta_0^1)**2*sin(theta_0^3)**2*cos(theta_0^2)**2 + 0.5*sin(theta_0^2)**2*cos(theta_0^1)**2*cos(theta_0^3)**2, 0.5*sin(theta_0^1)**2*sin(theta_1^3)**2*cos(theta_0^2)**2 + 0.5*sin(theta_0^2)**2*cos(theta_0^1)**2*cos(theta_1^3)**2],\n",
       "[0.5*sin(theta_0^1)**2*sin(theta_0^2)**2*cos(theta_0^3)**2 + 0.5*sin(theta_0^3)**2*cos(theta_0^1)**2*cos(theta_0^2)**2, 0.5*sin(theta_0^1)**2*sin(theta_0^2)**2*cos(theta_1^3)**2 + 0.5*sin(theta_1^3)**2*cos(theta_0^1)**2*cos(theta_0^2)**2],\n",
       "[0.5*sin(theta_0^1)**2*sin(theta_0^2)**2*sin(theta_0^3)**2 + 0.5*cos(theta_0^1)**2*cos(theta_0^2)**2*cos(theta_0^3)**2, 0.5*sin(theta_0^1)**2*sin(theta_0^2)**2*sin(theta_1^3)**2 + 0.5*cos(theta_0^1)**2*cos(theta_0^2)**2*cos(theta_1^3)**2]])"
      ]
     },
     "execution_count": 56,
     "metadata": {},
     "output_type": "execute_result"
    }
   ],
   "source": [
    "Q = Matrix([[simplify(tr(rho1*tp(Mi[a1](1,t1), Mi[a2](2,t2), Mi[a3](3,t3)))) for (t1,t2,t3) in list(pr(T1,T2,T3))] for (a1,a2,a3) in list(pr(A1,A2,A2))])\n",
    "Q"
   ]
  },
  {
   "cell_type": "code",
   "execution_count": 58,
   "id": "ce00f7e3-5f4c-4c22-bc0a-6d7e9ff9b1b1",
   "metadata": {},
   "outputs": [
    {
     "data": {
      "text/plain": [
       "array([[0. , 0. ],\n",
       "       [0. , 0. ],\n",
       "       [0. , 0.5],\n",
       "       [0.5, 0. ],\n",
       "       [0.5, 0. ],\n",
       "       [0. , 0.5],\n",
       "       [0. , 0. ],\n",
       "       [0. , 0. ]])"
      ]
     },
     "execution_count": 58,
     "metadata": {},
     "output_type": "execute_result"
    }
   ],
   "source": [
    "nQ(Q, pi/2,0,0,pi/2)"
   ]
  },
  {
   "cell_type": "code",
   "execution_count": null,
   "id": "7c3872dd-875b-49d7-80d5-7d70da6bc120",
   "metadata": {},
   "outputs": [],
   "source": []
  },
  {
   "cell_type": "code",
   "execution_count": 59,
   "id": "cc03da52-7aa5-4b33-bdb7-3186434e262b",
   "metadata": {},
   "outputs": [
    {
     "data": {
      "text/latex": [
       "$\\displaystyle \\left[\\begin{matrix}0.5 \\left(\\sin{\\left(\\theta^{1}_{0} \\right)} \\sin{\\left(\\theta^{2}_{0} \\right)} \\sin{\\left(\\theta^{3}_{0} \\right)} - \\cos{\\left(\\theta^{1}_{0} \\right)} \\cos{\\left(\\theta^{2}_{0} \\right)} \\cos{\\left(\\theta^{3}_{0} \\right)}\\right)^{2} & 0.5 \\left(\\sin{\\left(\\theta^{1}_{0} \\right)} \\sin{\\left(\\theta^{2}_{0} \\right)} \\sin{\\left(\\theta^{3}_{1} \\right)} - \\cos{\\left(\\theta^{1}_{0} \\right)} \\cos{\\left(\\theta^{2}_{0} \\right)} \\cos{\\left(\\theta^{3}_{1} \\right)}\\right)^{2}\\\\0.5 \\left(\\sin{\\left(\\theta^{1}_{0} \\right)} \\sin{\\left(\\theta^{2}_{0} \\right)} \\cos{\\left(\\theta^{3}_{0} \\right)} + \\sin{\\left(\\theta^{3}_{0} \\right)} \\cos{\\left(\\theta^{1}_{0} \\right)} \\cos{\\left(\\theta^{2}_{0} \\right)}\\right)^{2} & 0.5 \\left(\\sin{\\left(\\theta^{1}_{0} \\right)} \\sin{\\left(\\theta^{2}_{0} \\right)} \\cos{\\left(\\theta^{3}_{1} \\right)} + \\sin{\\left(\\theta^{3}_{1} \\right)} \\cos{\\left(\\theta^{1}_{0} \\right)} \\cos{\\left(\\theta^{2}_{0} \\right)}\\right)^{2}\\\\0.5 \\left(\\sin{\\left(\\theta^{1}_{0} \\right)} \\sin{\\left(\\theta^{3}_{0} \\right)} \\cos{\\left(\\theta^{2}_{0} \\right)} + \\sin{\\left(\\theta^{2}_{0} \\right)} \\cos{\\left(\\theta^{1}_{0} \\right)} \\cos{\\left(\\theta^{3}_{0} \\right)}\\right)^{2} & 0.5 \\left(\\sin{\\left(\\theta^{1}_{0} \\right)} \\sin{\\left(\\theta^{3}_{1} \\right)} \\cos{\\left(\\theta^{2}_{0} \\right)} + \\sin{\\left(\\theta^{2}_{0} \\right)} \\cos{\\left(\\theta^{1}_{0} \\right)} \\cos{\\left(\\theta^{3}_{1} \\right)}\\right)^{2}\\\\0.5 \\left(\\sin{\\left(\\theta^{1}_{0} \\right)} \\cos{\\left(\\theta^{2}_{0} \\right)} \\cos{\\left(\\theta^{3}_{0} \\right)} - \\sin{\\left(\\theta^{2}_{0} \\right)} \\sin{\\left(\\theta^{3}_{0} \\right)} \\cos{\\left(\\theta^{1}_{0} \\right)}\\right)^{2} & 0.5 \\left(\\sin{\\left(\\theta^{1}_{0} \\right)} \\cos{\\left(\\theta^{2}_{0} \\right)} \\cos{\\left(\\theta^{3}_{1} \\right)} - \\sin{\\left(\\theta^{2}_{0} \\right)} \\sin{\\left(\\theta^{3}_{1} \\right)} \\cos{\\left(\\theta^{1}_{0} \\right)}\\right)^{2}\\\\0.5 \\left(\\sin{\\left(\\theta^{1}_{0} \\right)} \\cos{\\left(\\theta^{2}_{0} \\right)} \\cos{\\left(\\theta^{3}_{0} \\right)} + \\sin{\\left(\\theta^{2}_{0} \\right)} \\sin{\\left(\\theta^{3}_{0} \\right)} \\cos{\\left(\\theta^{1}_{0} \\right)}\\right)^{2} & 0.5 \\left(\\sin{\\left(\\theta^{1}_{0} \\right)} \\cos{\\left(\\theta^{2}_{0} \\right)} \\cos{\\left(\\theta^{3}_{1} \\right)} + \\sin{\\left(\\theta^{2}_{0} \\right)} \\sin{\\left(\\theta^{3}_{1} \\right)} \\cos{\\left(\\theta^{1}_{0} \\right)}\\right)^{2}\\\\0.5 \\left(\\sin{\\left(\\theta^{1}_{0} \\right)} \\sin{\\left(\\theta^{3}_{0} \\right)} \\cos{\\left(\\theta^{2}_{0} \\right)} - \\sin{\\left(\\theta^{2}_{0} \\right)} \\cos{\\left(\\theta^{1}_{0} \\right)} \\cos{\\left(\\theta^{3}_{0} \\right)}\\right)^{2} & 0.5 \\left(\\sin{\\left(\\theta^{1}_{0} \\right)} \\sin{\\left(\\theta^{3}_{1} \\right)} \\cos{\\left(\\theta^{2}_{0} \\right)} - \\sin{\\left(\\theta^{2}_{0} \\right)} \\cos{\\left(\\theta^{1}_{0} \\right)} \\cos{\\left(\\theta^{3}_{1} \\right)}\\right)^{2}\\\\0.5 \\left(\\sin{\\left(\\theta^{1}_{0} \\right)} \\sin{\\left(\\theta^{2}_{0} \\right)} \\cos{\\left(\\theta^{3}_{0} \\right)} - \\sin{\\left(\\theta^{3}_{0} \\right)} \\cos{\\left(\\theta^{1}_{0} \\right)} \\cos{\\left(\\theta^{2}_{0} \\right)}\\right)^{2} & 0.5 \\left(\\sin{\\left(\\theta^{1}_{0} \\right)} \\sin{\\left(\\theta^{2}_{0} \\right)} \\cos{\\left(\\theta^{3}_{1} \\right)} - \\sin{\\left(\\theta^{3}_{1} \\right)} \\cos{\\left(\\theta^{1}_{0} \\right)} \\cos{\\left(\\theta^{2}_{0} \\right)}\\right)^{2}\\\\0.5 \\left(\\sin{\\left(\\theta^{1}_{0} \\right)} \\sin{\\left(\\theta^{2}_{0} \\right)} \\sin{\\left(\\theta^{3}_{0} \\right)} + \\cos{\\left(\\theta^{1}_{0} \\right)} \\cos{\\left(\\theta^{2}_{0} \\right)} \\cos{\\left(\\theta^{3}_{0} \\right)}\\right)^{2} & 0.5 \\left(\\sin{\\left(\\theta^{1}_{0} \\right)} \\sin{\\left(\\theta^{2}_{0} \\right)} \\sin{\\left(\\theta^{3}_{1} \\right)} + \\cos{\\left(\\theta^{1}_{0} \\right)} \\cos{\\left(\\theta^{2}_{0} \\right)} \\cos{\\left(\\theta^{3}_{1} \\right)}\\right)^{2}\\end{matrix}\\right]$"
      ],
      "text/plain": [
       "Matrix([\n",
       "[0.5*(sin(theta_0^1)*sin(theta_0^2)*sin(theta_0^3) - cos(theta_0^1)*cos(theta_0^2)*cos(theta_0^3))**2, 0.5*(sin(theta_0^1)*sin(theta_0^2)*sin(theta_1^3) - cos(theta_0^1)*cos(theta_0^2)*cos(theta_1^3))**2],\n",
       "[0.5*(sin(theta_0^1)*sin(theta_0^2)*cos(theta_0^3) + sin(theta_0^3)*cos(theta_0^1)*cos(theta_0^2))**2, 0.5*(sin(theta_0^1)*sin(theta_0^2)*cos(theta_1^3) + sin(theta_1^3)*cos(theta_0^1)*cos(theta_0^2))**2],\n",
       "[0.5*(sin(theta_0^1)*sin(theta_0^3)*cos(theta_0^2) + sin(theta_0^2)*cos(theta_0^1)*cos(theta_0^3))**2, 0.5*(sin(theta_0^1)*sin(theta_1^3)*cos(theta_0^2) + sin(theta_0^2)*cos(theta_0^1)*cos(theta_1^3))**2],\n",
       "[0.5*(sin(theta_0^1)*cos(theta_0^2)*cos(theta_0^3) - sin(theta_0^2)*sin(theta_0^3)*cos(theta_0^1))**2, 0.5*(sin(theta_0^1)*cos(theta_0^2)*cos(theta_1^3) - sin(theta_0^2)*sin(theta_1^3)*cos(theta_0^1))**2],\n",
       "[0.5*(sin(theta_0^1)*cos(theta_0^2)*cos(theta_0^3) + sin(theta_0^2)*sin(theta_0^3)*cos(theta_0^1))**2, 0.5*(sin(theta_0^1)*cos(theta_0^2)*cos(theta_1^3) + sin(theta_0^2)*sin(theta_1^3)*cos(theta_0^1))**2],\n",
       "[0.5*(sin(theta_0^1)*sin(theta_0^3)*cos(theta_0^2) - sin(theta_0^2)*cos(theta_0^1)*cos(theta_0^3))**2, 0.5*(sin(theta_0^1)*sin(theta_1^3)*cos(theta_0^2) - sin(theta_0^2)*cos(theta_0^1)*cos(theta_1^3))**2],\n",
       "[0.5*(sin(theta_0^1)*sin(theta_0^2)*cos(theta_0^3) - sin(theta_0^3)*cos(theta_0^1)*cos(theta_0^2))**2, 0.5*(sin(theta_0^1)*sin(theta_0^2)*cos(theta_1^3) - sin(theta_1^3)*cos(theta_0^1)*cos(theta_0^2))**2],\n",
       "[0.5*(sin(theta_0^1)*sin(theta_0^2)*sin(theta_0^3) + cos(theta_0^1)*cos(theta_0^2)*cos(theta_0^3))**2, 0.5*(sin(theta_0^1)*sin(theta_0^2)*sin(theta_1^3) + cos(theta_0^1)*cos(theta_0^2)*cos(theta_1^3))**2]])"
      ]
     },
     "execution_count": 59,
     "metadata": {},
     "output_type": "execute_result"
    }
   ],
   "source": [
    "Q1 = Matrix([[simplify(tr(rho1*tp(M2[a1](1,t1), Mi[a2](2,t2), Mi[a3](3,t3)))) for (t1,t2,t3) in list(pr(T1,T2,T3))] for (a1,a2,a3) in list(pr(A1,A2,A2))])\n",
    "Q1"
   ]
  },
  {
   "cell_type": "code",
   "execution_count": 14,
   "id": "12838a67-4c48-46c5-b088-b7d80c73ece5",
   "metadata": {},
   "outputs": [
    {
     "data": {
      "text/latex": [
       "$\\displaystyle \\left[\\begin{matrix}\\cos^{2}{\\left(\\theta^{1}_{0} \\right)} \\cos^{2}{\\left(\\theta^{2}_{0} \\right)} \\cos^{2}{\\left(\\theta^{3}_{0} \\right)} & \\sin{\\left(\\theta^{3}_{0} \\right)} \\cos^{2}{\\left(\\theta^{1}_{0} \\right)} \\cos^{2}{\\left(\\theta^{2}_{0} \\right)} \\cos{\\left(\\theta^{3}_{0} \\right)} & \\sin{\\left(\\theta^{2}_{0} \\right)} \\cos^{2}{\\left(\\theta^{1}_{0} \\right)} \\cos{\\left(\\theta^{2}_{0} \\right)} \\cos^{2}{\\left(\\theta^{3}_{0} \\right)} & \\sin{\\left(\\theta^{2}_{0} \\right)} \\sin{\\left(\\theta^{3}_{0} \\right)} \\cos^{2}{\\left(\\theta^{1}_{0} \\right)} \\cos{\\left(\\theta^{2}_{0} \\right)} \\cos{\\left(\\theta^{3}_{0} \\right)} & \\sin{\\left(\\theta^{1}_{0} \\right)} \\cos{\\left(\\theta^{1}_{0} \\right)} \\cos^{2}{\\left(\\theta^{2}_{0} \\right)} \\cos^{2}{\\left(\\theta^{3}_{0} \\right)} & \\sin{\\left(\\theta^{1}_{0} \\right)} \\sin{\\left(\\theta^{3}_{0} \\right)} \\cos{\\left(\\theta^{1}_{0} \\right)} \\cos^{2}{\\left(\\theta^{2}_{0} \\right)} \\cos{\\left(\\theta^{3}_{0} \\right)} & \\sin{\\left(\\theta^{1}_{0} \\right)} \\sin{\\left(\\theta^{2}_{0} \\right)} \\cos{\\left(\\theta^{1}_{0} \\right)} \\cos{\\left(\\theta^{2}_{0} \\right)} \\cos^{2}{\\left(\\theta^{3}_{0} \\right)} & \\sin{\\left(\\theta^{1}_{0} \\right)} \\sin{\\left(\\theta^{2}_{0} \\right)} \\sin{\\left(\\theta^{3}_{0} \\right)} \\cos{\\left(\\theta^{1}_{0} \\right)} \\cos{\\left(\\theta^{2}_{0} \\right)} \\cos{\\left(\\theta^{3}_{0} \\right)}\\\\\\sin{\\left(\\theta^{3}_{0} \\right)} \\cos^{2}{\\left(\\theta^{1}_{0} \\right)} \\cos^{2}{\\left(\\theta^{2}_{0} \\right)} \\cos{\\left(\\theta^{3}_{0} \\right)} & \\sin^{2}{\\left(\\theta^{3}_{0} \\right)} \\cos^{2}{\\left(\\theta^{1}_{0} \\right)} \\cos^{2}{\\left(\\theta^{2}_{0} \\right)} & \\sin{\\left(\\theta^{2}_{0} \\right)} \\sin{\\left(\\theta^{3}_{0} \\right)} \\cos^{2}{\\left(\\theta^{1}_{0} \\right)} \\cos{\\left(\\theta^{2}_{0} \\right)} \\cos{\\left(\\theta^{3}_{0} \\right)} & \\sin{\\left(\\theta^{2}_{0} \\right)} \\sin^{2}{\\left(\\theta^{3}_{0} \\right)} \\cos^{2}{\\left(\\theta^{1}_{0} \\right)} \\cos{\\left(\\theta^{2}_{0} \\right)} & \\sin{\\left(\\theta^{1}_{0} \\right)} \\sin{\\left(\\theta^{3}_{0} \\right)} \\cos{\\left(\\theta^{1}_{0} \\right)} \\cos^{2}{\\left(\\theta^{2}_{0} \\right)} \\cos{\\left(\\theta^{3}_{0} \\right)} & \\sin{\\left(\\theta^{1}_{0} \\right)} \\sin^{2}{\\left(\\theta^{3}_{0} \\right)} \\cos{\\left(\\theta^{1}_{0} \\right)} \\cos^{2}{\\left(\\theta^{2}_{0} \\right)} & \\sin{\\left(\\theta^{1}_{0} \\right)} \\sin{\\left(\\theta^{2}_{0} \\right)} \\sin{\\left(\\theta^{3}_{0} \\right)} \\cos{\\left(\\theta^{1}_{0} \\right)} \\cos{\\left(\\theta^{2}_{0} \\right)} \\cos{\\left(\\theta^{3}_{0} \\right)} & \\sin{\\left(\\theta^{1}_{0} \\right)} \\sin{\\left(\\theta^{2}_{0} \\right)} \\sin^{2}{\\left(\\theta^{3}_{0} \\right)} \\cos{\\left(\\theta^{1}_{0} \\right)} \\cos{\\left(\\theta^{2}_{0} \\right)}\\\\\\sin{\\left(\\theta^{2}_{0} \\right)} \\cos^{2}{\\left(\\theta^{1}_{0} \\right)} \\cos{\\left(\\theta^{2}_{0} \\right)} \\cos^{2}{\\left(\\theta^{3}_{0} \\right)} & \\sin{\\left(\\theta^{2}_{0} \\right)} \\sin{\\left(\\theta^{3}_{0} \\right)} \\cos^{2}{\\left(\\theta^{1}_{0} \\right)} \\cos{\\left(\\theta^{2}_{0} \\right)} \\cos{\\left(\\theta^{3}_{0} \\right)} & \\sin^{2}{\\left(\\theta^{2}_{0} \\right)} \\cos^{2}{\\left(\\theta^{1}_{0} \\right)} \\cos^{2}{\\left(\\theta^{3}_{0} \\right)} & \\sin^{2}{\\left(\\theta^{2}_{0} \\right)} \\sin{\\left(\\theta^{3}_{0} \\right)} \\cos^{2}{\\left(\\theta^{1}_{0} \\right)} \\cos{\\left(\\theta^{3}_{0} \\right)} & \\sin{\\left(\\theta^{1}_{0} \\right)} \\sin{\\left(\\theta^{2}_{0} \\right)} \\cos{\\left(\\theta^{1}_{0} \\right)} \\cos{\\left(\\theta^{2}_{0} \\right)} \\cos^{2}{\\left(\\theta^{3}_{0} \\right)} & \\sin{\\left(\\theta^{1}_{0} \\right)} \\sin{\\left(\\theta^{2}_{0} \\right)} \\sin{\\left(\\theta^{3}_{0} \\right)} \\cos{\\left(\\theta^{1}_{0} \\right)} \\cos{\\left(\\theta^{2}_{0} \\right)} \\cos{\\left(\\theta^{3}_{0} \\right)} & \\sin{\\left(\\theta^{1}_{0} \\right)} \\sin^{2}{\\left(\\theta^{2}_{0} \\right)} \\cos{\\left(\\theta^{1}_{0} \\right)} \\cos^{2}{\\left(\\theta^{3}_{0} \\right)} & \\sin{\\left(\\theta^{1}_{0} \\right)} \\sin^{2}{\\left(\\theta^{2}_{0} \\right)} \\sin{\\left(\\theta^{3}_{0} \\right)} \\cos{\\left(\\theta^{1}_{0} \\right)} \\cos{\\left(\\theta^{3}_{0} \\right)}\\\\\\sin{\\left(\\theta^{2}_{0} \\right)} \\sin{\\left(\\theta^{3}_{0} \\right)} \\cos^{2}{\\left(\\theta^{1}_{0} \\right)} \\cos{\\left(\\theta^{2}_{0} \\right)} \\cos{\\left(\\theta^{3}_{0} \\right)} & \\sin{\\left(\\theta^{2}_{0} \\right)} \\sin^{2}{\\left(\\theta^{3}_{0} \\right)} \\cos^{2}{\\left(\\theta^{1}_{0} \\right)} \\cos{\\left(\\theta^{2}_{0} \\right)} & \\sin^{2}{\\left(\\theta^{2}_{0} \\right)} \\sin{\\left(\\theta^{3}_{0} \\right)} \\cos^{2}{\\left(\\theta^{1}_{0} \\right)} \\cos{\\left(\\theta^{3}_{0} \\right)} & \\sin^{2}{\\left(\\theta^{2}_{0} \\right)} \\sin^{2}{\\left(\\theta^{3}_{0} \\right)} \\cos^{2}{\\left(\\theta^{1}_{0} \\right)} & \\sin{\\left(\\theta^{1}_{0} \\right)} \\sin{\\left(\\theta^{2}_{0} \\right)} \\sin{\\left(\\theta^{3}_{0} \\right)} \\cos{\\left(\\theta^{1}_{0} \\right)} \\cos{\\left(\\theta^{2}_{0} \\right)} \\cos{\\left(\\theta^{3}_{0} \\right)} & \\sin{\\left(\\theta^{1}_{0} \\right)} \\sin{\\left(\\theta^{2}_{0} \\right)} \\sin^{2}{\\left(\\theta^{3}_{0} \\right)} \\cos{\\left(\\theta^{1}_{0} \\right)} \\cos{\\left(\\theta^{2}_{0} \\right)} & \\sin{\\left(\\theta^{1}_{0} \\right)} \\sin^{2}{\\left(\\theta^{2}_{0} \\right)} \\sin{\\left(\\theta^{3}_{0} \\right)} \\cos{\\left(\\theta^{1}_{0} \\right)} \\cos{\\left(\\theta^{3}_{0} \\right)} & \\sin{\\left(\\theta^{1}_{0} \\right)} \\sin^{2}{\\left(\\theta^{2}_{0} \\right)} \\sin^{2}{\\left(\\theta^{3}_{0} \\right)} \\cos{\\left(\\theta^{1}_{0} \\right)}\\\\\\sin{\\left(\\theta^{1}_{0} \\right)} \\cos{\\left(\\theta^{1}_{0} \\right)} \\cos^{2}{\\left(\\theta^{2}_{0} \\right)} \\cos^{2}{\\left(\\theta^{3}_{0} \\right)} & \\sin{\\left(\\theta^{1}_{0} \\right)} \\sin{\\left(\\theta^{3}_{0} \\right)} \\cos{\\left(\\theta^{1}_{0} \\right)} \\cos^{2}{\\left(\\theta^{2}_{0} \\right)} \\cos{\\left(\\theta^{3}_{0} \\right)} & \\sin{\\left(\\theta^{1}_{0} \\right)} \\sin{\\left(\\theta^{2}_{0} \\right)} \\cos{\\left(\\theta^{1}_{0} \\right)} \\cos{\\left(\\theta^{2}_{0} \\right)} \\cos^{2}{\\left(\\theta^{3}_{0} \\right)} & \\sin{\\left(\\theta^{1}_{0} \\right)} \\sin{\\left(\\theta^{2}_{0} \\right)} \\sin{\\left(\\theta^{3}_{0} \\right)} \\cos{\\left(\\theta^{1}_{0} \\right)} \\cos{\\left(\\theta^{2}_{0} \\right)} \\cos{\\left(\\theta^{3}_{0} \\right)} & \\sin^{2}{\\left(\\theta^{1}_{0} \\right)} \\cos^{2}{\\left(\\theta^{2}_{0} \\right)} \\cos^{2}{\\left(\\theta^{3}_{0} \\right)} & \\sin^{2}{\\left(\\theta^{1}_{0} \\right)} \\sin{\\left(\\theta^{3}_{0} \\right)} \\cos^{2}{\\left(\\theta^{2}_{0} \\right)} \\cos{\\left(\\theta^{3}_{0} \\right)} & \\sin^{2}{\\left(\\theta^{1}_{0} \\right)} \\sin{\\left(\\theta^{2}_{0} \\right)} \\cos{\\left(\\theta^{2}_{0} \\right)} \\cos^{2}{\\left(\\theta^{3}_{0} \\right)} & \\sin^{2}{\\left(\\theta^{1}_{0} \\right)} \\sin{\\left(\\theta^{2}_{0} \\right)} \\sin{\\left(\\theta^{3}_{0} \\right)} \\cos{\\left(\\theta^{2}_{0} \\right)} \\cos{\\left(\\theta^{3}_{0} \\right)}\\\\\\sin{\\left(\\theta^{1}_{0} \\right)} \\sin{\\left(\\theta^{3}_{0} \\right)} \\cos{\\left(\\theta^{1}_{0} \\right)} \\cos^{2}{\\left(\\theta^{2}_{0} \\right)} \\cos{\\left(\\theta^{3}_{0} \\right)} & \\sin{\\left(\\theta^{1}_{0} \\right)} \\sin^{2}{\\left(\\theta^{3}_{0} \\right)} \\cos{\\left(\\theta^{1}_{0} \\right)} \\cos^{2}{\\left(\\theta^{2}_{0} \\right)} & \\sin{\\left(\\theta^{1}_{0} \\right)} \\sin{\\left(\\theta^{2}_{0} \\right)} \\sin{\\left(\\theta^{3}_{0} \\right)} \\cos{\\left(\\theta^{1}_{0} \\right)} \\cos{\\left(\\theta^{2}_{0} \\right)} \\cos{\\left(\\theta^{3}_{0} \\right)} & \\sin{\\left(\\theta^{1}_{0} \\right)} \\sin{\\left(\\theta^{2}_{0} \\right)} \\sin^{2}{\\left(\\theta^{3}_{0} \\right)} \\cos{\\left(\\theta^{1}_{0} \\right)} \\cos{\\left(\\theta^{2}_{0} \\right)} & \\sin^{2}{\\left(\\theta^{1}_{0} \\right)} \\sin{\\left(\\theta^{3}_{0} \\right)} \\cos^{2}{\\left(\\theta^{2}_{0} \\right)} \\cos{\\left(\\theta^{3}_{0} \\right)} & \\sin^{2}{\\left(\\theta^{1}_{0} \\right)} \\sin^{2}{\\left(\\theta^{3}_{0} \\right)} \\cos^{2}{\\left(\\theta^{2}_{0} \\right)} & \\sin^{2}{\\left(\\theta^{1}_{0} \\right)} \\sin{\\left(\\theta^{2}_{0} \\right)} \\sin{\\left(\\theta^{3}_{0} \\right)} \\cos{\\left(\\theta^{2}_{0} \\right)} \\cos{\\left(\\theta^{3}_{0} \\right)} & \\sin^{2}{\\left(\\theta^{1}_{0} \\right)} \\sin{\\left(\\theta^{2}_{0} \\right)} \\sin^{2}{\\left(\\theta^{3}_{0} \\right)} \\cos{\\left(\\theta^{2}_{0} \\right)}\\\\\\sin{\\left(\\theta^{1}_{0} \\right)} \\sin{\\left(\\theta^{2}_{0} \\right)} \\cos{\\left(\\theta^{1}_{0} \\right)} \\cos{\\left(\\theta^{2}_{0} \\right)} \\cos^{2}{\\left(\\theta^{3}_{0} \\right)} & \\sin{\\left(\\theta^{1}_{0} \\right)} \\sin{\\left(\\theta^{2}_{0} \\right)} \\sin{\\left(\\theta^{3}_{0} \\right)} \\cos{\\left(\\theta^{1}_{0} \\right)} \\cos{\\left(\\theta^{2}_{0} \\right)} \\cos{\\left(\\theta^{3}_{0} \\right)} & \\sin{\\left(\\theta^{1}_{0} \\right)} \\sin^{2}{\\left(\\theta^{2}_{0} \\right)} \\cos{\\left(\\theta^{1}_{0} \\right)} \\cos^{2}{\\left(\\theta^{3}_{0} \\right)} & \\sin{\\left(\\theta^{1}_{0} \\right)} \\sin^{2}{\\left(\\theta^{2}_{0} \\right)} \\sin{\\left(\\theta^{3}_{0} \\right)} \\cos{\\left(\\theta^{1}_{0} \\right)} \\cos{\\left(\\theta^{3}_{0} \\right)} & \\sin^{2}{\\left(\\theta^{1}_{0} \\right)} \\sin{\\left(\\theta^{2}_{0} \\right)} \\cos{\\left(\\theta^{2}_{0} \\right)} \\cos^{2}{\\left(\\theta^{3}_{0} \\right)} & \\sin^{2}{\\left(\\theta^{1}_{0} \\right)} \\sin{\\left(\\theta^{2}_{0} \\right)} \\sin{\\left(\\theta^{3}_{0} \\right)} \\cos{\\left(\\theta^{2}_{0} \\right)} \\cos{\\left(\\theta^{3}_{0} \\right)} & \\sin^{2}{\\left(\\theta^{1}_{0} \\right)} \\sin^{2}{\\left(\\theta^{2}_{0} \\right)} \\cos^{2}{\\left(\\theta^{3}_{0} \\right)} & \\sin^{2}{\\left(\\theta^{1}_{0} \\right)} \\sin^{2}{\\left(\\theta^{2}_{0} \\right)} \\sin{\\left(\\theta^{3}_{0} \\right)} \\cos{\\left(\\theta^{3}_{0} \\right)}\\\\\\sin{\\left(\\theta^{1}_{0} \\right)} \\sin{\\left(\\theta^{2}_{0} \\right)} \\sin{\\left(\\theta^{3}_{0} \\right)} \\cos{\\left(\\theta^{1}_{0} \\right)} \\cos{\\left(\\theta^{2}_{0} \\right)} \\cos{\\left(\\theta^{3}_{0} \\right)} & \\sin{\\left(\\theta^{1}_{0} \\right)} \\sin{\\left(\\theta^{2}_{0} \\right)} \\sin^{2}{\\left(\\theta^{3}_{0} \\right)} \\cos{\\left(\\theta^{1}_{0} \\right)} \\cos{\\left(\\theta^{2}_{0} \\right)} & \\sin{\\left(\\theta^{1}_{0} \\right)} \\sin^{2}{\\left(\\theta^{2}_{0} \\right)} \\sin{\\left(\\theta^{3}_{0} \\right)} \\cos{\\left(\\theta^{1}_{0} \\right)} \\cos{\\left(\\theta^{3}_{0} \\right)} & \\sin{\\left(\\theta^{1}_{0} \\right)} \\sin^{2}{\\left(\\theta^{2}_{0} \\right)} \\sin^{2}{\\left(\\theta^{3}_{0} \\right)} \\cos{\\left(\\theta^{1}_{0} \\right)} & \\sin^{2}{\\left(\\theta^{1}_{0} \\right)} \\sin{\\left(\\theta^{2}_{0} \\right)} \\sin{\\left(\\theta^{3}_{0} \\right)} \\cos{\\left(\\theta^{2}_{0} \\right)} \\cos{\\left(\\theta^{3}_{0} \\right)} & \\sin^{2}{\\left(\\theta^{1}_{0} \\right)} \\sin{\\left(\\theta^{2}_{0} \\right)} \\sin^{2}{\\left(\\theta^{3}_{0} \\right)} \\cos{\\left(\\theta^{2}_{0} \\right)} & \\sin^{2}{\\left(\\theta^{1}_{0} \\right)} \\sin^{2}{\\left(\\theta^{2}_{0} \\right)} \\sin{\\left(\\theta^{3}_{0} \\right)} \\cos{\\left(\\theta^{3}_{0} \\right)} & \\sin^{2}{\\left(\\theta^{1}_{0} \\right)} \\sin^{2}{\\left(\\theta^{2}_{0} \\right)} \\sin^{2}{\\left(\\theta^{3}_{0} \\right)}\\end{matrix}\\right]$"
      ],
      "text/plain": [
       "Matrix([\n",
       "[                                    cos(theta_0^1)**2*cos(theta_0^2)**2*cos(theta_0^3)**2,                         sin(theta_0^3)*cos(theta_0^1)**2*cos(theta_0^2)**2*cos(theta_0^3),                         sin(theta_0^2)*cos(theta_0^1)**2*cos(theta_0^2)*cos(theta_0^3)**2,             sin(theta_0^2)*sin(theta_0^3)*cos(theta_0^1)**2*cos(theta_0^2)*cos(theta_0^3),                         sin(theta_0^1)*cos(theta_0^1)*cos(theta_0^2)**2*cos(theta_0^3)**2,             sin(theta_0^1)*sin(theta_0^3)*cos(theta_0^1)*cos(theta_0^2)**2*cos(theta_0^3),             sin(theta_0^1)*sin(theta_0^2)*cos(theta_0^1)*cos(theta_0^2)*cos(theta_0^3)**2, sin(theta_0^1)*sin(theta_0^2)*sin(theta_0^3)*cos(theta_0^1)*cos(theta_0^2)*cos(theta_0^3)],\n",
       "[                        sin(theta_0^3)*cos(theta_0^1)**2*cos(theta_0^2)**2*cos(theta_0^3),                                     sin(theta_0^3)**2*cos(theta_0^1)**2*cos(theta_0^2)**2,             sin(theta_0^2)*sin(theta_0^3)*cos(theta_0^1)**2*cos(theta_0^2)*cos(theta_0^3),                         sin(theta_0^2)*sin(theta_0^3)**2*cos(theta_0^1)**2*cos(theta_0^2),             sin(theta_0^1)*sin(theta_0^3)*cos(theta_0^1)*cos(theta_0^2)**2*cos(theta_0^3),                         sin(theta_0^1)*sin(theta_0^3)**2*cos(theta_0^1)*cos(theta_0^2)**2, sin(theta_0^1)*sin(theta_0^2)*sin(theta_0^3)*cos(theta_0^1)*cos(theta_0^2)*cos(theta_0^3),             sin(theta_0^1)*sin(theta_0^2)*sin(theta_0^3)**2*cos(theta_0^1)*cos(theta_0^2)],\n",
       "[                        sin(theta_0^2)*cos(theta_0^1)**2*cos(theta_0^2)*cos(theta_0^3)**2,             sin(theta_0^2)*sin(theta_0^3)*cos(theta_0^1)**2*cos(theta_0^2)*cos(theta_0^3),                                     sin(theta_0^2)**2*cos(theta_0^1)**2*cos(theta_0^3)**2,                         sin(theta_0^2)**2*sin(theta_0^3)*cos(theta_0^1)**2*cos(theta_0^3),             sin(theta_0^1)*sin(theta_0^2)*cos(theta_0^1)*cos(theta_0^2)*cos(theta_0^3)**2, sin(theta_0^1)*sin(theta_0^2)*sin(theta_0^3)*cos(theta_0^1)*cos(theta_0^2)*cos(theta_0^3),                         sin(theta_0^1)*sin(theta_0^2)**2*cos(theta_0^1)*cos(theta_0^3)**2,             sin(theta_0^1)*sin(theta_0^2)**2*sin(theta_0^3)*cos(theta_0^1)*cos(theta_0^3)],\n",
       "[            sin(theta_0^2)*sin(theta_0^3)*cos(theta_0^1)**2*cos(theta_0^2)*cos(theta_0^3),                         sin(theta_0^2)*sin(theta_0^3)**2*cos(theta_0^1)**2*cos(theta_0^2),                         sin(theta_0^2)**2*sin(theta_0^3)*cos(theta_0^1)**2*cos(theta_0^3),                                     sin(theta_0^2)**2*sin(theta_0^3)**2*cos(theta_0^1)**2, sin(theta_0^1)*sin(theta_0^2)*sin(theta_0^3)*cos(theta_0^1)*cos(theta_0^2)*cos(theta_0^3),             sin(theta_0^1)*sin(theta_0^2)*sin(theta_0^3)**2*cos(theta_0^1)*cos(theta_0^2),             sin(theta_0^1)*sin(theta_0^2)**2*sin(theta_0^3)*cos(theta_0^1)*cos(theta_0^3),                         sin(theta_0^1)*sin(theta_0^2)**2*sin(theta_0^3)**2*cos(theta_0^1)],\n",
       "[                        sin(theta_0^1)*cos(theta_0^1)*cos(theta_0^2)**2*cos(theta_0^3)**2,             sin(theta_0^1)*sin(theta_0^3)*cos(theta_0^1)*cos(theta_0^2)**2*cos(theta_0^3),             sin(theta_0^1)*sin(theta_0^2)*cos(theta_0^1)*cos(theta_0^2)*cos(theta_0^3)**2, sin(theta_0^1)*sin(theta_0^2)*sin(theta_0^3)*cos(theta_0^1)*cos(theta_0^2)*cos(theta_0^3),                                     sin(theta_0^1)**2*cos(theta_0^2)**2*cos(theta_0^3)**2,                         sin(theta_0^1)**2*sin(theta_0^3)*cos(theta_0^2)**2*cos(theta_0^3),                         sin(theta_0^1)**2*sin(theta_0^2)*cos(theta_0^2)*cos(theta_0^3)**2,             sin(theta_0^1)**2*sin(theta_0^2)*sin(theta_0^3)*cos(theta_0^2)*cos(theta_0^3)],\n",
       "[            sin(theta_0^1)*sin(theta_0^3)*cos(theta_0^1)*cos(theta_0^2)**2*cos(theta_0^3),                         sin(theta_0^1)*sin(theta_0^3)**2*cos(theta_0^1)*cos(theta_0^2)**2, sin(theta_0^1)*sin(theta_0^2)*sin(theta_0^3)*cos(theta_0^1)*cos(theta_0^2)*cos(theta_0^3),             sin(theta_0^1)*sin(theta_0^2)*sin(theta_0^3)**2*cos(theta_0^1)*cos(theta_0^2),                         sin(theta_0^1)**2*sin(theta_0^3)*cos(theta_0^2)**2*cos(theta_0^3),                                     sin(theta_0^1)**2*sin(theta_0^3)**2*cos(theta_0^2)**2,             sin(theta_0^1)**2*sin(theta_0^2)*sin(theta_0^3)*cos(theta_0^2)*cos(theta_0^3),                         sin(theta_0^1)**2*sin(theta_0^2)*sin(theta_0^3)**2*cos(theta_0^2)],\n",
       "[            sin(theta_0^1)*sin(theta_0^2)*cos(theta_0^1)*cos(theta_0^2)*cos(theta_0^3)**2, sin(theta_0^1)*sin(theta_0^2)*sin(theta_0^3)*cos(theta_0^1)*cos(theta_0^2)*cos(theta_0^3),                         sin(theta_0^1)*sin(theta_0^2)**2*cos(theta_0^1)*cos(theta_0^3)**2,             sin(theta_0^1)*sin(theta_0^2)**2*sin(theta_0^3)*cos(theta_0^1)*cos(theta_0^3),                         sin(theta_0^1)**2*sin(theta_0^2)*cos(theta_0^2)*cos(theta_0^3)**2,             sin(theta_0^1)**2*sin(theta_0^2)*sin(theta_0^3)*cos(theta_0^2)*cos(theta_0^3),                                     sin(theta_0^1)**2*sin(theta_0^2)**2*cos(theta_0^3)**2,                         sin(theta_0^1)**2*sin(theta_0^2)**2*sin(theta_0^3)*cos(theta_0^3)],\n",
       "[sin(theta_0^1)*sin(theta_0^2)*sin(theta_0^3)*cos(theta_0^1)*cos(theta_0^2)*cos(theta_0^3),             sin(theta_0^1)*sin(theta_0^2)*sin(theta_0^3)**2*cos(theta_0^1)*cos(theta_0^2),             sin(theta_0^1)*sin(theta_0^2)**2*sin(theta_0^3)*cos(theta_0^1)*cos(theta_0^3),                         sin(theta_0^1)*sin(theta_0^2)**2*sin(theta_0^3)**2*cos(theta_0^1),             sin(theta_0^1)**2*sin(theta_0^2)*sin(theta_0^3)*cos(theta_0^2)*cos(theta_0^3),                         sin(theta_0^1)**2*sin(theta_0^2)*sin(theta_0^3)**2*cos(theta_0^2),                         sin(theta_0^1)**2*sin(theta_0^2)**2*sin(theta_0^3)*cos(theta_0^3),                                     sin(theta_0^1)**2*sin(theta_0^2)**2*sin(theta_0^3)**2]])"
      ]
     },
     "execution_count": 14,
     "metadata": {},
     "output_type": "execute_result"
    }
   ],
   "source": [
    "tp(M2[0](1,0), M2[0](2,0), M2[0](3,0))"
   ]
  },
  {
   "cell_type": "code",
   "execution_count": 18,
   "id": "aef8b895-6339-4323-8ef6-c02e3ee262e2",
   "metadata": {},
   "outputs": [
    {
     "data": {
      "text/plain": [
       "[(0, 0, 0),\n",
       " (0, 0, 1),\n",
       " (0, 1, 0),\n",
       " (0, 1, 1),\n",
       " (1, 0, 0),\n",
       " (1, 0, 1),\n",
       " (1, 1, 0),\n",
       " (1, 1, 1)]"
      ]
     },
     "execution_count": 18,
     "metadata": {},
     "output_type": "execute_result"
    }
   ],
   "source": [
    "list(pr(A1,A1,A1))"
   ]
  },
  {
   "cell_type": "code",
   "execution_count": null,
   "id": "f734e8de-d821-417b-bd42-f784028c4844",
   "metadata": {},
   "outputs": [],
   "source": []
  }
 ],
 "metadata": {
  "kernelspec": {
   "display_name": "Python 3",
   "language": "python",
   "name": "python3"
  },
  "language_info": {
   "codemirror_mode": {
    "name": "ipython",
    "version": 3
   },
   "file_extension": ".py",
   "mimetype": "text/x-python",
   "name": "python",
   "nbconvert_exporter": "python",
   "pygments_lexer": "ipython3",
   "version": "3.9.5"
  }
 },
 "nbformat": 4,
 "nbformat_minor": 5
}
