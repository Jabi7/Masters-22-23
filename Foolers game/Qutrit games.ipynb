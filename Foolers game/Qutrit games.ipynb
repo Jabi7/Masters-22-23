{
 "cells": [
  {
   "cell_type": "markdown",
   "id": "fa931c8a-0767-44e3-9c6d-3bcca2615be5",
   "metadata": {},
   "source": [
    "# Qutrit games"
   ]
  },
  {
   "cell_type": "code",
   "execution_count": 1,
   "id": "4d08ef9e-19da-471b-92e5-f0d7dd7b1895",
   "metadata": {},
   "outputs": [],
   "source": [
    "from itertools import product as pr\n",
    "from sympy import Matrix, Symbol, latex, sqrt, sin, cos, simplify, Trace, Sum, expand, solve, lambdify\n",
    "from sympy.simplify.fu import fu, TR3\n",
    "from sympy.matrices import eye, zeros, ones, diag\n",
    "from sympy.physics.quantum import TensorProduct as tp, Dagger as dg\n",
    "from numpy import pi, around\n",
    "## trace\n",
    "def tr(m): \n",
    "    return Trace(m).simplify()"
   ]
  },
  {
   "cell_type": "markdown",
   "id": "112052d1-b938-4759-882e-33aa5059c678",
   "metadata": {},
   "source": [
    "### Arbitary normalised qutrit pure state\n",
    "\n",
    "$$\n",
    "|\\psi\\rangle=e^{i \\alpha} \\sin \\theta \\cos \\phi|1\\rangle+e^{i \\beta} \\sin \\theta \\sin \\phi|2\\rangle+\\cos \\theta|3\\rangle\n",
    "$$\n",
    "\n",
    "\n",
    "### Arbitary linearly independent qutrit basis\n",
    "\n",
    "$$\n",
    "|\\psi_0\\rangle=e^{i \\alpha} \\sin \\theta \\cos \\phi|1\\rangle+e^{i \\beta} \\sin \\theta \\sin \\phi|2\\rangle+\\cos \\theta|3\\rangle\n",
    "$$\n",
    "\n",
    "$$\n",
    "|\\psi_1\\rangle=e^{i \\alpha} \\sin \\theta \\cos \\phi|1\\rangle+e^{i \\beta} \\sin \\theta \\sin \\phi|2\\rangle+\\cos \\theta|3\\rangle\n",
    "$$\n",
    "\n",
    "$$\n",
    "|\\psi_2\\rangle=e^{i \\alpha} \\sin \\theta \\cos \\phi|1\\rangle+e^{i \\beta} \\sin \\theta \\sin \\phi|2\\rangle+\\cos \\theta|3\\rangle\n",
    "$$\n",
    "\n"
   ]
  },
  {
   "cell_type": "code",
   "execution_count": null,
   "id": "3cafa112-3434-4b62-b36b-3dc2fb65ab66",
   "metadata": {},
   "outputs": [],
   "source": [
    "# type and actions\n",
    "T1, T2, T3, A1, A2 = [0], [0], [0,1], [0,1,2], [0,1,2]\n",
    "# Measure basis\n",
    "phi1 = [lambda th, ph: Matrix([cos(ph)*cos(th), sin(ph)*cos(th), sin(th)]), lambda th, ph: Matrix([cos(ph)*sin(th), sin(ph)*sin(th), -cos(th)]),  lambda th, ph: Matrix([-sin(ph), cos(ph), 0])]\n",
    "phi2 = [lambda th: Matrix([cos(th), sin(th)]), lambda th: Matrix([sin(th), -cos(th)])]\n",
    "phi2i = [lambda th: Matrix([cos(th), 1j*sin(th)]), lambda th: Matrix([sin(th), -1j*cos(th)])]\n",
    "th = lambda player, typ: Symbol('theta'+'_'+str(typ)+'^'+str(player), real = True) \n",
    "ph = lambda player, typ: Symbol('phi'+'_'+str(typ)+'^'+str(player), complex = False)\n",
    "\n",
    "# pvm\n",
    "# M = [lambda player, typ: phi[a](th(player, typ))*phi[a](th(player, typ)).T for a in list([0,1])]\n",
    "M1 = [lambda player, typ: phi1[0](th(player, typ), ph(player, typ))*phi1[0](th(player, typ), ph(player, typ)).T, lambda player, typ: phi1[1](th(player, typ), ph(player, typ))*phi1[1](th(player, typ), ph(player, typ)).T, lambda player, typ: phi1[2](th(player, typ), ph(player, typ))*phi1[2](th(player, typ), ph(player, typ)).T]\n",
    "M2 = [lambda player, typ: phi2[0](th(player, typ))*phi2[0](th(player, typ)).T, lambda player, typ: phi2[1](th(player, typ))*phi2[1](th(player, typ)).T]\n",
    "\n",
    "Mi = [lambda player, typ: phi2i[0](th(player, typ))*phi2i[0](th(player, typ)).H, lambda player, typ: phi2i[1](th(player, typ))*phi2i[1](th(player, typ)).H]\n",
    "\n",
    "## pvm numerical"
   ]
  },
  {
   "cell_type": "code",
   "execution_count": null,
   "id": "87d06297-f5b0-4872-b357-5ab61f7a8541",
   "metadata": {},
   "outputs": [],
   "source": [
    "## STATE rho\n",
    "\n"
   ]
  },
  {
   "cell_type": "code",
   "execution_count": null,
   "id": "3cae2204-f616-4a99-84d3-3c9db0265aaa",
   "metadata": {},
   "outputs": [],
   "source": [
    "## Q(a|t) = Tr{rho M()}\n",
    "Qat = []"
   ]
  }
 ],
 "metadata": {
  "kernelspec": {
   "display_name": "Python 3",
   "language": "python",
   "name": "python3"
  },
  "language_info": {
   "codemirror_mode": {
    "name": "ipython",
    "version": 3
   },
   "file_extension": ".py",
   "mimetype": "text/x-python",
   "name": "python",
   "nbconvert_exporter": "python",
   "pygments_lexer": "ipython3",
   "version": "3.9.5"
  }
 },
 "nbformat": 4,
 "nbformat_minor": 5
}
