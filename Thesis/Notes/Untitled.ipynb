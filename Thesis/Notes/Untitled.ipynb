{
 "cells": [
  {
   "cell_type": "markdown",
   "id": "60d81b35-fe20-47b3-a7a6-ab2eff1e1c53",
   "metadata": {},
   "source": [
    "- a liberal quantum correlated equilibrium if $Q(a \\mid t) = \\operatorname{Tr}(\\rho \\bigotimes_iM^{t_i}_{a_i})$ and:\n",
    "\n",
    "\\begin{equation}\n",
    "\\sum_{a_{-i},t_{-i}}  \\operatorname{Tr}(\\rho \\bigotimes_i M^{t_i}_{a_i}) P(t) u_i(a,t) \\geq \\sum_{a_{-i},t_{-i}}  \\operatorname{Tr}(\\rho \\bigotimes_{j<i}M^{t_j}_{a_j} \\otimes I^{t_i} \\otimes \\bigotimes_{j>i}M^{t_j}_{a_j}) P(t) u_i(a_i^{\\prime}a_{-i},t_1t_2), \\quad \\forall a_i,a_i^{\\prime} \\in A_i, \\forall t_i \\in T_i \n",
    "\\end{equation}\n",
    "\n",
    "So if a quantum equilibrium is not a liberal quantum equilibrium, then greedy players wouldn't give a s about social welfare. "
   ]
  },
  {
   "cell_type": "code",
   "execution_count": null,
   "id": "81805a85-290b-4f8a-b9a6-1382f12d4377",
   "metadata": {},
   "outputs": [],
   "source": []
  }
 ],
 "metadata": {
  "kernelspec": {
   "display_name": "Python 3",
   "language": "python",
   "name": "python3"
  },
  "language_info": {
   "codemirror_mode": {
    "name": "ipython",
    "version": 3
   },
   "file_extension": ".py",
   "mimetype": "text/x-python",
   "name": "python",
   "nbconvert_exporter": "python",
   "pygments_lexer": "ipython3",
   "version": "3.9.5"
  }
 },
 "nbformat": 4,
 "nbformat_minor": 5
}
