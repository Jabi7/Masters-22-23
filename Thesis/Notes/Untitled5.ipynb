{
 "cells": [
  {
   "cell_type": "markdown",
   "metadata": {
    "id": "EP54EDnA1-nJ"
   },
   "source": [
    "### From Jabir:\n",
    "\n",
    "\n",
    "Consider bipartite game with $N = \\{1,2\\}$, action set $A_i$, type set $T_i$, $i\\in N$. And utility funtion $u_i:A_1\\times A_2\\times T_1\\times T_2 \\rightarrow \\mathbb{R}$. Joint distribution $P(t_1t_2)$,  $t_1 t_2 \\in T_1 \\times T_2$. <br><br>\n",
    "\n",
    "\n",
    "Let joint distribution $Q(a_1 a_2,t_1t_2) = Q(a_1 a_2 \\mid t_1t_2)P(t_1t_2)$<br><br>\n",
    "\n",
    "- At a time, the information within the vicinity of a player $i$ is $a_i\\in A_i$ and $t_i\\in T_i$. With this private information, and the shared public knowledge of Joint distribution Q, a player can produce the conditional probablity distribution of the other player's private information, given his own private information at a time. And thus, calculate his expected payoff for that instance.    \n",
    "\n",
    "So, $Q(a_1 a_2,t_1t_2)$ is equilibrium distribution if:\n",
    "\n",
    "- With respect to player 1, $\\forall a_1 \\in A_1, t_1 \\in T_1$:<br><br> \n",
    "$$\\sum_{a_2,t_2} Q(a_2t_2 \\mid a_1t_1) u_i(a_1a_2,t_1t_2) \\geq \\sum_{a_2,t_2} Q(a_2t_2 \\mid a_1t_1) u_i(a_1^{\\prime}a_2,t_1t_2), \\quad \\forall a_1^{\\prime}\\in A_1 $$\n",
    "\n",
    "<br>\n",
    "Now by bayes rule, $$Q(a_2t_2 \\mid a_1t_1) = \\frac{Q(a_1 a_2,t_1t_2)}{Q(a_1t_1)} = \\frac{Q(a_1 a_2 \\mid t_1t_2)P(t_1t_2)}{Q(a_1 \\mid t_1)P(t_1)}$$\n",
    "\n",
    "Where, $Q(a_1t_1) = \\sum_{a_2,t_2}Q(a_1 a_2,t_1t_2)$, $P(t_1) = \\sum_{t_2} P(t_1t_2)$ are the marginals. So substituting in the above inequality. \n",
    "\n",
    "\n",
    "$$\\sum_{a_2,t_2} \\frac{Q(a_1 a_2 \\mid t_1t_2)P(t_1t_2)}{Q(a_1 \\mid t_1)P(t_1)} u_i(a_1a_2,t_1t_2) \\geq \\sum_{a_2,t_2} \\frac{Q(a_1 a_2 \\mid t_1t_2)P(t_1t_2)}{Q(a_1 \\mid t_1)P(t_1)} u_i(a_1^{\\prime}a_2,t_1t_2), \\quad \\forall a_1^{\\prime}\\in A_1 $$\n",
    "\n",
    "Cancelling out the denominators,\n",
    "\n",
    "$$\\sum_{a_2,t_2}  Q(a_1 a_2 \\mid t_1t_2)P(t_1t_2) u_i(a_1a_2,t_1t_2) \\geq \\sum_{a_2,t_2}  Q(a_1 a_2 \\mid t_1t_2)P(t_1t_2) u_i(a_1^{\\prime}a_2,t_1t_2), \\quad \\forall a_1^{\\prime}\\in A_1 $$\n",
    "\n",
    "<br><br> \n",
    "- And So if, similiarly, with respect to player 2, $\\forall a_2 \\in A_2, t_2 \\in T_2$:<br><br> \n",
    "\n",
    "$$\\sum_{a_1,t_1}  Q(a_1 a_2 \\mid t_1t_2)P(t_1t_2) u_i(a_1a_2,t_1t_2) \\geq \\sum_{a_1,t_1}  Q(a_1 a_2 \\mid t_1t_2)P(t_1t_2) u_i(a_1a_2^{\\prime},t_1t_2), \\quad \\forall a_2^{\\prime}\\in A_2 $$\n",
    "\n",
    "\n",
    "<br><br>  \n",
    "\n",
    "It's straghtforward to generalise the definition to n-player games. \n",
    "\n",
    "**Definition 1**: Given an input profile set $T =\\times_iT_i$ with a joint distribution $P(t \\in T)$, and an output profile set $A =\\times_iA_i$, a correlation $Q(a\\mid t)$ is a liberal equilibrium of a game with utility functions $\\{u_i:A\\times T \\rightarrow \\mathbb{R}\\}$ if $ \\forall i \\in[n]$,\n",
    "<br><br>\n",
    "$$\\sum_{a_{-i},t_{-i}}  Q(a \\mid t)P(t) u_i(a,t) \\geq \\sum_{a_{-i},t_{-i}}  Q(a \\mid t)P(t) u_i(a_i^{\\prime}a_{-i},t_1t_2), \\quad \\forall a_i,a_i^{\\prime},\\in A_i, \\forall t_i \\in T_i $$\n",
    "<br><br>\n",
    "\n",
    "So essentially no player can optimize marginal expectaion. (Notice the sinister role of $t$ in the optimization. What is $t$? $t$ is somthing that's impossible for the players to change while it dictates their utility. I have been possing an treasured idea on this thought, which I'll write about later, only if I get time)  \n",
    "\n",
    "**So this should be the general defintion for any sort of equilibrium, given completely free unilateral diviation for players, without any sophisticated restrictions.** \n",
    "\n",
    "\n",
    "\n"
   ]
  },
  {
   "cell_type": "markdown",
   "metadata": {
    "id": "5AATZlozEnx0"
   },
   "source": [
    "### A correlation $Q(a \\mid t)$ is:\n",
    "\n",
    "- a Nash equilibrium if its a product distribution and liberal equilibrium:\n",
    "<br>\n",
    "i.e., $Q(a \\mid t) = \\prod_iQ(a_i \\mid t_i)$.  \n",
    "$$\\sum_{a_{-i},t_{-i}}  \\prod_jQ(a_j \\mid t_j)P(t) u_i(a,t) \\geq \\sum_{a_{-i},t_{-i}}  \\prod_jQ(a_j \\mid t_j)P(t) u_i(a_i^{\\prime}a_{-i},t_1t_2), \\quad \\forall a_i,a_i^{\\prime},\\in A_i, \\forall t_i \\in T_i $$\n",
    "\n",
    "$$\\implies \\sum_{a_{-i},t_{-i}}  \\prod_{j\\neq i}Q(a_j \\mid t_j) u_i(a,t) \\geq \\sum_{a_{-i},t_{-i}}  \\prod_{j\\neq i}Q(a_j \\mid t_j)P(t) u_i(a_i^{\\prime}a_{-i},t_1t_2), \\quad \\forall a_i,a_i^{\\prime},\\in A_i, \\forall t_i \\in T_i $$\n",
    "\n",
    "\n",
    "Which of course is the definition of nash equilibrium.\n",
    "<br><br>\n",
    "- an Aumman's correlated equilbrium if its a local correlation and liberal equilibrium.\n",
    "<br>\n",
    "i.e., $Q(a \\mid t) = \\sum_{\\lambda}\\prod_iQ(a_i \\mid t_i, \\lambda)\\Lambda(\\lambda)$. \n",
    "<br><br>\n",
    "$$\\sum_{a_{-i},t_{-i}}  \\sum_{\\lambda}\\prod_jQ(a_j \\mid t_j, \\lambda)\\Lambda(\\lambda) u_i(a,t) \\geq \\sum_{a_{-i},t_{-i}}  \\sum_{\\lambda}\\prod_jQ(a_j \\mid t_j, \\lambda)\\Lambda(\\lambda)P(t) u_i(a_i^{\\prime}a_{-i},t_1t_2), \\quad \\forall a_i,a_i^{\\prime},\\in A_i, \\forall t_i \\in T_i $$\n",
    "\n",
    "Which we cannot strike out $Q(a_i \\mid t_i)$ on both sides unlike nash.\n",
    "\n"
   ]
  },
  {
   "cell_type": "markdown",
   "metadata": {},
   "source": [
    "- a liberal quantum correlated equilibrium if $Q(a \\mid t) = \\operatorname{Tr}(\\rho \\bigotimes_iM^{t_i}_{a_i})$ and:\n",
    "\n",
    "\\begin{equation}\n",
    "\\sum_{a_{-i},t_{-i}}  \\operatorname{Tr}(\\rho \\bigotimes_iM^{t_i}_{a_i}) P(t) u_i(a,t) \\geq \\sum_{a_{-i},t_{-i}}  \\operatorname{Tr}(\\rho \\bigotimes_{j < i}M^{t_j}_{a_j} \\otimes I^{t_i} \\otimes \\bigotimes_{j>i}M^{t_j}_{a_j}) P(t) u_i(a_i^{\\prime}a_{-i},t_1t_2), \\quad \\forall a_i,a_i^{\\prime} \\in A_i, \\forall t_i \\in T_i \n",
    "\\end{equation}\n",
    "\n",
    "So if a quantum equilibrium is not a liberal quantum equilibrium, then greedy players wouldn't give a s about social welfare. "
   ]
  },
  {
   "cell_type": "code",
   "execution_count": null,
   "metadata": {},
   "outputs": [],
   "source": []
  },
  {
   "cell_type": "code",
   "execution_count": null,
   "metadata": {},
   "outputs": [],
   "source": []
  },
  {
   "cell_type": "markdown",
   "metadata": {
    "id": "sbPGfxp7TZqv"
   },
   "source": [
    "# Reformulation\n",
    "(you dont have to comment on this right now as work is still incomplete and I'm leaving it for next semester. I am avoiding reformulations as adviced. Though I don't know if the stuff I wrote above is actually a \"reformulation\")\n",
    "\n",
    "In my previous notebook I wrote the definition:\n",
    "\n",
    "\"The strategy profile $Q^t_a$ is an equilibrium if for every possible deviation $Q^t_a \\rightarrow D^{t}_a(i)$ caused by unilateral deviation of each player $i \\in [n]$, \n",
    "\n",
    "$$\\mathbf{1}^a \\big(Q^t_a\\circ v^t_a(i)\\big) P_t \\geq \\mathbf{1}^a \\big(D^t_a(i)\\circ v^t_a(i)\\big) P_t \\quad \\forall i \\in [n]$$\n",
    "\n",
    "where $v^t_a(i)$ is the payoff tensor corresponding to player $i$, i.e., component of $v^t_a(i)$ is the projection of $v^{[t]}_{[a]} \\in \\mathbb{R}^n$ to player $i$.\"\n"
   ]
  },
  {
   "cell_type": "markdown",
   "metadata": {},
   "source": [
    "Which in standard notation is: $$\\sum_{a,t}Q(a\\mid t) P(t)u_i(a,t) \\geq \\sum_{a,t}D(a\\mid t)(i) P(t)u_i(a,t) \\quad \\forall i$$. The $D(a\\mid t)(i)$ is the same what Andreas used in his note ($Q^{\\prime}$). \n",
    "\n",
    "Here of course, if $Q(a\\mid t)$ is non-signalling, then the uninalteral deviation is marginal of rest of the players product devated strategy of player i: $$D(a\\mid t)D(i) = \\sum_{a_i}Q\\big(a\\mid t_{-i} [t_i]\\big)Q(a_i \\mid t_i)$$\n",
    "\n",
    "Where for now $Q(a_i \\mid t_i) = \\delta_{t_i,g(t_i)}$ being determinstic noisy channel would be sufficient (of course there's room for different kinds of quantum deviation for above defintion, and also of course if strategy space is non-finite).\n",
    "\n",
    "My task: to see the equivalence of this definition with Definition 1."
   ]
  },
  {
   "cell_type": "code",
   "execution_count": null,
   "metadata": {},
   "outputs": [],
   "source": []
  },
  {
   "cell_type": "code",
   "execution_count": null,
   "metadata": {},
   "outputs": [],
   "source": []
  },
  {
   "cell_type": "markdown",
   "metadata": {},
   "source": [
    ".........."
   ]
  },
  {
   "cell_type": "code",
   "execution_count": null,
   "metadata": {},
   "outputs": [],
   "source": []
  }
 ],
 "metadata": {
  "colab": {
   "provenance": []
  },
  "kernelspec": {
   "display_name": "Python 3",
   "language": "python",
   "name": "python3"
  },
  "language_info": {
   "codemirror_mode": {
    "name": "ipython",
    "version": 3
   },
   "file_extension": ".py",
   "mimetype": "text/x-python",
   "name": "python",
   "nbconvert_exporter": "python",
   "pygments_lexer": "ipython3",
   "version": "3.9.5"
  }
 },
 "nbformat": 4,
 "nbformat_minor": 4
}
